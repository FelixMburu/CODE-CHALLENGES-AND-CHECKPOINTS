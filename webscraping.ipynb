{
  "cells": [
    {
      "cell_type": "markdown",
      "metadata": {
        "id": "view-in-github",
        "colab_type": "text"
      },
      "source": [
        "<a href=\"https://colab.research.google.com/github/FelixMburu/CODE-CHALLENGES-AND-CHECKPOINTS/blob/main/webscraping.ipynb\" target=\"_parent\"><img src=\"https://colab.research.google.com/assets/colab-badge.svg\" alt=\"Open In Colab\"/></a>"
      ]
    },
    {
      "cell_type": "markdown",
      "metadata": {
        "toc": true,
        "id": "OtIcwARP_kcB"
      },
      "source": [
        "<h1>Table of Contents<span class=\"tocSkip\"></span></h1>\n",
        "<div class=\"toc\"><ul class=\"toc-item\"><li><span><a href=\"#Web-Scraping-with-BeautifulSoup\" data-toc-modified-id=\"Web-Scraping-with-BeautifulSoup-1\"><span class=\"toc-item-num\">1&nbsp;&nbsp;</span>Web Scraping with BeautifulSoup</a></span><ul class=\"toc-item\"><li><span><a href=\"#Objectives:\" data-toc-modified-id=\"Objectives:-1.1\"><span class=\"toc-item-num\">1.1&nbsp;&nbsp;</span>Objectives:</a></span></li><li><span><a href=\"#Context\" data-toc-modified-id=\"Context-1.2\"><span class=\"toc-item-num\">1.2&nbsp;&nbsp;</span>Context</a></span></li><li><span><a href=\"#The-components-of-a-web-page\" data-toc-modified-id=\"The-components-of-a-web-page-1.3\"><span class=\"toc-item-num\">1.3&nbsp;&nbsp;</span>The components of a web page</a></span><ul class=\"toc-item\"><li><span><a href=\"#HTML\" data-toc-modified-id=\"HTML-1.3.1\"><span class=\"toc-item-num\">1.3.1&nbsp;&nbsp;</span>HTML</a></span></li><li><span><a href=\"#Let's-take-a-look-at-a-sample-web-page-from-our-local-computer\" data-toc-modified-id=\"Let's-take-a-look-at-a-sample-web-page-from-our-local-computer-1.3.2\"><span class=\"toc-item-num\">1.3.2&nbsp;&nbsp;</span>Let's take a look at a sample web page from our local computer</a></span></li></ul></li><li><span><a href=\"#Make-a-sample-webpage\" data-toc-modified-id=\"Make-a-sample-webpage-1.4\"><span class=\"toc-item-num\">1.4&nbsp;&nbsp;</span>Make a sample webpage</a></span></li><li><span><a href=\"#Webscraping-with-Python\" data-toc-modified-id=\"Webscraping-with-Python-1.5\"><span class=\"toc-item-num\">1.5&nbsp;&nbsp;</span>Webscraping with Python</a></span><ul class=\"toc-item\"><li><span><a href=\"#The-requests-library\" data-toc-modified-id=\"The-requests-library-1.5.1\"><span class=\"toc-item-num\">1.5.1&nbsp;&nbsp;</span>The requests library</a></span></li><li><span><a href=\"#Parsing-a-page-with-BeautifulSoup\" data-toc-modified-id=\"Parsing-a-page-with-BeautifulSoup-1.5.2\"><span class=\"toc-item-num\">1.5.2&nbsp;&nbsp;</span>Parsing a page with BeautifulSoup</a></span></li><li><span><a href=\"#Finding-all-instances-of-a-tag-at-once\" data-toc-modified-id=\"Finding-all-instances-of-a-tag-at-once-1.5.3\"><span class=\"toc-item-num\">1.5.3&nbsp;&nbsp;</span>Finding all instances of a tag at once</a></span></li><li><span><a href=\"#Searching-for-tags-by-class-and-id\" data-toc-modified-id=\"Searching-for-tags-by-class-and-id-1.5.4\"><span class=\"toc-item-num\">1.5.4&nbsp;&nbsp;</span>Searching for tags by class and id</a></span></li><li><span><a href=\"#More-sophisticated-webpages\" data-toc-modified-id=\"More-sophisticated-webpages-1.5.5\"><span class=\"toc-item-num\">1.5.5&nbsp;&nbsp;</span>More sophisticated webpages</a></span></li><li><span><a href=\"#Pulling-in-a-Table\" data-toc-modified-id=\"Pulling-in-a-Table-1.5.6\"><span class=\"toc-item-num\">1.5.6&nbsp;&nbsp;</span>Pulling in a Table</a></span></li></ul></li><li><span><a href=\"#Combining-our-data-into-a-Pandas-DataFrame\" data-toc-modified-id=\"Combining-our-data-into-a-Pandas-DataFrame-1.6\"><span class=\"toc-item-num\">1.6&nbsp;&nbsp;</span>Combining our data into a Pandas DataFrame</a></span></li></ul></li></ul></div>"
      ]
    },
    {
      "cell_type": "code",
      "execution_count": null,
      "metadata": {
        "id": "78CHD519_kcF"
      },
      "outputs": [],
      "source": [
        "import requests\n",
        "from bs4 import BeautifulSoup\n",
        "import pandas as pd"
      ]
    },
    {
      "cell_type": "markdown",
      "metadata": {
        "id": "4rEkyXLv_kcG"
      },
      "source": [
        "<img width=50% src=\"https://images.unsplash.com/photo-1542831371-29b0f74f9713?ixid=MXwxMjA3fDB8MHxzZWFyY2h8MXx8aHRtbHxlbnwwfHwwfA%3D%3D&ixlib=rb-1.2.1&auto=format&fit=crop&w=800&q=60\" />"
      ]
    },
    {
      "cell_type": "markdown",
      "metadata": {
        "heading_collapsed": true,
        "id": "yP3aHAms_kcH"
      },
      "source": [
        "# Web Scraping with BeautifulSoup"
      ]
    },
    {
      "cell_type": "markdown",
      "metadata": {
        "heading_collapsed": true,
        "hidden": true,
        "id": "Xu2Golxe_kcH"
      },
      "source": [
        "## Learning Goals:  "
      ]
    },
    {
      "cell_type": "markdown",
      "metadata": {
        "hidden": true,
        "id": "1VVKM-0u_kcH"
      },
      "source": [
        "- Parse HTML and CSS elements in webpages\n",
        "- Use `requests` and `BeautifulSoup` to get and process webpage contents\n",
        "- Use ethics when scraping websites"
      ]
    },
    {
      "cell_type": "markdown",
      "metadata": {
        "heading_collapsed": true,
        "hidden": true,
        "id": "VHjVvZFI_kcH"
      },
      "source": [
        "## Context"
      ]
    },
    {
      "cell_type": "markdown",
      "metadata": {
        "hidden": true,
        "id": "C3DLkqzD_kcI"
      },
      "source": [
        "We have already developed many ways of interacting with data.  We are able to:\n",
        "\n",
        "* import .csv files (and other .csv-like objects)\n",
        "* gather data from API's and interact with JSON objects\n",
        "* query SQL databases\n",
        "\n",
        "There is publicly available data all over the internet ripe for scraping, whether that be artist information data from wikipedia, song lyrics from songlyrics.com, or texts of famous books from Project Gutenberg. Below, we will learn how to navigate HTML and CSS to bring data into our local computers."
      ]
    },
    {
      "cell_type": "markdown",
      "metadata": {
        "heading_collapsed": true,
        "hidden": true,
        "id": "ji17c_CZ_kcI"
      },
      "source": [
        "## The components of a web page"
      ]
    },
    {
      "cell_type": "markdown",
      "metadata": {
        "hidden": true,
        "id": "VYMBLuEG_kcI"
      },
      "source": [
        "When we visit a web page, our web browser makes a GET request to a web server. The server then sends back files that tell our browser how to render the page for us. The files fall into a few main types:\n",
        "\n",
        "- HTML — contain the main content of the page.\n",
        "- CSS — add styling to make the page look nicer.\n",
        "- JS — Javascript files add interactivity to web pages.\n",
        "- Images — image formats, such as JPG and PNG allow web pages to show pictures.\n",
        "\n",
        "After our browser receives all the files, it renders the page and displays it to us. There’s a lot that happens behind the scenes to render a page nicely, but we don’t need to worry about most of it when we’re web scraping."
      ]
    },
    {
      "cell_type": "markdown",
      "metadata": {
        "heading_collapsed": true,
        "hidden": true,
        "id": "anbWGzdx_kcJ"
      },
      "source": [
        "### HTML"
      ]
    },
    {
      "cell_type": "markdown",
      "metadata": {
        "hidden": true,
        "id": "LZuUGJku_kcJ"
      },
      "source": [
        "HyperText Markup Language (HTML) is a language that web pages are created in. HTML isn’t a programming language, like Python — instead, it’s a markup language that tells a browser how to layout content.\n",
        "\n",
        "Let’s take a quick tour through HTML so we know enough to scrape effectively. HTML consists of elements called tags. The most basic tag is the `<html>` tag. This tag tells the web browser that everything inside of it is HTML. We can make a simple HTML document just using this tag:\n",
        "\n",
        "~~~html\n",
        "<html>\n",
        "</html>\n",
        "~~~"
      ]
    },
    {
      "cell_type": "markdown",
      "metadata": {
        "hidden": true,
        "id": "2GiS5Gzn_kcK"
      },
      "source": [
        "Right inside an html tag, we put two other tags, the head tag, and the body tag. The main content of the web page goes into the body tag. The head tag contains data about the title of the page, and other information that generally isn’t useful in web scraping:\n",
        "\n",
        "~~~html\n",
        "<html>\n",
        "    <head>\n",
        "    </head>\n",
        "    <body>\n",
        "    </body>\n",
        "</html>\n",
        "~~~"
      ]
    },
    {
      "cell_type": "markdown",
      "metadata": {
        "hidden": true,
        "id": "zXbl87tI_kcK"
      },
      "source": [
        "We’ll now add our first content to the page, in the form of the p tag. The p tag defines a paragraph, and any text inside the tag is shown as a separate paragraph:\n",
        "~~~html\n",
        "<html>\n",
        "    <head>\n",
        "    </head>\n",
        "    <body>\n",
        "          <p>\n",
        "            Here's a paragraph of text!\n",
        "        </p>\n",
        "        <p>\n",
        "            Here's a second paragraph of text!\n",
        "        </p>\n",
        "    </body>\n",
        "</html>\n",
        "~~~"
      ]
    },
    {
      "cell_type": "markdown",
      "metadata": {
        "hidden": true,
        "id": "Rqf25Jjn_kcK"
      },
      "source": [
        "<html>\n",
        "    <head>\n",
        "    </head>\n",
        "    <body>\n",
        "          <p>\n",
        "            Here's a paragraph of text!\n",
        "        </p>\n",
        "        <p>\n",
        "            Here's a second paragraph of text!\n",
        "        </p>\n",
        "    </body>\n",
        "</html>"
      ]
    },
    {
      "cell_type": "markdown",
      "metadata": {
        "hidden": true,
        "id": "ZdtCEwoc_kcK"
      },
      "source": [
        "Tags have commonly used names that depend on their position in relation to other tags:\n",
        "\n",
        "- **child** — a child is a tag inside another tag. So the two p tags above are both children of the body tag.\n",
        "- **parent** — a parent is the tag another tag is inside. Above, the html tag is the parent of the body tag.\n",
        "- **sibiling** — a sibiling is a tag that is nested inside the same parent as another tag. For example, head and body are siblings, since they’re both inside html. Both p tags are siblings, since they’re both inside body."
      ]
    },
    {
      "cell_type": "markdown",
      "metadata": {
        "hidden": true,
        "id": "4NXekFry_kcK"
      },
      "source": [
        "We can also add properties to HTML tags that change their behavior:\n",
        "\n",
        "~~~html\n",
        "<html>\n",
        "  <head></head>\n",
        "  <body>\n",
        "    <p>\n",
        "      Here's a paragraph of text!\n",
        "      <a href=\"https://www.dataquest.io\">Learn Data Science Online</a>\n",
        "    </p>\n",
        "    <p>\n",
        "      Here's a second paragraph of text!\n",
        "      <a href=\"https://www.python.org\">Python</a>        \n",
        "    </p>\n",
        "  </body>\n",
        "</html>\n",
        "~~~"
      ]
    },
    {
      "cell_type": "markdown",
      "metadata": {
        "hidden": true,
        "id": "CIPBwx4l_kcK"
      },
      "source": [
        "<html>\n",
        "    <head>\n",
        "    </head>\n",
        "    <body>\n",
        "        <p>\n",
        "            Here's a paragraph of text!\n",
        "            <a href=\"https://www.dataquest.io\">Learn Data Science Online</a>\n",
        "        </p>\n",
        "        <p>\n",
        "            Here's a second paragraph of text!\n",
        "            <a href=\"https://www.python.org\">Python</a>        </p>\n",
        "    </body></html>"
      ]
    },
    {
      "cell_type": "markdown",
      "metadata": {
        "hidden": true,
        "id": "oUx2duby_kcL"
      },
      "source": [
        "In the above example, we added two a tags. a tags are links, and tell the browser to render a link to another web page. The href property of the tag determines where the link goes.\n",
        "\n",
        "a and p are extremely common html tags. Here are a few others:\n",
        "\n",
        "- *div*: indicates a division, or area, of the page.\n",
        "- *b*: bolds any text inside.\n",
        "- *i*: italicizes any text inside.\n",
        "- *u*: underlines any text inside.\n",
        "- *table*: creates a table.\n",
        "- *form*: creates an input form.\n",
        "\n",
        "\n",
        "For a full list of tags, look [here](https://developer.mozilla.org/en-US/docs/Web/HTML/Element)."
      ]
    },
    {
      "cell_type": "markdown",
      "metadata": {
        "hidden": true,
        "id": "84YHGb8N_kcL"
      },
      "source": [
        "<html>\n",
        "    <b>bold</b> <br/>\n",
        "    <i>italics</i> <br/>\n",
        "    <u>underlining</u>\n",
        "</html>"
      ]
    },
    {
      "cell_type": "markdown",
      "metadata": {
        "hidden": true,
        "id": "u60r6940_kcL"
      },
      "source": [
        "There are two special properties that give HTML elements names, and make them easier to interact with when we’re scraping: **class** and **id**.\n",
        "\n",
        "- One element can have multiple classes, and a class can be shared between elements.\n",
        "- Each element can only have one id, and an id can only be used once on a page.\n",
        "- Classes and ids are optional, and not all elements will have them.\n",
        "\n",
        "We can add classes and ids to our example:\n",
        "\n",
        "~~~html\n",
        "<html>\n",
        "    <head>\n",
        "    </head>\n",
        "    <body>\n",
        "        <p class=\"bold-paragraph\">\n",
        "            Here's a paragraph of text!\n",
        "            <a href=\"https://www.dataquest.io\" id=\"learn-link\">Learn Data Science Online</a>\n",
        "        </p>\n",
        "        <p class=\"bold-paragraph extra-large\">\n",
        "            Here's a second paragraph of text!\n",
        "            <a href=\"https://www.python.org\" class=\"extra-large\">Python</a>\n",
        "        </p>\n",
        "    </body>\n",
        "</html>\n",
        "~~~"
      ]
    },
    {
      "cell_type": "markdown",
      "metadata": {
        "hidden": true,
        "id": "aV_ZBWUH_kcL"
      },
      "source": [
        "<html>\n",
        "    <head>\n",
        "    </head>\n",
        "    <body>\n",
        "        <p class=\"bold-paragraph\">\n",
        "            Here's a paragraph of text!\n",
        "            <a href=\"https://www.dataquest.io\" id=\"learn-link\">Learn Data Science Online</a>\n",
        "        </p>\n",
        "        <p class=\"bold-paragraph extra-large\">\n",
        "            Here's a second paragraph of text!\n",
        "            <a href=\"https://www.python.org\" class=\"extra-large\">Python</a>\n",
        "        </p>\n",
        "    </body>\n",
        "</html>"
      ]
    },
    {
      "cell_type": "markdown",
      "metadata": {
        "heading_collapsed": true,
        "hidden": true,
        "id": "lhUQMwkY_kcL"
      },
      "source": [
        "### Let's take a look at a sample web page from our local computer"
      ]
    },
    {
      "cell_type": "markdown",
      "metadata": {
        "hidden": true,
        "id": "T9l5_0Ol_kcL"
      },
      "source": [
        "- Open up example.com in your browser.\n",
        "- Open up the inspector\n",
        "    - Mac: cmd+option+c\n",
        "    - Windows: ctrl+shift+c\n",
        "- Click on the elements tab, and click on an element"
      ]
    },
    {
      "cell_type": "markdown",
      "metadata": {
        "heading_collapsed": true,
        "hidden": true,
        "id": "U5iRZStk_kcL"
      },
      "source": [
        "## Make a sample webpage"
      ]
    },
    {
      "cell_type": "markdown",
      "metadata": {
        "hidden": true,
        "id": "V4OVWfsH_kcM"
      },
      "source": [
        "Use [this site](https://htmledit.squarefree.com/) to see your page as you edit the underlying html."
      ]
    },
    {
      "cell_type": "markdown",
      "metadata": {
        "heading_collapsed": true,
        "hidden": true,
        "id": "ueWmepp9_kcM"
      },
      "source": [
        "## Webscraping with Python"
      ]
    },
    {
      "cell_type": "markdown",
      "metadata": {
        "heading_collapsed": true,
        "hidden": true,
        "id": "UL49l3uE_kcM"
      },
      "source": [
        "### The requests library"
      ]
    },
    {
      "cell_type": "markdown",
      "metadata": {
        "hidden": true,
        "id": "P5ukk0fq_kcM"
      },
      "source": [
        "The first thing we’ll need to do to scrape a web page is to download the page. We can download pages using the Python requests library (similar to interacting with APIs!)."
      ]
    },
    {
      "cell_type": "code",
      "execution_count": null,
      "metadata": {
        "hidden": true,
        "id": "QMlympRI_kcM",
        "colab": {
          "base_uri": "https://localhost:8080/"
        },
        "outputId": "ed7f56a6-a9bb-4aeb-db0a-3ac401126160"
      },
      "outputs": [
        {
          "output_type": "stream",
          "name": "stdout",
          "text": [
            "<Response [200]>\n"
          ]
        }
      ],
      "source": [
        "# Using python to make a request to this HTML page\n",
        "req = requests.get(\"http://dataquestio.github.io/web-scraping-pages/ids_and_classes.html\")\n",
        "print(req)"
      ]
    },
    {
      "cell_type": "markdown",
      "metadata": {
        "hidden": true,
        "id": "obDWlUSB_kcM"
      },
      "source": [
        "After running our request, we get a Response object. This object has a status_code property, which indicates if the page was downloaded successfully:"
      ]
    },
    {
      "cell_type": "code",
      "execution_count": null,
      "metadata": {
        "hidden": true,
        "id": "HltLQ_eT_kcN",
        "colab": {
          "base_uri": "https://localhost:8080/"
        },
        "outputId": "6f1d5884-bea1-4299-bccd-a54ab17a0a17"
      },
      "outputs": [
        {
          "output_type": "execute_result",
          "data": {
            "text/plain": [
              "200"
            ]
          },
          "metadata": {},
          "execution_count": 4
        }
      ],
      "source": [
        "req.status_code"
      ]
    },
    {
      "cell_type": "markdown",
      "metadata": {
        "hidden": true,
        "id": "3O7UCNRr_kcN"
      },
      "source": [
        "We can print out the HTML content of the page using the content property:"
      ]
    },
    {
      "cell_type": "code",
      "execution_count": null,
      "metadata": {
        "hidden": true,
        "id": "XqM1VVEe_kcN",
        "colab": {
          "base_uri": "https://localhost:8080/"
        },
        "outputId": "b2534ac6-da18-4198-9690-7553af74386e"
      },
      "outputs": [
        {
          "output_type": "execute_result",
          "data": {
            "text/plain": [
              "b'<html>\\n    <head>\\n        <title>A simple example page</title>\\n    </head>\\n    <body>\\n        <div>\\n            <p class=\"inner-text first-item\" id=\"first\">\\n                First paragraph.\\n            </p>\\n            <p class=\"inner-text\">\\n                Second paragraph.\\n            </p>\\n        </div>\\n        <p class=\"outer-text first-item\" id=\"second\">\\n            <b>\\n                First outer paragraph.\\n            </b>\\n        </p>\\n        <p class=\"outer-text\">\\n            <b>\\n                Second outer paragraph.\\n            </b>\\n        </p>\\n    </body>\\n</html>'"
            ]
          },
          "metadata": {},
          "execution_count": 4
        }
      ],
      "source": [
        "req.content"
      ]
    },
    {
      "cell_type": "markdown",
      "metadata": {
        "heading_collapsed": true,
        "hidden": true,
        "id": "AnyP8IDm_kcN"
      },
      "source": [
        "### Parsing a page with BeautifulSoup"
      ]
    },
    {
      "cell_type": "markdown",
      "metadata": {
        "hidden": true,
        "id": "EJgS9jm5_kcN"
      },
      "source": [
        "We can use the BeautifulSoup library to parse this document, and extract the text from the `<p>` tag."
      ]
    },
    {
      "cell_type": "code",
      "execution_count": null,
      "metadata": {
        "hidden": true,
        "id": "WV7apmn7_kcO",
        "colab": {
          "base_uri": "https://localhost:8080/"
        },
        "outputId": "e44c5d9a-f888-45d5-816f-3f37d432331e"
      },
      "outputs": [
        {
          "output_type": "execute_result",
          "data": {
            "text/plain": [
              "[<html>\n",
              " <head>\n",
              " <title>A simple example page</title>\n",
              " </head>\n",
              " <body>\n",
              " <div>\n",
              " <p class=\"inner-text first-item\" id=\"first\">\n",
              "                 First paragraph.\n",
              "             </p>\n",
              " <p class=\"inner-text\">\n",
              "                 Second paragraph.\n",
              "             </p>\n",
              " </div>\n",
              " <p class=\"outer-text first-item\" id=\"second\">\n",
              " <b>\n",
              "                 First outer paragraph.\n",
              "             </b>\n",
              " </p>\n",
              " <p class=\"outer-text\">\n",
              " <b>\n",
              "                 Second outer paragraph.\n",
              "             </b>\n",
              " </p>\n",
              " </body>\n",
              " </html>]"
            ]
          },
          "metadata": {},
          "execution_count": 5
        }
      ],
      "source": [
        " soup = BeautifulSoup(req.content,features='html.parser')\n",
        "list(soup.children)"
      ]
    },
    {
      "cell_type": "code",
      "execution_count": null,
      "metadata": {
        "hidden": true,
        "id": "y1E8WuvV_kcO",
        "colab": {
          "base_uri": "https://localhost:8080/"
        },
        "outputId": "5806d913-f766-4922-9498-7fff5c16c234"
      },
      "outputs": [
        {
          "output_type": "stream",
          "name": "stdout",
          "text": [
            "<!DOCTYPE html>\n",
            "<html>\n",
            " <head>\n",
            "  <title>\n",
            "   A simple example page\n",
            "  </title>\n",
            " </head>\n",
            " <body>\n",
            "  <p>\n",
            "   Here is some simple content for this page.\n",
            "  </p>\n",
            " </body>\n",
            "</html>\n",
            "\n"
          ]
        }
      ],
      "source": [
        " print(soup.prettify())"
      ]
    },
    {
      "cell_type": "markdown",
      "metadata": {
        "hidden": true,
        "id": "3NxrlK3O_kcO"
      },
      "source": [
        "As all the tags are nested, we can move through the structure one level at a time. We can first select all the elements at the top level of the page using the `children` property of `soup`."
      ]
    },
    {
      "cell_type": "code",
      "execution_count": null,
      "metadata": {
        "hidden": true,
        "id": "96r0KHBc_kcT",
        "colab": {
          "base_uri": "https://localhost:8080/"
        },
        "outputId": "af84da3b-20a3-430b-94b9-c045a10b106f"
      },
      "outputs": [
        {
          "output_type": "execute_result",
          "data": {
            "text/plain": [
              "['html',\n",
              " <html>\n",
              " <head>\n",
              " <title>A simple example page</title>\n",
              " </head>\n",
              " <body>\n",
              " <p>Here is some simple content for this page.</p>\n",
              " </body>\n",
              " </html>]"
            ]
          },
          "metadata": {},
          "execution_count": 8
        }
      ],
      "source": [
        "list(soup.children)"
      ]
    },
    {
      "cell_type": "code",
      "execution_count": null,
      "metadata": {
        "hidden": true,
        "id": "7tGjm8UW_kcT",
        "colab": {
          "base_uri": "https://localhost:8080/"
        },
        "outputId": "5f8195cc-1aed-4681-bf44-1f210d9b7aa8"
      },
      "outputs": [
        {
          "output_type": "execute_result",
          "data": {
            "text/plain": [
              "[bs4.element.Doctype, bs4.element.Tag]"
            ]
          },
          "metadata": {},
          "execution_count": 9
        }
      ],
      "source": [
        "[type(item) for item in list(soup.children)]"
      ]
    },
    {
      "cell_type": "markdown",
      "metadata": {
        "hidden": true,
        "id": "NwJ2vxAW_kcU"
      },
      "source": [
        "The `Tag` object allows us to navigate through an HTML document, and extract other tags and text. You can learn more about the various `BeautifulSoup` objects [here](https://www.crummy.com/software/BeautifulSoup/bs4/doc/#kinds-of-objects).\n",
        "\n",
        "We can now select the html tag and its children by taking the second item in the list:\n",
        "\n"
      ]
    },
    {
      "cell_type": "code",
      "execution_count": null,
      "metadata": {
        "hidden": true,
        "id": "2GCTvL9k_kcU",
        "colab": {
          "base_uri": "https://localhost:8080/"
        },
        "outputId": "c36733c8-2b35-4ecb-fe24-817c774f6310"
      },
      "outputs": [
        {
          "output_type": "execute_result",
          "data": {
            "text/plain": [
              "<html>\n",
              "<head>\n",
              "<title>A simple example page</title>\n",
              "</head>\n",
              "<body>\n",
              "<p>Here is some simple content for this page.</p>\n",
              "</body>\n",
              "</html>"
            ]
          },
          "metadata": {},
          "execution_count": 10
        }
      ],
      "source": [
        "html = list(soup.children)[1]\n",
        "html"
      ]
    },
    {
      "cell_type": "markdown",
      "metadata": {
        "hidden": true,
        "id": "ShHcBUVr_kcU"
      },
      "source": [
        "Each item in the list returned by the `children` property is also a `BeautifulSoup` object, so we can also call the `children` method on `html`.\n",
        "\n",
        "Now we can find the `children` inside the `html` tag:"
      ]
    },
    {
      "cell_type": "code",
      "execution_count": null,
      "metadata": {
        "hidden": true,
        "id": "oHw_19Wg_kcU",
        "colab": {
          "base_uri": "https://localhost:8080/"
        },
        "outputId": "893b160b-b2b2-4900-e90d-3f3763b4884b"
      },
      "outputs": [
        {
          "output_type": "execute_result",
          "data": {
            "text/plain": [
              "['\\n',\n",
              " <head>\n",
              " <title>A simple example page</title>\n",
              " </head>,\n",
              " '\\n',\n",
              " <body>\n",
              " <p>Here is some simple content for this page.</p>\n",
              " </body>,\n",
              " '\\n']"
            ]
          },
          "metadata": {},
          "execution_count": 11
        }
      ],
      "source": [
        "list(html.children)"
      ]
    },
    {
      "cell_type": "markdown",
      "metadata": {
        "hidden": true,
        "id": "myawnsQ6_kcU"
      },
      "source": [
        "As you can see above, there are two tags here, `head`, and `body`. We want to extract the text inside the `p` tag, so we’ll dive into the body:"
      ]
    },
    {
      "cell_type": "code",
      "execution_count": null,
      "metadata": {
        "hidden": true,
        "id": "5qsiMcGB_kcV",
        "colab": {
          "base_uri": "https://localhost:8080/"
        },
        "outputId": "65a51d1f-a500-413f-9db4-8b383fdfa4e9"
      },
      "outputs": [
        {
          "output_type": "execute_result",
          "data": {
            "text/plain": [
              "<body>\n",
              "<p>Here is some simple content for this page.</p>\n",
              "</body>"
            ]
          },
          "metadata": {},
          "execution_count": 12
        }
      ],
      "source": [
        "body = list(html.children)[3]\n",
        "body"
      ]
    },
    {
      "cell_type": "markdown",
      "metadata": {
        "hidden": true,
        "id": "O3yJS04s_kcV"
      },
      "source": [
        "We can now isolate the `p` tag:\n",
        "\n"
      ]
    },
    {
      "cell_type": "code",
      "execution_count": null,
      "metadata": {
        "hidden": true,
        "id": "RyYFH5D0_kcV"
      },
      "outputs": [],
      "source": [
        "p = list(body.children)[1]"
      ]
    },
    {
      "cell_type": "markdown",
      "metadata": {
        "hidden": true,
        "id": "G6331CPQ_kcV"
      },
      "source": [
        "Once we’ve isolated the tag, we can use the `get_text` method to extract all of the text inside the tag:"
      ]
    },
    {
      "cell_type": "code",
      "execution_count": null,
      "metadata": {
        "hidden": true,
        "id": "flpBjt7h_kcV",
        "colab": {
          "base_uri": "https://localhost:8080/"
        },
        "outputId": "2c2cb889-f22f-4524-fe15-7236c649309e"
      },
      "outputs": [
        {
          "output_type": "execute_result",
          "data": {
            "text/plain": [
              "<bound method PageElement.get_text of <p>Here is some simple content for this page.</p>>"
            ]
          },
          "metadata": {},
          "execution_count": 14
        }
      ],
      "source": [
        "p.get_text"
      ]
    },
    {
      "cell_type": "markdown",
      "metadata": {
        "heading_collapsed": true,
        "hidden": true,
        "id": "4nbD7GV3_kcW"
      },
      "source": [
        "### Finding all instances of a tag at once"
      ]
    },
    {
      "cell_type": "markdown",
      "metadata": {
        "hidden": true,
        "id": "pLFN8spY_kcW"
      },
      "source": [
        "If we want to extract a single tag, we can instead use the find_all method, which will find all the instances of a tag on a page."
      ]
    },
    {
      "cell_type": "code",
      "execution_count": null,
      "metadata": {
        "hidden": true,
        "id": "VLxe1iIy_kcW",
        "colab": {
          "base_uri": "https://localhost:8080/"
        },
        "outputId": "c2cccd9b-8ae3-4e91-c028-07e5005a0658"
      },
      "outputs": [
        {
          "output_type": "execute_result",
          "data": {
            "text/plain": [
              "[<p>Here is some simple content for this page.</p>]"
            ]
          },
          "metadata": {},
          "execution_count": 53
        }
      ],
      "source": [
        "soup = BeautifulSoup(req.content)\n",
        "soup.find_all('p')"
      ]
    },
    {
      "cell_type": "markdown",
      "metadata": {
        "hidden": true,
        "id": "UPunnAtQ_kcW"
      },
      "source": [
        "Note that `find_all` returns a list, so we’ll have to loop through, or use list indexing, it to extract text:"
      ]
    },
    {
      "cell_type": "code",
      "execution_count": null,
      "metadata": {
        "hidden": true,
        "id": "ORpZ8Xlz_kcW",
        "colab": {
          "base_uri": "https://localhost:8080/"
        },
        "outputId": "8a4f7002-2a6b-40e7-fc83-64f74f7db275"
      },
      "outputs": [
        {
          "output_type": "execute_result",
          "data": {
            "text/plain": [
              "'Here is some simple content for this page.'"
            ],
            "application/vnd.google.colaboratory.intrinsic+json": {
              "type": "string"
            }
          },
          "metadata": {},
          "execution_count": 16
        }
      ],
      "source": [
        "soup.find_all('p')[0].get_text()"
      ]
    },
    {
      "cell_type": "markdown",
      "metadata": {
        "hidden": true,
        "id": "Pab0k953_kcW"
      },
      "source": [
        "If you instead only want to find the first instance of a tag, you can use the `find` method, which will return a single `BeautifulSoup` object:"
      ]
    },
    {
      "cell_type": "code",
      "execution_count": null,
      "metadata": {
        "hidden": true,
        "id": "IUSiFkZL_kcW",
        "colab": {
          "base_uri": "https://localhost:8080/"
        },
        "outputId": "67f8f9ee-aff4-424d-a6e8-9102b0ed2401"
      },
      "outputs": [
        {
          "output_type": "execute_result",
          "data": {
            "text/plain": [
              "<p>Here is some simple content for this page.</p>"
            ]
          },
          "metadata": {},
          "execution_count": 17
        }
      ],
      "source": [
        "soup.find('p')"
      ]
    },
    {
      "cell_type": "markdown",
      "metadata": {
        "heading_collapsed": true,
        "hidden": true,
        "id": "4bGzqDpM_kcX"
      },
      "source": [
        "### Searching for tags by class and id"
      ]
    },
    {
      "cell_type": "markdown",
      "metadata": {
        "hidden": true,
        "id": "7Cmdon3I_kcX"
      },
      "source": [
        "We introduced classes and ids earlier, but it probably wasn’t clear why they were useful. Classes and ids are used by CSS to determine which HTML elements to apply certain styles to. We can also use them when scraping to specify specific elements we want to scrape. Let's look at the following page:\n",
        "\n",
        "~~~html\n",
        "<html>\n",
        "    <head>\n",
        "        <title>A simple example page</title>\n",
        "    </head>\n",
        "    <body>\n",
        "        <div>\n",
        "            <p class=\"inner-text first-item\" id=\"first\">\n",
        "                First paragraph.\n",
        "            </p>\n",
        "            <p class=\"inner-text\">\n",
        "                Second paragraph.\n",
        "            </p>\n",
        "        </div>\n",
        "        <p class=\"outer-text first-item\" id=\"second\">\n",
        "            <b>\n",
        "                First outer paragraph.\n",
        "            </b>\n",
        "        </p>\n",
        "        <p class=\"outer-text\">\n",
        "            <b>\n",
        "                Second outer paragraph.\n",
        "            </b>\n",
        "        </p>\n",
        "    </body>\n",
        "</html>\n",
        "~~~"
      ]
    },
    {
      "cell_type": "code",
      "execution_count": null,
      "metadata": {
        "hidden": true,
        "id": "xVa2seXH_kcX",
        "colab": {
          "base_uri": "https://localhost:8080/"
        },
        "outputId": "632ba78c-27c4-4e28-9a5b-22fb5fc8f352"
      },
      "outputs": [
        {
          "output_type": "execute_result",
          "data": {
            "text/plain": [
              "<html>\n",
              "<head>\n",
              "<title>A simple example page</title>\n",
              "</head>\n",
              "<body>\n",
              "<div>\n",
              "<p class=\"inner-text first-item\" id=\"first\">\n",
              "                First paragraph.\n",
              "            </p>\n",
              "<p class=\"inner-text\">\n",
              "                Second paragraph.\n",
              "            </p>\n",
              "</div>\n",
              "<p class=\"outer-text first-item\" id=\"second\">\n",
              "<b>\n",
              "                First outer paragraph.\n",
              "            </b>\n",
              "</p>\n",
              "<p class=\"outer-text\">\n",
              "<b>\n",
              "                Second outer paragraph.\n",
              "            </b>\n",
              "</p>\n",
              "</body>\n",
              "</html>"
            ]
          },
          "metadata": {},
          "execution_count": 18
        }
      ],
      "source": [
        "page = requests.get(\"http://dataquestio.github.io/web-scraping-pages/ids_and_classes.html\")\n",
        "soup = BeautifulSoup(page.content)\n",
        "soup"
      ]
    },
    {
      "cell_type": "markdown",
      "metadata": {
        "hidden": true,
        "id": "G-gBtNnM_kcX"
      },
      "source": [
        "Now, we can use the `find_all` method to search for items by class or by id. In the below example, we’ll search for any `p` tag that has the class `outer-text`:"
      ]
    },
    {
      "cell_type": "code",
      "execution_count": null,
      "metadata": {
        "hidden": true,
        "id": "2L7FgXMR_kcX",
        "colab": {
          "base_uri": "https://localhost:8080/"
        },
        "outputId": "776acf36-3aee-44bd-bb96-c342363f5ec8"
      },
      "outputs": [
        {
          "output_type": "execute_result",
          "data": {
            "text/plain": [
              "[<p class=\"outer-text first-item\" id=\"second\">\n",
              " <b>\n",
              "                 First outer paragraph.\n",
              "             </b>\n",
              " </p>,\n",
              " <p class=\"outer-text\">\n",
              " <b>\n",
              "                 Second outer paragraph.\n",
              "             </b>\n",
              " </p>]"
            ]
          },
          "metadata": {},
          "execution_count": 19
        }
      ],
      "source": [
        "soup.find_all('p', class_='outer-text')"
      ]
    },
    {
      "cell_type": "markdown",
      "metadata": {
        "hidden": true,
        "id": "ogK4eL3M_kcY"
      },
      "source": [
        "In the below example, we’ll look for any tag that has the class `outer-text`:\n",
        "\n"
      ]
    },
    {
      "cell_type": "code",
      "execution_count": null,
      "metadata": {
        "hidden": true,
        "id": "HuRk433R_kcY",
        "colab": {
          "base_uri": "https://localhost:8080/"
        },
        "outputId": "2f74464f-d32d-42ba-b3f9-2d592012065e"
      },
      "outputs": [
        {
          "output_type": "execute_result",
          "data": {
            "text/plain": [
              "<p class=\"outer-text first-item\" id=\"second\">\n",
              "<b>\n",
              "                First outer paragraph.\n",
              "            </b>\n",
              "</p>"
            ]
          },
          "metadata": {},
          "execution_count": 20
        }
      ],
      "source": [
        "soup.find_all(class_=\"outer-text\")[0]"
      ]
    },
    {
      "cell_type": "markdown",
      "metadata": {
        "hidden": true,
        "id": "Hbb4SJw2_kcY"
      },
      "source": [
        "We can also search for elements by `id`:\n"
      ]
    },
    {
      "cell_type": "code",
      "execution_count": null,
      "metadata": {
        "hidden": true,
        "id": "liYS8hFv_kcY",
        "colab": {
          "base_uri": "https://localhost:8080/"
        },
        "outputId": "b02bd630-0b4f-481a-e311-e20f67d1d110"
      },
      "outputs": [
        {
          "output_type": "execute_result",
          "data": {
            "text/plain": [
              "[<p class=\"inner-text first-item\" id=\"first\">\n",
              "                 First paragraph.\n",
              "             </p>]"
            ]
          },
          "metadata": {},
          "execution_count": 21
        }
      ],
      "source": [
        "soup.find_all(id=\"first\")"
      ]
    },
    {
      "cell_type": "markdown",
      "metadata": {
        "heading_collapsed": true,
        "hidden": true,
        "id": "3qImMl5G_kcY"
      },
      "source": [
        "### More sophisticated webpages"
      ]
    },
    {
      "cell_type": "code",
      "execution_count": null,
      "metadata": {
        "hidden": true,
        "id": "JCXA_tla_kcY"
      },
      "outputs": [],
      "source": [
        "url = 'https://forecast.weather.gov/MapClick.php?lat=41.8843&lon=-87.6324#.XdPlJUVKg6g'\n",
        "request = requests.get(url)\n",
        "soup = BeautifulSoup(request.content)"
      ]
    },
    {
      "cell_type": "code",
      "execution_count": null,
      "metadata": {
        "hidden": true,
        "id": "15JU2mk6_kcY",
        "colab": {
          "base_uri": "https://localhost:8080/"
        },
        "outputId": "ea34063f-1a9f-4415-f03e-e4653e49e02d"
      },
      "outputs": [
        {
          "output_type": "execute_result",
          "data": {
            "text/plain": [
              "[<p class=\"period-name\">Today<br/><br/></p>,\n",
              " <p class=\"period-name\">Tonight<br/><br/></p>,\n",
              " <p class=\"period-name\">Friday<br/><br/></p>,\n",
              " <p class=\"period-name\">Friday<br/>Night</p>,\n",
              " <p class=\"period-name\">Saturday<br/><br/></p>,\n",
              " <p class=\"period-name\">Saturday<br/>Night</p>,\n",
              " <p class=\"period-name\">Sunday<br/><br/></p>,\n",
              " <p class=\"period-name\">Sunday<br/>Night</p>,\n",
              " <p class=\"period-name\">Monday<br/><br/></p>]"
            ]
          },
          "metadata": {},
          "execution_count": 23
        }
      ],
      "source": [
        "times = soup.find_all(class_='period-name')\n",
        "times"
      ]
    },
    {
      "cell_type": "code",
      "execution_count": null,
      "metadata": {
        "hidden": true,
        "scrolled": true,
        "id": "4lgXXfYB_kcZ",
        "colab": {
          "base_uri": "https://localhost:8080/"
        },
        "outputId": "8e6b50d4-f0d3-42fd-c47d-b12e156daced"
      },
      "outputs": [
        {
          "output_type": "execute_result",
          "data": {
            "text/plain": [
              "[<p class=\"short-desc\">Breezy.<br/>Mostly Sunny<br/>then<br/>Scattered<br/>Showers</p>,\n",
              " <p class=\"short-desc\">Scattered<br/>T-storms and<br/>Breezy then<br/>Partly Cloudy</p>,\n",
              " <p class=\"short-desc\">Mostly Sunny</p>,\n",
              " <p class=\"short-desc\">Chance Rain</p>,\n",
              " <p class=\"short-desc\">Mostly Sunny</p>,\n",
              " <p class=\"short-desc\">Partly Cloudy</p>,\n",
              " <p class=\"short-desc\">Partly Sunny</p>,\n",
              " <p class=\"short-desc\">Mostly Cloudy<br/>then Chance<br/>Snow</p>,\n",
              " <p class=\"short-desc\">Chance Snow<br/>then Partly<br/>Sunny</p>]"
            ]
          },
          "metadata": {},
          "execution_count": 24
        }
      ],
      "source": [
        "descs = soup.find_all(class_='short-desc')\n",
        "descs"
      ]
    },
    {
      "cell_type": "code",
      "execution_count": null,
      "metadata": {
        "hidden": true,
        "id": "Q3i_3emG_kcZ",
        "colab": {
          "base_uri": "https://localhost:8080/"
        },
        "outputId": "234adfa5-24d8-46a7-a397-ed58c45429d8"
      },
      "outputs": [
        {
          "output_type": "execute_result",
          "data": {
            "text/plain": [
              "[('Today', 'Breezy.Mostly SunnythenScatteredShowers'),\n",
              " ('Tonight', 'ScatteredT-storms andBreezy thenPartly Cloudy'),\n",
              " ('Friday', 'Mostly Sunny'),\n",
              " ('FridayNight', 'Chance Rain'),\n",
              " ('Saturday', 'Mostly Sunny'),\n",
              " ('SaturdayNight', 'Partly Cloudy'),\n",
              " ('Sunday', 'Partly Sunny'),\n",
              " ('SundayNight', 'Mostly Cloudythen ChanceSnow'),\n",
              " ('Monday', 'Chance Snowthen PartlySunny')]"
            ]
          },
          "metadata": {},
          "execution_count": 25
        }
      ],
      "source": [
        "together = [(entry[0].text, entry[1].text) for entry in zip(times, descs)]\n",
        "together"
      ]
    },
    {
      "cell_type": "markdown",
      "metadata": {
        "heading_collapsed": true,
        "hidden": true,
        "id": "a8D80vJ6_kcZ"
      },
      "source": [
        "### Pulling in a Table"
      ]
    },
    {
      "cell_type": "markdown",
      "metadata": {
        "hidden": true,
        "id": "6Jrg2Gm4_kcZ"
      },
      "source": [
        "*In general you'll need to examine the html code so that you can tell the BeautifulSoup parser what to look for!*"
      ]
    },
    {
      "cell_type": "code",
      "execution_count": null,
      "metadata": {
        "hidden": true,
        "id": "BJEEx9IX_kcZ"
      },
      "outputs": [],
      "source": [
        "url = 'https://www.pro-football-reference.com/'\n",
        "\n",
        "res = requests.get(url)\n",
        "soup = BeautifulSoup(res.content)"
      ]
    },
    {
      "cell_type": "code",
      "execution_count": null,
      "metadata": {
        "hidden": true,
        "id": "udBG6v4A_kcZ"
      },
      "outputs": [],
      "source": [
        "teams = []\n",
        "table = soup.find('table', {'id': 'AFC'})\n",
        "\n",
        "for row in table.find('tbody').find_all('tr'):\n",
        "    try:\n",
        "        if row.find('a'):\n",
        "            team = {'name': row.find('a').text,\n",
        "                    'wins': row.find('td', {'data-stat': 'wins'}).text,\n",
        "                    'losses': row.find('td', {'data-stat': 'losses'}).text,\n",
        "                'percentage': f'{row.find(\"td\", {\"data-stat\": \"win_loss_perc\"}).text}%'}\n",
        "        teams.append(team)\n",
        "    except:\n",
        "        pass"
      ]
    },
    {
      "cell_type": "code",
      "execution_count": null,
      "metadata": {
        "hidden": true,
        "id": "Uy6mWR0B_kca",
        "colab": {
          "base_uri": "https://localhost:8080/"
        },
        "outputId": "2fb791b6-9aed-40e1-d0cf-691e5eb582f8"
      },
      "outputs": [
        {
          "output_type": "execute_result",
          "data": {
            "text/plain": [
              "[{'name': 'LAC', 'wins': '5', 'losses': '12', 'percentage': '.294%'},\n",
              " {'name': 'BUF', 'wins': '11', 'losses': '6', 'percentage': '.647%'},\n",
              " {'name': 'MIA', 'wins': '11', 'losses': '6', 'percentage': '.647%'},\n",
              " {'name': 'NYJ', 'wins': '7', 'losses': '10', 'percentage': '.412%'},\n",
              " {'name': 'NWE', 'wins': '4', 'losses': '13', 'percentage': '.235%'},\n",
              " {'name': 'NWE', 'wins': '4', 'losses': '13', 'percentage': '.235%'},\n",
              " {'name': 'BAL', 'wins': '13', 'losses': '4', 'percentage': '.765%'},\n",
              " {'name': 'CLE', 'wins': '11', 'losses': '6', 'percentage': '.647%'},\n",
              " {'name': 'PIT', 'wins': '10', 'losses': '7', 'percentage': '.588%'},\n",
              " {'name': 'CIN', 'wins': '9', 'losses': '8', 'percentage': '.529%'},\n",
              " {'name': 'CIN', 'wins': '9', 'losses': '8', 'percentage': '.529%'},\n",
              " {'name': 'HOU', 'wins': '10', 'losses': '7', 'percentage': '.588%'},\n",
              " {'name': 'JAX', 'wins': '9', 'losses': '8', 'percentage': '.529%'},\n",
              " {'name': 'IND', 'wins': '9', 'losses': '8', 'percentage': '.529%'},\n",
              " {'name': 'TEN', 'wins': '6', 'losses': '11', 'percentage': '.353%'},\n",
              " {'name': 'TEN', 'wins': '6', 'losses': '11', 'percentage': '.353%'},\n",
              " {'name': 'KAN', 'wins': '11', 'losses': '6', 'percentage': '.647%'},\n",
              " {'name': 'LVR', 'wins': '8', 'losses': '9', 'percentage': '.471%'},\n",
              " {'name': 'DEN', 'wins': '8', 'losses': '9', 'percentage': '.471%'},\n",
              " {'name': 'LAC', 'wins': '5', 'losses': '12', 'percentage': '.294%'}]"
            ]
          },
          "metadata": {},
          "execution_count": 56
        }
      ],
      "source": [
        "teams"
      ]
    },
    {
      "cell_type": "markdown",
      "metadata": {
        "heading_collapsed": true,
        "hidden": true,
        "id": "f1ktybxB_kca"
      },
      "source": [
        "## Combining our data into a Pandas DataFrame"
      ]
    },
    {
      "cell_type": "markdown",
      "metadata": {
        "hidden": true,
        "id": "JdYf0srK_kca"
      },
      "source": [
        "We can now combine the data into a Pandas DataFrame and analyze it.\n",
        "\n",
        "In order to do this, we’ll call the DataFrame class, and pass in each list of items that we have. We pass them in as part of a dictionary. Each dictionary key will become a column in the DataFrame, and each list will become the values in the column:"
      ]
    },
    {
      "cell_type": "code",
      "execution_count": null,
      "metadata": {
        "hidden": true,
        "id": "Q9taGxlh_kca",
        "colab": {
          "base_uri": "https://localhost:8080/",
          "height": 676
        },
        "outputId": "4f2c3953-e3a5-483d-c6b7-8dc6d8542bd9"
      },
      "outputs": [
        {
          "output_type": "execute_result",
          "data": {
            "text/plain": [
              "   name wins losses percentage\n",
              "0   LAC    5     12      .294%\n",
              "1   BUF   11      6      .647%\n",
              "2   MIA   11      6      .647%\n",
              "3   NYJ    7     10      .412%\n",
              "4   NWE    4     13      .235%\n",
              "5   NWE    4     13      .235%\n",
              "6   BAL   13      4      .765%\n",
              "7   CLE   11      6      .647%\n",
              "8   PIT   10      7      .588%\n",
              "9   CIN    9      8      .529%\n",
              "10  CIN    9      8      .529%\n",
              "11  HOU   10      7      .588%\n",
              "12  JAX    9      8      .529%\n",
              "13  IND    9      8      .529%\n",
              "14  TEN    6     11      .353%\n",
              "15  TEN    6     11      .353%\n",
              "16  KAN   11      6      .647%\n",
              "17  LVR    8      9      .471%\n",
              "18  DEN    8      9      .471%\n",
              "19  LAC    5     12      .294%"
            ],
            "text/html": [
              "\n",
              "  <div id=\"df-d210b3fb-035d-4ad3-b8e1-49d235f1a07b\" class=\"colab-df-container\">\n",
              "    <div>\n",
              "<style scoped>\n",
              "    .dataframe tbody tr th:only-of-type {\n",
              "        vertical-align: middle;\n",
              "    }\n",
              "\n",
              "    .dataframe tbody tr th {\n",
              "        vertical-align: top;\n",
              "    }\n",
              "\n",
              "    .dataframe thead th {\n",
              "        text-align: right;\n",
              "    }\n",
              "</style>\n",
              "<table border=\"1\" class=\"dataframe\">\n",
              "  <thead>\n",
              "    <tr style=\"text-align: right;\">\n",
              "      <th></th>\n",
              "      <th>name</th>\n",
              "      <th>wins</th>\n",
              "      <th>losses</th>\n",
              "      <th>percentage</th>\n",
              "    </tr>\n",
              "  </thead>\n",
              "  <tbody>\n",
              "    <tr>\n",
              "      <th>0</th>\n",
              "      <td>LAC</td>\n",
              "      <td>5</td>\n",
              "      <td>12</td>\n",
              "      <td>.294%</td>\n",
              "    </tr>\n",
              "    <tr>\n",
              "      <th>1</th>\n",
              "      <td>BUF</td>\n",
              "      <td>11</td>\n",
              "      <td>6</td>\n",
              "      <td>.647%</td>\n",
              "    </tr>\n",
              "    <tr>\n",
              "      <th>2</th>\n",
              "      <td>MIA</td>\n",
              "      <td>11</td>\n",
              "      <td>6</td>\n",
              "      <td>.647%</td>\n",
              "    </tr>\n",
              "    <tr>\n",
              "      <th>3</th>\n",
              "      <td>NYJ</td>\n",
              "      <td>7</td>\n",
              "      <td>10</td>\n",
              "      <td>.412%</td>\n",
              "    </tr>\n",
              "    <tr>\n",
              "      <th>4</th>\n",
              "      <td>NWE</td>\n",
              "      <td>4</td>\n",
              "      <td>13</td>\n",
              "      <td>.235%</td>\n",
              "    </tr>\n",
              "    <tr>\n",
              "      <th>5</th>\n",
              "      <td>NWE</td>\n",
              "      <td>4</td>\n",
              "      <td>13</td>\n",
              "      <td>.235%</td>\n",
              "    </tr>\n",
              "    <tr>\n",
              "      <th>6</th>\n",
              "      <td>BAL</td>\n",
              "      <td>13</td>\n",
              "      <td>4</td>\n",
              "      <td>.765%</td>\n",
              "    </tr>\n",
              "    <tr>\n",
              "      <th>7</th>\n",
              "      <td>CLE</td>\n",
              "      <td>11</td>\n",
              "      <td>6</td>\n",
              "      <td>.647%</td>\n",
              "    </tr>\n",
              "    <tr>\n",
              "      <th>8</th>\n",
              "      <td>PIT</td>\n",
              "      <td>10</td>\n",
              "      <td>7</td>\n",
              "      <td>.588%</td>\n",
              "    </tr>\n",
              "    <tr>\n",
              "      <th>9</th>\n",
              "      <td>CIN</td>\n",
              "      <td>9</td>\n",
              "      <td>8</td>\n",
              "      <td>.529%</td>\n",
              "    </tr>\n",
              "    <tr>\n",
              "      <th>10</th>\n",
              "      <td>CIN</td>\n",
              "      <td>9</td>\n",
              "      <td>8</td>\n",
              "      <td>.529%</td>\n",
              "    </tr>\n",
              "    <tr>\n",
              "      <th>11</th>\n",
              "      <td>HOU</td>\n",
              "      <td>10</td>\n",
              "      <td>7</td>\n",
              "      <td>.588%</td>\n",
              "    </tr>\n",
              "    <tr>\n",
              "      <th>12</th>\n",
              "      <td>JAX</td>\n",
              "      <td>9</td>\n",
              "      <td>8</td>\n",
              "      <td>.529%</td>\n",
              "    </tr>\n",
              "    <tr>\n",
              "      <th>13</th>\n",
              "      <td>IND</td>\n",
              "      <td>9</td>\n",
              "      <td>8</td>\n",
              "      <td>.529%</td>\n",
              "    </tr>\n",
              "    <tr>\n",
              "      <th>14</th>\n",
              "      <td>TEN</td>\n",
              "      <td>6</td>\n",
              "      <td>11</td>\n",
              "      <td>.353%</td>\n",
              "    </tr>\n",
              "    <tr>\n",
              "      <th>15</th>\n",
              "      <td>TEN</td>\n",
              "      <td>6</td>\n",
              "      <td>11</td>\n",
              "      <td>.353%</td>\n",
              "    </tr>\n",
              "    <tr>\n",
              "      <th>16</th>\n",
              "      <td>KAN</td>\n",
              "      <td>11</td>\n",
              "      <td>6</td>\n",
              "      <td>.647%</td>\n",
              "    </tr>\n",
              "    <tr>\n",
              "      <th>17</th>\n",
              "      <td>LVR</td>\n",
              "      <td>8</td>\n",
              "      <td>9</td>\n",
              "      <td>.471%</td>\n",
              "    </tr>\n",
              "    <tr>\n",
              "      <th>18</th>\n",
              "      <td>DEN</td>\n",
              "      <td>8</td>\n",
              "      <td>9</td>\n",
              "      <td>.471%</td>\n",
              "    </tr>\n",
              "    <tr>\n",
              "      <th>19</th>\n",
              "      <td>LAC</td>\n",
              "      <td>5</td>\n",
              "      <td>12</td>\n",
              "      <td>.294%</td>\n",
              "    </tr>\n",
              "  </tbody>\n",
              "</table>\n",
              "</div>\n",
              "    <div class=\"colab-df-buttons\">\n",
              "\n",
              "  <div class=\"colab-df-container\">\n",
              "    <button class=\"colab-df-convert\" onclick=\"convertToInteractive('df-d210b3fb-035d-4ad3-b8e1-49d235f1a07b')\"\n",
              "            title=\"Convert this dataframe to an interactive table.\"\n",
              "            style=\"display:none;\">\n",
              "\n",
              "  <svg xmlns=\"http://www.w3.org/2000/svg\" height=\"24px\" viewBox=\"0 -960 960 960\">\n",
              "    <path d=\"M120-120v-720h720v720H120Zm60-500h600v-160H180v160Zm220 220h160v-160H400v160Zm0 220h160v-160H400v160ZM180-400h160v-160H180v160Zm440 0h160v-160H620v160ZM180-180h160v-160H180v160Zm440 0h160v-160H620v160Z\"/>\n",
              "  </svg>\n",
              "    </button>\n",
              "\n",
              "  <style>\n",
              "    .colab-df-container {\n",
              "      display:flex;\n",
              "      gap: 12px;\n",
              "    }\n",
              "\n",
              "    .colab-df-convert {\n",
              "      background-color: #E8F0FE;\n",
              "      border: none;\n",
              "      border-radius: 50%;\n",
              "      cursor: pointer;\n",
              "      display: none;\n",
              "      fill: #1967D2;\n",
              "      height: 32px;\n",
              "      padding: 0 0 0 0;\n",
              "      width: 32px;\n",
              "    }\n",
              "\n",
              "    .colab-df-convert:hover {\n",
              "      background-color: #E2EBFA;\n",
              "      box-shadow: 0px 1px 2px rgba(60, 64, 67, 0.3), 0px 1px 3px 1px rgba(60, 64, 67, 0.15);\n",
              "      fill: #174EA6;\n",
              "    }\n",
              "\n",
              "    .colab-df-buttons div {\n",
              "      margin-bottom: 4px;\n",
              "    }\n",
              "\n",
              "    [theme=dark] .colab-df-convert {\n",
              "      background-color: #3B4455;\n",
              "      fill: #D2E3FC;\n",
              "    }\n",
              "\n",
              "    [theme=dark] .colab-df-convert:hover {\n",
              "      background-color: #434B5C;\n",
              "      box-shadow: 0px 1px 3px 1px rgba(0, 0, 0, 0.15);\n",
              "      filter: drop-shadow(0px 1px 2px rgba(0, 0, 0, 0.3));\n",
              "      fill: #FFFFFF;\n",
              "    }\n",
              "  </style>\n",
              "\n",
              "    <script>\n",
              "      const buttonEl =\n",
              "        document.querySelector('#df-d210b3fb-035d-4ad3-b8e1-49d235f1a07b button.colab-df-convert');\n",
              "      buttonEl.style.display =\n",
              "        google.colab.kernel.accessAllowed ? 'block' : 'none';\n",
              "\n",
              "      async function convertToInteractive(key) {\n",
              "        const element = document.querySelector('#df-d210b3fb-035d-4ad3-b8e1-49d235f1a07b');\n",
              "        const dataTable =\n",
              "          await google.colab.kernel.invokeFunction('convertToInteractive',\n",
              "                                                    [key], {});\n",
              "        if (!dataTable) return;\n",
              "\n",
              "        const docLinkHtml = 'Like what you see? Visit the ' +\n",
              "          '<a target=\"_blank\" href=https://colab.research.google.com/notebooks/data_table.ipynb>data table notebook</a>'\n",
              "          + ' to learn more about interactive tables.';\n",
              "        element.innerHTML = '';\n",
              "        dataTable['output_type'] = 'display_data';\n",
              "        await google.colab.output.renderOutput(dataTable, element);\n",
              "        const docLink = document.createElement('div');\n",
              "        docLink.innerHTML = docLinkHtml;\n",
              "        element.appendChild(docLink);\n",
              "      }\n",
              "    </script>\n",
              "  </div>\n",
              "\n",
              "\n",
              "<div id=\"df-64db6221-1cad-42a8-9356-2fa7af6598dd\">\n",
              "  <button class=\"colab-df-quickchart\" onclick=\"quickchart('df-64db6221-1cad-42a8-9356-2fa7af6598dd')\"\n",
              "            title=\"Suggest charts\"\n",
              "            style=\"display:none;\">\n",
              "\n",
              "<svg xmlns=\"http://www.w3.org/2000/svg\" height=\"24px\"viewBox=\"0 0 24 24\"\n",
              "     width=\"24px\">\n",
              "    <g>\n",
              "        <path d=\"M19 3H5c-1.1 0-2 .9-2 2v14c0 1.1.9 2 2 2h14c1.1 0 2-.9 2-2V5c0-1.1-.9-2-2-2zM9 17H7v-7h2v7zm4 0h-2V7h2v10zm4 0h-2v-4h2v4z\"/>\n",
              "    </g>\n",
              "</svg>\n",
              "  </button>\n",
              "\n",
              "<style>\n",
              "  .colab-df-quickchart {\n",
              "      --bg-color: #E8F0FE;\n",
              "      --fill-color: #1967D2;\n",
              "      --hover-bg-color: #E2EBFA;\n",
              "      --hover-fill-color: #174EA6;\n",
              "      --disabled-fill-color: #AAA;\n",
              "      --disabled-bg-color: #DDD;\n",
              "  }\n",
              "\n",
              "  [theme=dark] .colab-df-quickchart {\n",
              "      --bg-color: #3B4455;\n",
              "      --fill-color: #D2E3FC;\n",
              "      --hover-bg-color: #434B5C;\n",
              "      --hover-fill-color: #FFFFFF;\n",
              "      --disabled-bg-color: #3B4455;\n",
              "      --disabled-fill-color: #666;\n",
              "  }\n",
              "\n",
              "  .colab-df-quickchart {\n",
              "    background-color: var(--bg-color);\n",
              "    border: none;\n",
              "    border-radius: 50%;\n",
              "    cursor: pointer;\n",
              "    display: none;\n",
              "    fill: var(--fill-color);\n",
              "    height: 32px;\n",
              "    padding: 0;\n",
              "    width: 32px;\n",
              "  }\n",
              "\n",
              "  .colab-df-quickchart:hover {\n",
              "    background-color: var(--hover-bg-color);\n",
              "    box-shadow: 0 1px 2px rgba(60, 64, 67, 0.3), 0 1px 3px 1px rgba(60, 64, 67, 0.15);\n",
              "    fill: var(--button-hover-fill-color);\n",
              "  }\n",
              "\n",
              "  .colab-df-quickchart-complete:disabled,\n",
              "  .colab-df-quickchart-complete:disabled:hover {\n",
              "    background-color: var(--disabled-bg-color);\n",
              "    fill: var(--disabled-fill-color);\n",
              "    box-shadow: none;\n",
              "  }\n",
              "\n",
              "  .colab-df-spinner {\n",
              "    border: 2px solid var(--fill-color);\n",
              "    border-color: transparent;\n",
              "    border-bottom-color: var(--fill-color);\n",
              "    animation:\n",
              "      spin 1s steps(1) infinite;\n",
              "  }\n",
              "\n",
              "  @keyframes spin {\n",
              "    0% {\n",
              "      border-color: transparent;\n",
              "      border-bottom-color: var(--fill-color);\n",
              "      border-left-color: var(--fill-color);\n",
              "    }\n",
              "    20% {\n",
              "      border-color: transparent;\n",
              "      border-left-color: var(--fill-color);\n",
              "      border-top-color: var(--fill-color);\n",
              "    }\n",
              "    30% {\n",
              "      border-color: transparent;\n",
              "      border-left-color: var(--fill-color);\n",
              "      border-top-color: var(--fill-color);\n",
              "      border-right-color: var(--fill-color);\n",
              "    }\n",
              "    40% {\n",
              "      border-color: transparent;\n",
              "      border-right-color: var(--fill-color);\n",
              "      border-top-color: var(--fill-color);\n",
              "    }\n",
              "    60% {\n",
              "      border-color: transparent;\n",
              "      border-right-color: var(--fill-color);\n",
              "    }\n",
              "    80% {\n",
              "      border-color: transparent;\n",
              "      border-right-color: var(--fill-color);\n",
              "      border-bottom-color: var(--fill-color);\n",
              "    }\n",
              "    90% {\n",
              "      border-color: transparent;\n",
              "      border-bottom-color: var(--fill-color);\n",
              "    }\n",
              "  }\n",
              "</style>\n",
              "\n",
              "  <script>\n",
              "    async function quickchart(key) {\n",
              "      const quickchartButtonEl =\n",
              "        document.querySelector('#' + key + ' button');\n",
              "      quickchartButtonEl.disabled = true;  // To prevent multiple clicks.\n",
              "      quickchartButtonEl.classList.add('colab-df-spinner');\n",
              "      try {\n",
              "        const charts = await google.colab.kernel.invokeFunction(\n",
              "            'suggestCharts', [key], {});\n",
              "      } catch (error) {\n",
              "        console.error('Error during call to suggestCharts:', error);\n",
              "      }\n",
              "      quickchartButtonEl.classList.remove('colab-df-spinner');\n",
              "      quickchartButtonEl.classList.add('colab-df-quickchart-complete');\n",
              "    }\n",
              "    (() => {\n",
              "      let quickchartButtonEl =\n",
              "        document.querySelector('#df-64db6221-1cad-42a8-9356-2fa7af6598dd button');\n",
              "      quickchartButtonEl.style.display =\n",
              "        google.colab.kernel.accessAllowed ? 'block' : 'none';\n",
              "    })();\n",
              "  </script>\n",
              "</div>\n",
              "    </div>\n",
              "  </div>\n"
            ]
          },
          "metadata": {},
          "execution_count": 57
        }
      ],
      "source": [
        "# Football data from the table in dictionary form (very easy!)\n",
        "\n",
        "football = pd.DataFrame(teams)\n",
        "football"
      ]
    }
  ],
  "metadata": {
    "kernelspec": {
      "display_name": "Python 3",
      "language": "python",
      "name": "python3"
    },
    "language_info": {
      "codemirror_mode": {
        "name": "ipython",
        "version": 3
      },
      "file_extension": ".py",
      "mimetype": "text/x-python",
      "name": "python",
      "nbconvert_exporter": "python",
      "pygments_lexer": "ipython3",
      "version": "3.7.2"
    },
    "toc": {
      "base_numbering": 1,
      "nav_menu": {},
      "number_sections": true,
      "sideBar": true,
      "skip_h1_title": false,
      "title_cell": "Table of Contents",
      "title_sidebar": "TOC",
      "toc_cell": true,
      "toc_position": {
        "height": "calc(100% - 180px)",
        "left": "10px",
        "top": "150px",
        "width": "288px"
      },
      "toc_section_display": true,
      "toc_window_display": true
    },
    "colab": {
      "provenance": [],
      "include_colab_link": true
    }
  },
  "nbformat": 4,
  "nbformat_minor": 0
}