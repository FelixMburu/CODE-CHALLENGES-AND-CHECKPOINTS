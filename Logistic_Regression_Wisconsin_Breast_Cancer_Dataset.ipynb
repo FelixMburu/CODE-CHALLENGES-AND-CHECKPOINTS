{
  "cells": [
    {
      "cell_type": "markdown",
      "metadata": {
        "id": "view-in-github",
        "colab_type": "text"
      },
      "source": [
        "<a href=\"https://colab.research.google.com/github/FelixMburu/CODE-CHALLENGES-AND-CHECKPOINTS/blob/main/Logistic_Regression_Wisconsin_Breast_Cancer_Dataset.ipynb\" target=\"_parent\"><img src=\"https://colab.research.google.com/assets/colab-badge.svg\" alt=\"Open In Colab\"/></a>"
      ]
    },
    {
      "cell_type": "markdown",
      "metadata": {
        "deletable": false,
        "editable": false,
        "nbgrader": {
          "cell_type": "markdown",
          "checksum": "60942e6c516a29541a1535264ae517a7",
          "grade": false,
          "grade_id": "cell-f17628a8eca2cbc0",
          "locked": true,
          "schema_version": 3,
          "solution": false,
          "task": false
        },
        "id": "1fzAlNgRfV4o"
      },
      "source": [
        "# Logistic Regression Checkpoint\n",
        "\n",
        "This checkpoint is designed to test your understanding of the content from the Logistic Regression Cumulative Lab.\n",
        "\n",
        "Specifically, this will cover:\n",
        "\n",
        "* Calculating and interpreting classification metrics, particularly in the context of class imbalance\n",
        "* Performing an end-to-end ML process with logistic regression\n",
        "* Using NumPy and not pandas in a modeling context"
      ]
    },
    {
      "cell_type": "markdown",
      "metadata": {
        "deletable": false,
        "editable": false,
        "nbgrader": {
          "cell_type": "markdown",
          "checksum": "d15bc418eb3f8a9ad3482c52a1ad2abe",
          "grade": false,
          "grade_id": "cell-f2bd8816c42b2fb1",
          "locked": true,
          "schema_version": 3,
          "solution": false,
          "task": false
        },
        "id": "FfZ51p-hfV4q"
      },
      "source": [
        "## Your Task: Use Logistic Regression on the Wisconsin Breast Cancer Dataset\n",
        "\n",
        "### Data Understanding\n",
        "\n",
        "Here we will use the Wisconsin Breast Cancer dataset, which is available through scikit-learn ([documentation here](https://scikit-learn.org/stable/datasets/toy_dataset.html#breast-cancer-dataset)).  The goal is to predict whether a breast mass is benign or malignant based on attributes of cell nuclei in a tissue sample. Deeper understanding of the specific attributes is not required for this task.\n",
        "\n",
        "In the cell below, we load this dataset, perform a train-test split, and scale the data for you."
      ]
    },
    {
      "cell_type": "code",
      "execution_count": null,
      "metadata": {
        "deletable": false,
        "editable": false,
        "nbgrader": {
          "cell_type": "code",
          "checksum": "861a34f8ff0b6465d23008c943097b5e",
          "grade": false,
          "grade_id": "cell-5acfbd990f38a8e8",
          "locked": true,
          "schema_version": 3,
          "solution": false,
          "task": false
        },
        "id": "k9M0ScwJfV4r"
      },
      "outputs": [],
      "source": [
        "# Run this cell without changes\n",
        "import pandas as pd\n",
        "import numpy as np\n",
        "from sklearn.model_selection import train_test_split\n",
        "from sklearn.preprocessing import StandardScaler\n",
        "\n",
        "# Load data\n",
        "df = pd.read_csv('./breast_cancer.csv')\n",
        "# Seperate features from target\n",
        "X, y = df.iloc[:,:-1].to_numpy(), df.iloc[:,-1].to_numpy()\n",
        "# Perform train test split\n",
        "X_train, X_test, y_train, y_test = train_test_split(X, y, random_state=42)\n",
        "# Scale data\n",
        "scaler = StandardScaler()\n",
        "X_train_scaled = scaler.fit_transform(X_train)\n",
        "X_test_scaled = scaler.transform(X_test)"
      ]
    },
    {
      "cell_type": "markdown",
      "metadata": {
        "deletable": false,
        "editable": false,
        "nbgrader": {
          "cell_type": "markdown",
          "checksum": "bc17cd48c3bea078d27a994ecbf57d9c",
          "grade": false,
          "grade_id": "cell-900fc5185c49d611",
          "locked": true,
          "schema_version": 3,
          "solution": false,
          "task": false
        },
        "id": "O_gSsSjzfV4s"
      },
      "source": [
        "### 1. Baseline Metrics\n",
        "\n",
        "Before we actually perform any modeling, let's determine what metrics we would expect to get with a \"dummy\" model that always predicts the positive class.\n",
        "\n",
        "For this assessment we'll define \"negative\" as a 0 (benign) and \"positive\" as a 1 (malignant).\n",
        "\n",
        "We will focus on the test data, since this is what we will use to evaluate our actual model as well.\n",
        "\n",
        "The code below shows an array containing the number of records in the test dataset with class 0 (benign) and class 1 (malignant)"
      ]
    },
    {
      "cell_type": "code",
      "execution_count": null,
      "metadata": {
        "deletable": false,
        "editable": false,
        "nbgrader": {
          "cell_type": "code",
          "checksum": "cf4fcd118e4c575b8889bd33e80dcf71",
          "grade": false,
          "grade_id": "cell-3749265b38571fac",
          "locked": true,
          "schema_version": 3,
          "solution": false,
          "task": false
        },
        "id": "0cGvL9GBfV4t",
        "colab": {
          "base_uri": "https://localhost:8080/"
        },
        "outputId": "c5c58e40-59a3-4fbb-8be7-842f06988dd3"
      },
      "outputs": [
        {
          "output_type": "execute_result",
          "data": {
            "text/plain": [
              "array([89, 54])"
            ]
          },
          "metadata": {},
          "execution_count": 2
        }
      ],
      "source": [
        "# Run this cell without changes\n",
        "np.bincount(y_test)"
      ]
    },
    {
      "cell_type": "markdown",
      "metadata": {
        "deletable": false,
        "editable": false,
        "nbgrader": {
          "cell_type": "markdown",
          "checksum": "f631342e2d949cc02de4778a61da6a7b",
          "grade": false,
          "grade_id": "cell-a235418dd6df809c",
          "locked": true,
          "schema_version": 3,
          "solution": false,
          "task": false
        },
        "id": "R2VKq-esfV4t"
      },
      "source": [
        "In other words, a model that always predicts the positive class, will predict a 1 for every observation. Given the imbalance of the target seen above, (The balance is similar in the training data as well), we will calculate different classification metrics to evaluate the model's performance for both positive and negative labels.\n",
        "\n",
        "The confusion matrix looks like this:"
      ]
    },
    {
      "cell_type": "code",
      "execution_count": null,
      "metadata": {
        "deletable": false,
        "editable": false,
        "nbgrader": {
          "cell_type": "code",
          "checksum": "ff5c3cef4fcd679c2ec6ac7a0e7ef3fa",
          "grade": false,
          "grade_id": "cell-f5e5c157e227ff7e",
          "locked": true,
          "schema_version": 3,
          "solution": false,
          "task": false
        },
        "id": "_XATGiqjfV4t",
        "colab": {
          "base_uri": "https://localhost:8080/",
          "height": 449
        },
        "outputId": "14e30199-43a6-4c7a-cf41-e0ec41a38c97"
      },
      "outputs": [
        {
          "output_type": "display_data",
          "data": {
            "text/plain": [
              "<Figure size 640x480 with 2 Axes>"
            ],
            "image/png": "[encoded data removed]"
          },
          "metadata": {}
        }
      ],
      "source": [
        "# Run this cell without changes\n",
        "from sklearn.metrics import ConfusionMatrixDisplay\n",
        "from sklearn.dummy import DummyClassifier\n",
        "\n",
        "ConfusionMatrixDisplay.from_estimator(estimator=DummyClassifier(strategy='constant', constant=1).fit(X_train, y_train),\n",
        "                                       X=X_test, y=y_test);"
      ]
    },
    {
      "cell_type": "markdown",
      "metadata": {
        "deletable": false,
        "editable": false,
        "nbgrader": {
          "cell_type": "markdown",
          "checksum": "56a6937dd02a56814c6ddbd870d2be88",
          "grade": false,
          "grade_id": "cell-6cc083aefe185bc9",
          "locked": true,
          "schema_version": 3,
          "solution": false,
          "task": false
        },
        "id": "7Vk8e66afV4t"
      },
      "source": [
        "For each of the following questions, assume that a \"baseline\" metric means the metric we would find if our model always chose class 1.\n",
        "\n",
        "You can just use the numbers 89 and 54 in your answer; you don't need to use `y_test` directly.\n",
        "\n",
        "#### What is the baseline accuracy?"
      ]
    },
    {
      "cell_type": "code",
      "execution_count": null,
      "metadata": {
        "deletable": false,
        "nbgrader": {
          "cell_type": "code",
          "checksum": "e755b181915a1928635263dbafbea91d",
          "grade": false,
          "grade_id": "cell-4fc8ecbde3cefea5",
          "locked": false,
          "schema_version": 3,
          "solution": true,
          "task": false
        },
        "id": "k5JMT0qPfV4u",
        "colab": {
          "base_uri": "https://localhost:8080/"
        },
        "outputId": "d8591df0-c1ca-4149-ea6e-92e4d0115dde"
      },
      "outputs": [
        {
          "output_type": "execute_result",
          "data": {
            "text/plain": [
              "0.3776223776223776"
            ]
          },
          "metadata": {},
          "execution_count": 4
        }
      ],
      "source": [
        "# Replace None with appropriate code\n",
        "# True Positive (TP)\n",
        "true_positive = 54\n",
        "\n",
        "# False Negative (FN)\n",
        "false_negative = 0\n",
        "\n",
        "# True Negative\n",
        "true_negative = 0\n",
        "\n",
        "#False Positive\n",
        "false_positive = 89\n",
        "\n",
        "total_observations = 89+54\n",
        "baseline_accuracy = true_positive/total_observations\n",
        "# YOUR CODE HERE\n",
        "baseline_accuracy"
      ]
    },
    {
      "cell_type": "code",
      "execution_count": null,
      "metadata": {
        "deletable": false,
        "editable": false,
        "nbgrader": {
          "cell_type": "code",
          "checksum": "43b15a2ecf13d6232e02f8c930484716",
          "grade": true,
          "grade_id": "cell-d82e1145566cbde4",
          "locked": true,
          "points": 0.5,
          "schema_version": 3,
          "solution": false,
          "task": false
        },
        "id": "DDSyhHrQfV4u"
      },
      "outputs": [],
      "source": [
        "# baseline_accuracy should be a number between 0 and 1\n",
        "assert 0.0 <= baseline_accuracy and baseline_accuracy <= 1.0\n",
        "\n",
        "# PUT ALL WORK FOR THE ABOVE QUESTION ABOVE THIS CELL\n",
        "# THIS UNALTERABLE CELL CONTAINS HIDDEN TESTS"
      ]
    },
    {
      "cell_type": "markdown",
      "metadata": {
        "deletable": false,
        "editable": false,
        "nbgrader": {
          "cell_type": "markdown",
          "checksum": "b3602d6ea1412f5a93bc2bb96dbc33c8",
          "grade": false,
          "grade_id": "cell-ce29090a1e7a50a3",
          "locked": true,
          "schema_version": 3,
          "solution": false,
          "task": false
        },
        "id": "NeCn3kNYfV4u"
      },
      "source": [
        "#### What is the baseline recall?\n",
        "\n",
        "As a reminder, a \"negative\" prediction is represented as 0 (benign) and a \"positive\" prediction as 1 (malignant). So all baseline predictions will be either \"true positives\" (actually 1, predicted 1) or \"false positives\" (actually 0, predicted 1) and there will not be any \"true negatives\" or \"false negatives\" because this model always chooses 1."
      ]
    },
    {
      "cell_type": "code",
      "execution_count": null,
      "metadata": {
        "deletable": false,
        "nbgrader": {
          "cell_type": "code",
          "checksum": "1afa42887089cbba5fd6ac5ca740e5dc",
          "grade": false,
          "grade_id": "cell-bd2963c096bc719d",
          "locked": false,
          "schema_version": 3,
          "solution": true,
          "task": false
        },
        "id": "0S6yAp39fV4u",
        "colab": {
          "base_uri": "https://localhost:8080/"
        },
        "outputId": "dfbdc256-7921-4f78-9735-86c2533f6c58"
      },
      "outputs": [
        {
          "output_type": "execute_result",
          "data": {
            "text/plain": [
              "1.0"
            ]
          },
          "metadata": {},
          "execution_count": 5
        }
      ],
      "source": [
        "# Replace None with appropriate code\n",
        "\n",
        "baseline_recall = true_positive / (true_positive + false_negative)\n",
        "# YOUR CODE HERE\n",
        "baseline_recall"
      ]
    },
    {
      "cell_type": "code",
      "execution_count": null,
      "metadata": {
        "deletable": false,
        "editable": false,
        "nbgrader": {
          "cell_type": "code",
          "checksum": "1af441fe5d623b8b83fd999a88aa6296",
          "grade": true,
          "grade_id": "cell-d1e42e6ab2e2dbbe",
          "locked": true,
          "points": 0.5,
          "schema_version": 3,
          "solution": false,
          "task": false
        },
        "id": "3q40qwCGfV4v"
      },
      "outputs": [],
      "source": [
        "# baseline_recall should be a number between 0 and 1\n",
        "assert 0.0 <= baseline_recall and baseline_recall <= 1.0\n",
        "\n",
        "# PUT ALL WORK FOR THE ABOVE QUESTION ABOVE THIS CELL\n",
        "# THIS UNALTERABLE CELL CONTAINS HIDDEN TESTS"
      ]
    },
    {
      "cell_type": "markdown",
      "metadata": {
        "deletable": false,
        "editable": false,
        "nbgrader": {
          "cell_type": "markdown",
          "checksum": "3fb4fa3032fc6b6031784ba86ad30ad8",
          "grade": false,
          "grade_id": "cell-dba77045ab3d5734",
          "locked": true,
          "schema_version": 3,
          "solution": false,
          "task": false
        },
        "id": "i7PTeWwBfV4v"
      },
      "source": [
        "#### What is the baseline precision?"
      ]
    },
    {
      "cell_type": "code",
      "execution_count": null,
      "metadata": {
        "deletable": false,
        "nbgrader": {
          "cell_type": "code",
          "checksum": "1565f8e0ad75be5ca0b9f2a4b8ff37b7",
          "grade": false,
          "grade_id": "cell-ad278d44219e8d59",
          "locked": false,
          "schema_version": 3,
          "solution": true,
          "task": false
        },
        "id": "PZaa-6cFfV4v",
        "colab": {
          "base_uri": "https://localhost:8080/"
        },
        "outputId": "645cf6f0-4370-4f86-c2a1-be2b45ebadd7"
      },
      "outputs": [
        {
          "output_type": "execute_result",
          "data": {
            "text/plain": [
              "0.3776223776223776"
            ]
          },
          "metadata": {},
          "execution_count": 7
        }
      ],
      "source": [
        "# Replace None with appropriate code\n",
        "\n",
        "baseline_precision = true_positive / (true_positive + false_positive)\n",
        "\n",
        "# YOUR CODE HERE\n",
        "baseline_precision"
      ]
    },
    {
      "cell_type": "code",
      "execution_count": null,
      "metadata": {
        "deletable": false,
        "editable": false,
        "nbgrader": {
          "cell_type": "code",
          "checksum": "cad6886e1fa5f31d5470160689d181fe",
          "grade": true,
          "grade_id": "cell-ef0982e7efdef257",
          "locked": true,
          "points": 0.5,
          "schema_version": 3,
          "solution": false,
          "task": false
        },
        "id": "0w-syaPnfV4v"
      },
      "outputs": [],
      "source": [
        "# baseline_precision should be a number between 0 and 1\n",
        "assert 0.0 <= baseline_precision and baseline_precision <= 1.0\n",
        "\n",
        "# PUT ALL WORK FOR THE ABOVE QUESTION ABOVE THIS CELL\n",
        "# THIS UNALTERABLE CELL CONTAINS HIDDEN TESTS"
      ]
    },
    {
      "cell_type": "markdown",
      "metadata": {
        "deletable": false,
        "editable": false,
        "nbgrader": {
          "cell_type": "markdown",
          "checksum": "39ed2200b2fe421b52cc606fa37ef63b",
          "grade": false,
          "grade_id": "cell-09a829b393083712",
          "locked": true,
          "schema_version": 3,
          "solution": false,
          "task": false
        },
        "id": "RXuhH701fV4v"
      },
      "source": [
        "#### What is the baseline f1-score?"
      ]
    },
    {
      "cell_type": "code",
      "execution_count": null,
      "metadata": {
        "deletable": false,
        "nbgrader": {
          "cell_type": "code",
          "checksum": "4e4a3f036374389d18a8e63ead446de5",
          "grade": false,
          "grade_id": "cell-b2df160d3ab75209",
          "locked": false,
          "schema_version": 3,
          "solution": true,
          "task": false
        },
        "id": "Ct_dhStjfV4v",
        "colab": {
          "base_uri": "https://localhost:8080/"
        },
        "outputId": "a5eb9428-7d48-42f4-d53f-e802640f3449"
      },
      "outputs": [
        {
          "output_type": "execute_result",
          "data": {
            "text/plain": [
              "0.5482233502538071"
            ]
          },
          "metadata": {},
          "execution_count": 8
        }
      ],
      "source": [
        "# Replace None with appropriate code\n",
        "baseline_f1 = 2 * (baseline_precision * baseline_recall) / (baseline_precision + baseline_recall)\n",
        "# YOUR CODE HERE\n",
        "baseline_f1"
      ]
    },
    {
      "cell_type": "code",
      "execution_count": null,
      "metadata": {
        "deletable": false,
        "editable": false,
        "nbgrader": {
          "cell_type": "code",
          "checksum": "79b64c37103336ed2404a9857f99ce10",
          "grade": true,
          "grade_id": "cell-ffaf20b73f713bf7",
          "locked": true,
          "points": 0.5,
          "schema_version": 3,
          "solution": false,
          "task": false
        },
        "id": "9qLIkhWBfV4v"
      },
      "outputs": [],
      "source": [
        "# baseline_f1 should be a number between 0 and 1\n",
        "assert 0.0 <= baseline_f1 and baseline_f1 <= 1.0\n",
        "\n",
        "# PUT ALL WORK FOR THE ABOVE QUESTION ABOVE THIS CELL\n",
        "# THIS UNALTERABLE CELL CONTAINS HIDDEN TESTS"
      ]
    },
    {
      "cell_type": "markdown",
      "metadata": {
        "deletable": false,
        "editable": false,
        "nbgrader": {
          "cell_type": "markdown",
          "checksum": "8b61e7f0a41a41b7d2fe29b1fc463af2",
          "grade": false,
          "grade_id": "cell-594415dfc9fb22d1",
          "locked": true,
          "schema_version": 3,
          "solution": false,
          "task": false
        },
        "id": "HK-ioByFfV4w"
      },
      "source": [
        "## 2. Instantiate and Fit a `LogisticRegression` Model\n",
        "\n",
        "Use the `LogisticRegression` model from scikit-learn ([documentation here](https://scikit-learn.org/stable/modules/generated/sklearn.linear_model.LogisticRegression.html)). Specify a `random_state` of 42 but otherwise use default hyperparameters.\n",
        "\n",
        "Because logistic regression applies regularization by default, make sure you use the scaled training data to fit the model.\n",
        "\n",
        "Call this model `model`.\n",
        "\n",
        "We have also included code to display the confusion matrix on the training data; if the confusion matrix doesn't render, that indicates that something is incorrect about your model."
      ]
    },
    {
      "cell_type": "code",
      "source": [
        "df.head()"
      ],
      "metadata": {
        "colab": {
          "base_uri": "https://localhost:8080/",
          "height": 290
        },
        "id": "QWknUnPalk5z",
        "outputId": "1cec06c2-4589-4adf-809f-fb756d03ed63"
      },
      "execution_count": null,
      "outputs": [
        {
          "output_type": "execute_result",
          "data": {
            "text/plain": [
              "   mean radius  mean texture  mean perimeter  mean area  mean smoothness  \\\n",
              "0        17.99         10.38          122.80     1001.0          0.11840   \n",
              "1        20.57         17.77          132.90     1326.0          0.08474   \n",
              "2        19.69         21.25          130.00     1203.0          0.10960   \n",
              "3        11.42         20.38           77.58      386.1          0.14250   \n",
              "4        20.29         14.34          135.10     1297.0          0.10030   \n",
              "\n",
              "   mean compactness  mean concavity  mean concave points  mean symmetry  \\\n",
              "0           0.27760          0.3001              0.14710         0.2419   \n",
              "1           0.07864          0.0869              0.07017         0.1812   \n",
              "2           0.15990          0.1974              0.12790         0.2069   \n",
              "3           0.28390          0.2414              0.10520         0.2597   \n",
              "4           0.13280          0.1980              0.10430         0.1809   \n",
              "\n",
              "   mean fractal dimension  ...  worst texture  worst perimeter  worst area  \\\n",
              "0                 0.07871  ...          17.33           184.60      2019.0   \n",
              "1                 0.05667  ...          23.41           158.80      1956.0   \n",
              "2                 0.05999  ...          25.53           152.50      1709.0   \n",
              "3                 0.09744  ...          26.50            98.87       567.7   \n",
              "4                 0.05883  ...          16.67           152.20      1575.0   \n",
              "\n",
              "   worst smoothness  worst compactness  worst concavity  worst concave points  \\\n",
              "0            0.1622             0.6656           0.7119                0.2654   \n",
              "1            0.1238             0.1866           0.2416                0.1860   \n",
              "2            0.1444             0.4245           0.4504                0.2430   \n",
              "3            0.2098             0.8663           0.6869                0.2575   \n",
              "4            0.1374             0.2050           0.4000                0.1625   \n",
              "\n",
              "   worst symmetry  worst fractal dimension  cancerous  \n",
              "0          0.4601                  0.11890          1  \n",
              "1          0.2750                  0.08902          1  \n",
              "2          0.3613                  0.08758          1  \n",
              "3          0.6638                  0.17300          1  \n",
              "4          0.2364                  0.07678          1  \n",
              "\n",
              "[5 rows x 31 columns]"
            ],
            "text/html": [
              "\n",
              "  <div id=\"df-dc88736e-dace-4d94-969a-3c9a99e71b37\" class=\"colab-df-container\">\n",
              "    <div>\n",
              "<style scoped>\n",
              "    .dataframe tbody tr th:only-of-type {\n",
              "        vertical-align: middle;\n",
              "    }\n",
              "\n",
              "    .dataframe tbody tr th {\n",
              "        vertical-align: top;\n",
              "    }\n",
              "\n",
              "    .dataframe thead th {\n",
              "        text-align: right;\n",
              "    }\n",
              "</style>\n",
              "<table border=\"1\" class=\"dataframe\">\n",
              "  <thead>\n",
              "    <tr style=\"text-align: right;\">\n",
              "      <th></th>\n",
              "      <th>mean radius</th>\n",
              "      <th>mean texture</th>\n",
              "      <th>mean perimeter</th>\n",
              "      <th>mean area</th>\n",
              "      <th>mean smoothness</th>\n",
              "      <th>mean compactness</th>\n",
              "      <th>mean concavity</th>\n",
              "      <th>mean concave points</th>\n",
              "      <th>mean symmetry</th>\n",
              "      <th>mean fractal dimension</th>\n",
              "      <th>...</th>\n",
              "      <th>worst texture</th>\n",
              "      <th>worst perimeter</th>\n",
              "      <th>worst area</th>\n",
              "      <th>worst smoothness</th>\n",
              "      <th>worst compactness</th>\n",
              "      <th>worst concavity</th>\n",
              "      <th>worst concave points</th>\n",
              "      <th>worst symmetry</th>\n",
              "      <th>worst fractal dimension</th>\n",
              "      <th>cancerous</th>\n",
              "    </tr>\n",
              "  </thead>\n",
              "  <tbody>\n",
              "    <tr>\n",
              "      <th>0</th>\n",
              "      <td>17.99</td>\n",
              "      <td>10.38</td>\n",
              "      <td>122.80</td>\n",
              "      <td>1001.0</td>\n",
              "      <td>0.11840</td>\n",
              "      <td>0.27760</td>\n",
              "      <td>0.3001</td>\n",
              "      <td>0.14710</td>\n",
              "      <td>0.2419</td>\n",
              "      <td>0.07871</td>\n",
              "      <td>...</td>\n",
              "      <td>17.33</td>\n",
              "      <td>184.60</td>\n",
              "      <td>2019.0</td>\n",
              "      <td>0.1622</td>\n",
              "      <td>0.6656</td>\n",
              "      <td>0.7119</td>\n",
              "      <td>0.2654</td>\n",
              "      <td>0.4601</td>\n",
              "      <td>0.11890</td>\n",
              "      <td>1</td>\n",
              "    </tr>\n",
              "    <tr>\n",
              "      <th>1</th>\n",
              "      <td>20.57</td>\n",
              "      <td>17.77</td>\n",
              "      <td>132.90</td>\n",
              "      <td>1326.0</td>\n",
              "      <td>0.08474</td>\n",
              "      <td>0.07864</td>\n",
              "      <td>0.0869</td>\n",
              "      <td>0.07017</td>\n",
              "      <td>0.1812</td>\n",
              "      <td>0.05667</td>\n",
              "      <td>...</td>\n",
              "      <td>23.41</td>\n",
              "      <td>158.80</td>\n",
              "      <td>1956.0</td>\n",
              "      <td>0.1238</td>\n",
              "      <td>0.1866</td>\n",
              "      <td>0.2416</td>\n",
              "      <td>0.1860</td>\n",
              "      <td>0.2750</td>\n",
              "      <td>0.08902</td>\n",
              "      <td>1</td>\n",
              "    </tr>\n",
              "    <tr>\n",
              "      <th>2</th>\n",
              "      <td>19.69</td>\n",
              "      <td>21.25</td>\n",
              "      <td>130.00</td>\n",
              "      <td>1203.0</td>\n",
              "      <td>0.10960</td>\n",
              "      <td>0.15990</td>\n",
              "      <td>0.1974</td>\n",
              "      <td>0.12790</td>\n",
              "      <td>0.2069</td>\n",
              "      <td>0.05999</td>\n",
              "      <td>...</td>\n",
              "      <td>25.53</td>\n",
              "      <td>152.50</td>\n",
              "      <td>1709.0</td>\n",
              "      <td>0.1444</td>\n",
              "      <td>0.4245</td>\n",
              "      <td>0.4504</td>\n",
              "      <td>0.2430</td>\n",
              "      <td>0.3613</td>\n",
              "      <td>0.08758</td>\n",
              "      <td>1</td>\n",
              "    </tr>\n",
              "    <tr>\n",
              "      <th>3</th>\n",
              "      <td>11.42</td>\n",
              "      <td>20.38</td>\n",
              "      <td>77.58</td>\n",
              "      <td>386.1</td>\n",
              "      <td>0.14250</td>\n",
              "      <td>0.28390</td>\n",
              "      <td>0.2414</td>\n",
              "      <td>0.10520</td>\n",
              "      <td>0.2597</td>\n",
              "      <td>0.09744</td>\n",
              "      <td>...</td>\n",
              "      <td>26.50</td>\n",
              "      <td>98.87</td>\n",
              "      <td>567.7</td>\n",
              "      <td>0.2098</td>\n",
              "      <td>0.8663</td>\n",
              "      <td>0.6869</td>\n",
              "      <td>0.2575</td>\n",
              "      <td>0.6638</td>\n",
              "      <td>0.17300</td>\n",
              "      <td>1</td>\n",
              "    </tr>\n",
              "    <tr>\n",
              "      <th>4</th>\n",
              "      <td>20.29</td>\n",
              "      <td>14.34</td>\n",
              "      <td>135.10</td>\n",
              "      <td>1297.0</td>\n",
              "      <td>0.10030</td>\n",
              "      <td>0.13280</td>\n",
              "      <td>0.1980</td>\n",
              "      <td>0.10430</td>\n",
              "      <td>0.1809</td>\n",
              "      <td>0.05883</td>\n",
              "      <td>...</td>\n",
              "      <td>16.67</td>\n",
              "      <td>152.20</td>\n",
              "      <td>1575.0</td>\n",
              "      <td>0.1374</td>\n",
              "      <td>0.2050</td>\n",
              "      <td>0.4000</td>\n",
              "      <td>0.1625</td>\n",
              "      <td>0.2364</td>\n",
              "      <td>0.07678</td>\n",
              "      <td>1</td>\n",
              "    </tr>\n",
              "  </tbody>\n",
              "</table>\n",
              "<p>5 rows × 31 columns</p>\n",
              "</div>\n",
              "    <div class=\"colab-df-buttons\">\n",
              "\n",
              "  <div class=\"colab-df-container\">\n",
              "    <button class=\"colab-df-convert\" onclick=\"convertToInteractive('df-dc88736e-dace-4d94-969a-3c9a99e71b37')\"\n",
              "            title=\"Convert this dataframe to an interactive table.\"\n",
              "            style=\"display:none;\">\n",
              "\n",
              "  <svg xmlns=\"http://www.w3.org/2000/svg\" height=\"24px\" viewBox=\"0 -960 960 960\">\n",
              "    <path d=\"M120-120v-720h720v720H120Zm60-500h600v-160H180v160Zm220 220h160v-160H400v160Zm0 220h160v-160H400v160ZM180-400h160v-160H180v160Zm440 0h160v-160H620v160ZM180-180h160v-160H180v160Zm440 0h160v-160H620v160Z\"/>\n",
              "  </svg>\n",
              "    </button>\n",
              "\n",
              "  <style>\n",
              "    .colab-df-container {\n",
              "      display:flex;\n",
              "      gap: 12px;\n",
              "    }\n",
              "\n",
              "    .colab-df-convert {\n",
              "      background-color: #E8F0FE;\n",
              "      border: none;\n",
              "      border-radius: 50%;\n",
              "      cursor: pointer;\n",
              "      display: none;\n",
              "      fill: #1967D2;\n",
              "      height: 32px;\n",
              "      padding: 0 0 0 0;\n",
              "      width: 32px;\n",
              "    }\n",
              "\n",
              "    .colab-df-convert:hover {\n",
              "      background-color: #E2EBFA;\n",
              "      box-shadow: 0px 1px 2px rgba(60, 64, 67, 0.3), 0px 1px 3px 1px rgba(60, 64, 67, 0.15);\n",
              "      fill: #174EA6;\n",
              "    }\n",
              "\n",
              "    .colab-df-buttons div {\n",
              "      margin-bottom: 4px;\n",
              "    }\n",
              "\n",
              "    [theme=dark] .colab-df-convert {\n",
              "      background-color: #3B4455;\n",
              "      fill: #D2E3FC;\n",
              "    }\n",
              "\n",
              "    [theme=dark] .colab-df-convert:hover {\n",
              "      background-color: #434B5C;\n",
              "      box-shadow: 0px 1px 3px 1px rgba(0, 0, 0, 0.15);\n",
              "      filter: drop-shadow(0px 1px 2px rgba(0, 0, 0, 0.3));\n",
              "      fill: #FFFFFF;\n",
              "    }\n",
              "  </style>\n",
              "\n",
              "    <script>\n",
              "      const buttonEl =\n",
              "        document.querySelector('#df-dc88736e-dace-4d94-969a-3c9a99e71b37 button.colab-df-convert');\n",
              "      buttonEl.style.display =\n",
              "        google.colab.kernel.accessAllowed ? 'block' : 'none';\n",
              "\n",
              "      async function convertToInteractive(key) {\n",
              "        const element = document.querySelector('#df-dc88736e-dace-4d94-969a-3c9a99e71b37');\n",
              "        const dataTable =\n",
              "          await google.colab.kernel.invokeFunction('convertToInteractive',\n",
              "                                                    [key], {});\n",
              "        if (!dataTable) return;\n",
              "\n",
              "        const docLinkHtml = 'Like what you see? Visit the ' +\n",
              "          '<a target=\"_blank\" href=https://colab.research.google.com/notebooks/data_table.ipynb>data table notebook</a>'\n",
              "          + ' to learn more about interactive tables.';\n",
              "        element.innerHTML = '';\n",
              "        dataTable['output_type'] = 'display_data';\n",
              "        await google.colab.output.renderOutput(dataTable, element);\n",
              "        const docLink = document.createElement('div');\n",
              "        docLink.innerHTML = docLinkHtml;\n",
              "        element.appendChild(docLink);\n",
              "      }\n",
              "    </script>\n",
              "  </div>\n",
              "\n",
              "\n",
              "<div id=\"df-82b72f26-ddb5-443e-a7e8-bef6405a4eac\">\n",
              "  <button class=\"colab-df-quickchart\" onclick=\"quickchart('df-82b72f26-ddb5-443e-a7e8-bef6405a4eac')\"\n",
              "            title=\"Suggest charts\"\n",
              "            style=\"display:none;\">\n",
              "\n",
              "<svg xmlns=\"http://www.w3.org/2000/svg\" height=\"24px\"viewBox=\"0 0 24 24\"\n",
              "     width=\"24px\">\n",
              "    <g>\n",
              "        <path d=\"M19 3H5c-1.1 0-2 .9-2 2v14c0 1.1.9 2 2 2h14c1.1 0 2-.9 2-2V5c0-1.1-.9-2-2-2zM9 17H7v-7h2v7zm4 0h-2V7h2v10zm4 0h-2v-4h2v4z\"/>\n",
              "    </g>\n",
              "</svg>\n",
              "  </button>\n",
              "\n",
              "<style>\n",
              "  .colab-df-quickchart {\n",
              "      --bg-color: #E8F0FE;\n",
              "      --fill-color: #1967D2;\n",
              "      --hover-bg-color: #E2EBFA;\n",
              "      --hover-fill-color: #174EA6;\n",
              "      --disabled-fill-color: #AAA;\n",
              "      --disabled-bg-color: #DDD;\n",
              "  }\n",
              "\n",
              "  [theme=dark] .colab-df-quickchart {\n",
              "      --bg-color: #3B4455;\n",
              "      --fill-color: #D2E3FC;\n",
              "      --hover-bg-color: #434B5C;\n",
              "      --hover-fill-color: #FFFFFF;\n",
              "      --disabled-bg-color: #3B4455;\n",
              "      --disabled-fill-color: #666;\n",
              "  }\n",
              "\n",
              "  .colab-df-quickchart {\n",
              "    background-color: var(--bg-color);\n",
              "    border: none;\n",
              "    border-radius: 50%;\n",
              "    cursor: pointer;\n",
              "    display: none;\n",
              "    fill: var(--fill-color);\n",
              "    height: 32px;\n",
              "    padding: 0;\n",
              "    width: 32px;\n",
              "  }\n",
              "\n",
              "  .colab-df-quickchart:hover {\n",
              "    background-color: var(--hover-bg-color);\n",
              "    box-shadow: 0 1px 2px rgba(60, 64, 67, 0.3), 0 1px 3px 1px rgba(60, 64, 67, 0.15);\n",
              "    fill: var(--button-hover-fill-color);\n",
              "  }\n",
              "\n",
              "  .colab-df-quickchart-complete:disabled,\n",
              "  .colab-df-quickchart-complete:disabled:hover {\n",
              "    background-color: var(--disabled-bg-color);\n",
              "    fill: var(--disabled-fill-color);\n",
              "    box-shadow: none;\n",
              "  }\n",
              "\n",
              "  .colab-df-spinner {\n",
              "    border: 2px solid var(--fill-color);\n",
              "    border-color: transparent;\n",
              "    border-bottom-color: var(--fill-color);\n",
              "    animation:\n",
              "      spin 1s steps(1) infinite;\n",
              "  }\n",
              "\n",
              "  @keyframes spin {\n",
              "    0% {\n",
              "      border-color: transparent;\n",
              "      border-bottom-color: var(--fill-color);\n",
              "      border-left-color: var(--fill-color);\n",
              "    }\n",
              "    20% {\n",
              "      border-color: transparent;\n",
              "      border-left-color: var(--fill-color);\n",
              "      border-top-color: var(--fill-color);\n",
              "    }\n",
              "    30% {\n",
              "      border-color: transparent;\n",
              "      border-left-color: var(--fill-color);\n",
              "      border-top-color: var(--fill-color);\n",
              "      border-right-color: var(--fill-color);\n",
              "    }\n",
              "    40% {\n",
              "      border-color: transparent;\n",
              "      border-right-color: var(--fill-color);\n",
              "      border-top-color: var(--fill-color);\n",
              "    }\n",
              "    60% {\n",
              "      border-color: transparent;\n",
              "      border-right-color: var(--fill-color);\n",
              "    }\n",
              "    80% {\n",
              "      border-color: transparent;\n",
              "      border-right-color: var(--fill-color);\n",
              "      border-bottom-color: var(--fill-color);\n",
              "    }\n",
              "    90% {\n",
              "      border-color: transparent;\n",
              "      border-bottom-color: var(--fill-color);\n",
              "    }\n",
              "  }\n",
              "</style>\n",
              "\n",
              "  <script>\n",
              "    async function quickchart(key) {\n",
              "      const quickchartButtonEl =\n",
              "        document.querySelector('#' + key + ' button');\n",
              "      quickchartButtonEl.disabled = true;  // To prevent multiple clicks.\n",
              "      quickchartButtonEl.classList.add('colab-df-spinner');\n",
              "      try {\n",
              "        const charts = await google.colab.kernel.invokeFunction(\n",
              "            'suggestCharts', [key], {});\n",
              "      } catch (error) {\n",
              "        console.error('Error during call to suggestCharts:', error);\n",
              "      }\n",
              "      quickchartButtonEl.classList.remove('colab-df-spinner');\n",
              "      quickchartButtonEl.classList.add('colab-df-quickchart-complete');\n",
              "    }\n",
              "    (() => {\n",
              "      let quickchartButtonEl =\n",
              "        document.querySelector('#df-82b72f26-ddb5-443e-a7e8-bef6405a4eac button');\n",
              "      quickchartButtonEl.style.display =\n",
              "        google.colab.kernel.accessAllowed ? 'block' : 'none';\n",
              "    })();\n",
              "  </script>\n",
              "</div>\n",
              "    </div>\n",
              "  </div>\n"
            ],
            "application/vnd.google.colaboratory.intrinsic+json": {
              "type": "dataframe",
              "variable_name": "df"
            }
          },
          "metadata": {},
          "execution_count": 9
        }
      ]
    },
    {
      "cell_type": "code",
      "execution_count": null,
      "metadata": {
        "deletable": false,
        "nbgrader": {
          "cell_type": "code",
          "checksum": "179392aebf07a49006f10315bf84fa6c",
          "grade": false,
          "grade_id": "cell-b2952b81667870c7",
          "locked": false,
          "schema_version": 3,
          "solution": true,
          "task": false
        },
        "id": "_Jgc3BqzfV4w",
        "colab": {
          "base_uri": "https://localhost:8080/",
          "height": 449
        },
        "outputId": "0568dae5-b6d8-47cf-eaef-4637d5d991b7"
      },
      "outputs": [
        {
          "output_type": "display_data",
          "data": {
            "text/plain": [
              "<Figure size 640x480 with 2 Axes>"
            ],
            "image/png": "[encoded data removed]"
          },
          "metadata": {}
        }
      ],
      "source": [
        "# Replace None with appropriate code\n",
        "\n",
        "# Import the relevant class\n",
        "from sklearn.linear_model import LogisticRegression\n",
        "from sklearn.preprocessing import StandardScaler\n",
        "from sklearn.model_selection import train_test_split\n",
        "\n",
        "# Assuming you have a DataFrame 'df' and a target column 'target'\n",
        "# Splitting data into training and test sets\n",
        "X_train, X_test, y_train, y_test = train_test_split(df.drop('cancerous', axis=1), df['cancerous'], test_size=0.2, random_state=42)\n",
        "\n",
        "# Scale the training data\n",
        "scaler = StandardScaler()\n",
        "X_train_scaled = scaler.fit_transform(X_train)\n",
        "\n",
        "# Instantiate the model\n",
        "model = LogisticRegression(random_state=42)\n",
        "\n",
        "# Fit the model on the scaled data\n",
        "model.fit(X_train_scaled, y_train)\n",
        "\n",
        "# YOUR CODE HERE\n",
        "ConfusionMatrixDisplay.from_estimator(estimator=model, X=X_train_scaled, y=y_train);"
      ]
    },
    {
      "cell_type": "code",
      "execution_count": null,
      "metadata": {
        "deletable": false,
        "editable": false,
        "nbgrader": {
          "cell_type": "code",
          "checksum": "6e20594b5b08f86873a250a8cacabeed",
          "grade": true,
          "grade_id": "cell-c43d403e0a8efb8c",
          "locked": true,
          "points": 1,
          "schema_version": 3,
          "solution": false,
          "task": false
        },
        "id": "-iA5lUxNfV4w"
      },
      "outputs": [],
      "source": [
        "# model should be a LogisticRegression\n",
        "assert type(model) == LogisticRegression\n",
        "\n",
        "# model should be fitted\n",
        "assert type(model.coef_) == np.ndarray\n",
        "\n",
        "# PUT ALL WORK FOR THE ABOVE QUESTION ABOVE THIS CELL\n",
        "# THIS UNALTERABLE CELL CONTAINS HIDDEN TESTS"
      ]
    },
    {
      "cell_type": "markdown",
      "metadata": {
        "id": "xayvhceIfV4w"
      },
      "source": [
        "### 3. Use Cross-Validation to Evaluate the Fitted Model\n",
        "\n",
        "Use `cross_val_score` from scikit-learn ([documentation here](https://scikit-learn.org/stable/modules/generated/sklearn.model_selection.cross_val_score.html)) to evaluate the expected accuracy of the fitted model, prior to using the test data.\n",
        "\n",
        "Use a `cv` of 3 and assign the result to `cv_scores`."
      ]
    },
    {
      "cell_type": "code",
      "execution_count": null,
      "metadata": {
        "deletable": false,
        "nbgrader": {
          "cell_type": "code",
          "checksum": "5ffa59f1e3e77a84d9081358466ee41e",
          "grade": false,
          "grade_id": "cell-3b52c61d710a43d8",
          "locked": false,
          "schema_version": 3,
          "solution": true,
          "task": false
        },
        "id": "F-GGAedmfV4w",
        "colab": {
          "base_uri": "https://localhost:8080/"
        },
        "outputId": "abb2323b-0b03-4683-dbe5-12b106bfee5d"
      },
      "outputs": [
        {
          "output_type": "execute_result",
          "data": {
            "text/plain": [
              "array([0.98026316, 0.98026316, 0.94701987])"
            ]
          },
          "metadata": {},
          "execution_count": 12
        }
      ],
      "source": [
        "# Replace None with appropriate code\n",
        "\n",
        "# Import the relevant function\n",
        "from sklearn.model_selection import cross_val_score\n",
        "\n",
        "\n",
        "# Perform cross-validation\n",
        "cv_scores = cross_val_score(model, X_train_scaled, y_train, cv=3)\n",
        "# YOUR CODE HERE\n",
        "cv_scores"
      ]
    },
    {
      "cell_type": "code",
      "execution_count": null,
      "metadata": {
        "deletable": false,
        "editable": false,
        "nbgrader": {
          "cell_type": "code",
          "checksum": "0a2f9b6cf1478a800cf07104706ae923",
          "grade": true,
          "grade_id": "cell-10967fd0bba39816",
          "locked": true,
          "points": 1,
          "schema_version": 3,
          "solution": false,
          "task": false
        },
        "id": "Z9e-ZmfNfV4w"
      },
      "outputs": [],
      "source": [
        "# cv_scores should contain 3 scores. If it doesn't, double-check\n",
        "# the value passed in for cv\n",
        "assert len(cv_scores) == 3\n",
        "\n",
        "# PUT ALL WORK FOR THE ABOVE QUESTION ABOVE THIS CELL\n",
        "# THIS UNALTERABLE CELL CONTAINS HIDDEN TESTS"
      ]
    },
    {
      "cell_type": "markdown",
      "metadata": {
        "deletable": false,
        "editable": false,
        "nbgrader": {
          "cell_type": "markdown",
          "checksum": "ffb4d30bba69b8d5fa77c68d2d665b65",
          "grade": false,
          "grade_id": "cell-599a6362c8ef628f",
          "locked": true,
          "schema_version": 3,
          "solution": false,
          "task": false
        },
        "id": "vaX-jThmfV4w"
      },
      "source": [
        "### 4. Compare Baseline and Fitted Model Scores\n",
        "\n",
        "Now, use functions from scikit-learn to compute the accuracy, recall, precision, and f1-score of the fitted model. We have prepared code that will print them out side-by-side with the baseline scores.\n",
        "\n",
        "Documentation can be found [here](https://scikit-learn.org/stable/modules/generated/sklearn.metrics.accuracy_score.html#sklearn.metrics.accuracy_score), [here](https://scikit-learn.org/stable/modules/generated/sklearn.metrics.recall_score.html#sklearn.metrics.recall_score), [here](https://scikit-learn.org/stable/modules/generated/sklearn.metrics.precision_score.html#sklearn.metrics.precision_score), and [here](https://scikit-learn.org/stable/modules/generated/sklearn.metrics.f1_score.html#sklearn.metrics.f1_score).\n",
        "\n",
        "This time, **use the test data to calculate each metric.**"
      ]
    },
    {
      "cell_type": "code",
      "execution_count": null,
      "metadata": {
        "deletable": false,
        "nbgrader": {
          "cell_type": "code",
          "checksum": "ff64061546476c28a9c26655cf9e2114",
          "grade": false,
          "grade_id": "cell-264adb30a8921fde",
          "locked": false,
          "schema_version": 3,
          "solution": true,
          "task": false
        },
        "id": "Cu_ESx1GfV4w",
        "colab": {
          "base_uri": "https://localhost:8080/"
        },
        "outputId": "3c6cf34d-d6d5-4b24-e68c-444610b828d0"
      },
      "outputs": [
        {
          "output_type": "stream",
          "name": "stdout",
          "text": [
            "\n",
            "Accuracy\n",
            "Baseline: 0.378 Fitted Model: 0.974\n",
            "\n",
            "Recall\n",
            "Baseline: 1.000 Fitted Model: 0.953\n",
            "\n",
            "Precision\n",
            "Baseline: 0.378 Fitted Model: 0.976\n",
            "\n",
            "F1 Score\n",
            "Baseline: 0.548 Fitted Model: 0.965\n",
            "\n"
          ]
        }
      ],
      "source": [
        "from sklearn.metrics import accuracy_score, recall_score, precision_score, f1_score\n",
        "\n",
        "# Scale the test data using the same scaler used for the training data\n",
        "X_test_scaled = scaler.transform(X_test)\n",
        "\n",
        "# Predicting the test data using the fitted model\n",
        "y_pred = model.predict(X_test_scaled)\n",
        "\n",
        "# Replace None with appropriate code\n",
        "model_accuracy = accuracy_score(y_test, y_pred)\n",
        "model_recall = recall_score(y_test, y_pred)\n",
        "model_precision = precision_score(y_test, y_pred)\n",
        "model_f1 = f1_score(y_test, y_pred)\n",
        "# YOUR CODE HERE\n",
        "\n",
        "print(f\"\"\"\n",
        "Accuracy\n",
        "Baseline: {baseline_accuracy:1.3f} Fitted Model: {model_accuracy:1.3f}\n",
        "\\nRecall\n",
        "Baseline: {baseline_recall:1.3f} Fitted Model: {model_recall:1.3f}\n",
        "\\nPrecision\n",
        "Baseline: {baseline_precision:1.3f} Fitted Model: {model_precision:1.3f}\n",
        "\\nF1 Score\n",
        "Baseline: {baseline_f1:1.3f} Fitted Model: {model_f1:1.3f}\n",
        "\"\"\")\n"
      ]
    },
    {
      "cell_type": "code",
      "execution_count": null,
      "metadata": {
        "deletable": false,
        "editable": false,
        "nbgrader": {
          "cell_type": "code",
          "checksum": "09dcd60da46d529519135e8892d32bb7",
          "grade": true,
          "grade_id": "cell-c91e7c7e516f8d41",
          "locked": true,
          "points": 1,
          "schema_version": 3,
          "solution": false,
          "task": false
        },
        "id": "YAG6kwfYfV4w"
      },
      "outputs": [],
      "source": [
        "# all scores should be values between 0 and 1\n",
        "assert 0.0 <= model_accuracy and model_accuracy <= 1.0\n",
        "assert 0.0 <= model_recall and model_recall <= 1.0\n",
        "assert 0.0 <= model_precision and model_precision <= 1.0\n",
        "assert 0.0 <= model_f1 and model_f1 <= 1.0\n",
        "\n",
        "# PUT ALL WORK FOR THE ABOVE QUESTION ABOVE THIS CELL\n",
        "# THIS UNALTERABLE CELL CONTAINS HIDDEN TESTS"
      ]
    }
  ],
  "metadata": {
    "kernelspec": {
      "display_name": "Python 3 (ipykernel)",
      "language": "python",
      "name": "python3"
    },
    "language_info": {
      "codemirror_mode": {
        "name": "ipython",
        "version": 3
      },
      "file_extension": ".py",
      "mimetype": "text/x-python",
      "name": "python",
      "nbconvert_exporter": "python",
      "pygments_lexer": "ipython3",
      "version": "3.10.4"
    },
    "vscode": {
      "interpreter": {
        "hash": "9c94107dbb6f31e400bb19858c9768759ef7c8600537d1d879eb7d5b058e9ee3"
      }
    },
    "colab": {
      "provenance": [],
      "include_colab_link": true
    }
  },
  "nbformat": 4,
  "nbformat_minor": 0
}