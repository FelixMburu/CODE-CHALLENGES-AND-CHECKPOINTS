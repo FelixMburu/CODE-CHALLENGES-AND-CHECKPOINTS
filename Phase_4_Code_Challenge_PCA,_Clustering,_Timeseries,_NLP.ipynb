{
  "cells": [
    {
      "cell_type": "markdown",
      "metadata": {
        "id": "view-in-github",
        "colab_type": "text"
      },
      "source": [
        "<a href=\"https://colab.research.google.com/github/FelixMburu/CODE-CHALLENGES-AND-CHECKPOINTS/blob/main/Phase_4_Code_Challenge_PCA%2C_Clustering%2C_Timeseries%2C_NLP.ipynb\" target=\"_parent\"><img src=\"https://colab.research.google.com/assets/colab-badge.svg\" alt=\"Open In Colab\"/></a>"
      ]
    },
    {
      "cell_type": "markdown",
      "metadata": {
        "deletable": false,
        "editable": false,
        "nbgrader": {
          "cell_type": "markdown",
          "checksum": "30a5ef033f778164514df7d6f0cbed45",
          "grade": false,
          "grade_id": "cell-93e35ef07b6a9f79",
          "locked": true,
          "schema_version": 3,
          "solution": false,
          "task": false
        },
        "id": "5EmGLT98SFJT"
      },
      "source": [
        "\n",
        "\n",
        "```\n",
        "# This is formatted as code\n",
        "```\n",
        "\n",
        "# Phase 4 Code Challenge\n",
        "\n",
        "This code challenge is designed to test your understanding of the Phase 4 material. It covers:\n",
        "\n",
        "* Principal Component Analysis\n",
        "* Clustering\n",
        "* Time Series\n",
        "* Natural Language Processing\n",
        "\n",
        "_Read the instructions carefully_. You will be asked both to write code and to answer short answer questions.\n",
        "\n",
        "## Code Tests\n",
        "\n",
        "We have provided some code tests for you to run to check that your work meets the item specifications. Passing these tests does not necessarily mean that you have gotten the item correct - there are additional hidden tests. However, if any of the tests do not pass, this tells you that your code is incorrect and needs changes to meet the specification. To determine what the issue is, read the comments in the code test cells, the error message you receive, and the item instructions.\n",
        "\n",
        "## Short Answer Questions\n",
        "\n",
        "For the short answer questions...\n",
        "\n",
        "* _Use your own words_. It is OK to refer to outside resources when crafting your response, but _do not copy text from another source_.\n",
        "\n",
        "* _Communicate clearly_. We are not grading your writing skills, but you can only receive full credit if your teacher is able to fully understand your response.\n",
        "\n",
        "* _Be concise_. You should be able to answer most short answer questions in a sentence or two. Writing unnecessarily long answers increases the risk of you being unclear or saying something incorrect."
      ]
    },
    {
      "cell_type": "code",
      "execution_count": null,
      "metadata": {
        "deletable": false,
        "editable": false,
        "nbgrader": {
          "cell_type": "code",
          "checksum": "1d871c187c2643e8272c43319ab1ea89",
          "grade": false,
          "grade_id": "cell-8324b5fef3a46de1",
          "locked": true,
          "schema_version": 3,
          "solution": false,
          "task": false
        },
        "id": "fQS8NSj4SFJW"
      },
      "outputs": [],
      "source": [
        "# Run this cell without changes to import the necessary libraries\n",
        "\n",
        "from numbers import Number\n",
        "import matplotlib, sklearn, scipy, pickle\n",
        "import numpy as np\n",
        "import pandas as pd\n",
        "\n",
        "%matplotlib inline"
      ]
    },
    {
      "cell_type": "markdown",
      "metadata": {
        "deletable": false,
        "editable": false,
        "nbgrader": {
          "cell_type": "markdown",
          "checksum": "1abd19fc2972f3b9976a842da4d5fe11",
          "grade": false,
          "grade_id": "cell-0312e6ab3947bffa",
          "locked": true,
          "schema_version": 3,
          "solution": false,
          "task": false
        },
        "id": "mBqkPRcLSFJX"
      },
      "source": [
        "---\n",
        "\n",
        "## Part 1: Principal Component Analysis [Suggested Time: 15 minutes]\n",
        "\n",
        "---\n",
        "\n",
        "In this part, you will use Principal Component Analysis on the wine dataset."
      ]
    },
    {
      "cell_type": "code",
      "execution_count": null,
      "metadata": {
        "deletable": false,
        "editable": false,
        "nbgrader": {
          "cell_type": "code",
          "checksum": "e4210f4b302c288113d2dd306d539812",
          "grade": false,
          "grade_id": "cell-1c655cf7834874d7",
          "locked": true,
          "schema_version": 3,
          "solution": false,
          "task": false
        },
        "id": "58krZajWSFJX",
        "colab": {
          "base_uri": "https://localhost:8080/",
          "height": 226
        },
        "outputId": "cd68a803-3ef9-4fc3-e510-ef880de15f4b"
      },
      "outputs": [
        {
          "output_type": "execute_result",
          "data": {
            "text/plain": [
              "    alcohol  malic_acid       ash  alcalinity_of_ash  magnesium  \\\n",
              "0 -1.104538   -0.530902 -0.136257          -0.374157  -1.294014   \n",
              "1 -0.608849   -0.792240 -0.573221          -0.217310   4.793609   \n",
              "2  1.170548   -0.471890  1.611596          -0.091832   0.660038   \n",
              "3 -1.371448    1.559801  0.118638           0.410080  -1.218858   \n",
              "4 -0.443619    0.000204 -0.573221          -0.374157  -0.316988   \n",
              "\n",
              "   total_phenols  flavanoids  nonflavanoid_phenols  proanthocyanins  \\\n",
              "0      -1.017096   -0.444344              1.266120         0.159532   \n",
              "1       0.421716    0.331268             -0.403193         2.946675   \n",
              "2       1.141122    1.036369              0.014135         0.363469   \n",
              "3       0.997241    1.096806             -1.321315         2.317869   \n",
              "4      -0.985122   -1.290465              2.184241        -1.030103   \n",
              "\n",
              "   color_intensity       hue  od280/od315_of_diluted_wines   proline  \n",
              "0        -1.074295  0.516454                     -0.418240 -0.851947  \n",
              "1        -0.990146  0.856550                      0.076074  0.739762  \n",
              "2        -0.190727  1.239159                      1.133355  0.663137  \n",
              "3        -0.905997 -0.886446                      1.462898 -1.200242  \n",
              "4         0.903214 -0.971470                     -1.365674 -0.103112  "
            ],
            "text/html": [
              "\n",
              "  <div id=\"df-13763f00-bb66-4818-b1ff-aa9e69df0bbe\" class=\"colab-df-container\">\n",
              "    <div>\n",
              "<style scoped>\n",
              "    .dataframe tbody tr th:only-of-type {\n",
              "        vertical-align: middle;\n",
              "    }\n",
              "\n",
              "    .dataframe tbody tr th {\n",
              "        vertical-align: top;\n",
              "    }\n",
              "\n",
              "    .dataframe thead th {\n",
              "        text-align: right;\n",
              "    }\n",
              "</style>\n",
              "<table border=\"1\" class=\"dataframe\">\n",
              "  <thead>\n",
              "    <tr style=\"text-align: right;\">\n",
              "      <th></th>\n",
              "      <th>alcohol</th>\n",
              "      <th>malic_acid</th>\n",
              "      <th>ash</th>\n",
              "      <th>alcalinity_of_ash</th>\n",
              "      <th>magnesium</th>\n",
              "      <th>total_phenols</th>\n",
              "      <th>flavanoids</th>\n",
              "      <th>nonflavanoid_phenols</th>\n",
              "      <th>proanthocyanins</th>\n",
              "      <th>color_intensity</th>\n",
              "      <th>hue</th>\n",
              "      <th>od280/od315_of_diluted_wines</th>\n",
              "      <th>proline</th>\n",
              "    </tr>\n",
              "  </thead>\n",
              "  <tbody>\n",
              "    <tr>\n",
              "      <th>0</th>\n",
              "      <td>-1.104538</td>\n",
              "      <td>-0.530902</td>\n",
              "      <td>-0.136257</td>\n",
              "      <td>-0.374157</td>\n",
              "      <td>-1.294014</td>\n",
              "      <td>-1.017096</td>\n",
              "      <td>-0.444344</td>\n",
              "      <td>1.266120</td>\n",
              "      <td>0.159532</td>\n",
              "      <td>-1.074295</td>\n",
              "      <td>0.516454</td>\n",
              "      <td>-0.418240</td>\n",
              "      <td>-0.851947</td>\n",
              "    </tr>\n",
              "    <tr>\n",
              "      <th>1</th>\n",
              "      <td>-0.608849</td>\n",
              "      <td>-0.792240</td>\n",
              "      <td>-0.573221</td>\n",
              "      <td>-0.217310</td>\n",
              "      <td>4.793609</td>\n",
              "      <td>0.421716</td>\n",
              "      <td>0.331268</td>\n",
              "      <td>-0.403193</td>\n",
              "      <td>2.946675</td>\n",
              "      <td>-0.990146</td>\n",
              "      <td>0.856550</td>\n",
              "      <td>0.076074</td>\n",
              "      <td>0.739762</td>\n",
              "    </tr>\n",
              "    <tr>\n",
              "      <th>2</th>\n",
              "      <td>1.170548</td>\n",
              "      <td>-0.471890</td>\n",
              "      <td>1.611596</td>\n",
              "      <td>-0.091832</td>\n",
              "      <td>0.660038</td>\n",
              "      <td>1.141122</td>\n",
              "      <td>1.036369</td>\n",
              "      <td>0.014135</td>\n",
              "      <td>0.363469</td>\n",
              "      <td>-0.190727</td>\n",
              "      <td>1.239159</td>\n",
              "      <td>1.133355</td>\n",
              "      <td>0.663137</td>\n",
              "    </tr>\n",
              "    <tr>\n",
              "      <th>3</th>\n",
              "      <td>-1.371448</td>\n",
              "      <td>1.559801</td>\n",
              "      <td>0.118638</td>\n",
              "      <td>0.410080</td>\n",
              "      <td>-1.218858</td>\n",
              "      <td>0.997241</td>\n",
              "      <td>1.096806</td>\n",
              "      <td>-1.321315</td>\n",
              "      <td>2.317869</td>\n",
              "      <td>-0.905997</td>\n",
              "      <td>-0.886446</td>\n",
              "      <td>1.462898</td>\n",
              "      <td>-1.200242</td>\n",
              "    </tr>\n",
              "    <tr>\n",
              "      <th>4</th>\n",
              "      <td>-0.443619</td>\n",
              "      <td>0.000204</td>\n",
              "      <td>-0.573221</td>\n",
              "      <td>-0.374157</td>\n",
              "      <td>-0.316988</td>\n",
              "      <td>-0.985122</td>\n",
              "      <td>-1.290465</td>\n",
              "      <td>2.184241</td>\n",
              "      <td>-1.030103</td>\n",
              "      <td>0.903214</td>\n",
              "      <td>-0.971470</td>\n",
              "      <td>-1.365674</td>\n",
              "      <td>-0.103112</td>\n",
              "    </tr>\n",
              "  </tbody>\n",
              "</table>\n",
              "</div>\n",
              "    <div class=\"colab-df-buttons\">\n",
              "\n",
              "  <div class=\"colab-df-container\">\n",
              "    <button class=\"colab-df-convert\" onclick=\"convertToInteractive('df-13763f00-bb66-4818-b1ff-aa9e69df0bbe')\"\n",
              "            title=\"Convert this dataframe to an interactive table.\"\n",
              "            style=\"display:none;\">\n",
              "\n",
              "  <svg xmlns=\"http://www.w3.org/2000/svg\" height=\"24px\" viewBox=\"0 -960 960 960\">\n",
              "    <path d=\"M120-120v-720h720v720H120Zm60-500h600v-160H180v160Zm220 220h160v-160H400v160Zm0 220h160v-160H400v160ZM180-400h160v-160H180v160Zm440 0h160v-160H620v160ZM180-180h160v-160H180v160Zm440 0h160v-160H620v160Z\"/>\n",
              "  </svg>\n",
              "    </button>\n",
              "\n",
              "  <style>\n",
              "    .colab-df-container {\n",
              "      display:flex;\n",
              "      gap: 12px;\n",
              "    }\n",
              "\n",
              "    .colab-df-convert {\n",
              "      background-color: #E8F0FE;\n",
              "      border: none;\n",
              "      border-radius: 50%;\n",
              "      cursor: pointer;\n",
              "      display: none;\n",
              "      fill: #1967D2;\n",
              "      height: 32px;\n",
              "      padding: 0 0 0 0;\n",
              "      width: 32px;\n",
              "    }\n",
              "\n",
              "    .colab-df-convert:hover {\n",
              "      background-color: #E2EBFA;\n",
              "      box-shadow: 0px 1px 2px rgba(60, 64, 67, 0.3), 0px 1px 3px 1px rgba(60, 64, 67, 0.15);\n",
              "      fill: #174EA6;\n",
              "    }\n",
              "\n",
              "    .colab-df-buttons div {\n",
              "      margin-bottom: 4px;\n",
              "    }\n",
              "\n",
              "    [theme=dark] .colab-df-convert {\n",
              "      background-color: #3B4455;\n",
              "      fill: #D2E3FC;\n",
              "    }\n",
              "\n",
              "    [theme=dark] .colab-df-convert:hover {\n",
              "      background-color: #434B5C;\n",
              "      box-shadow: 0px 1px 3px 1px rgba(0, 0, 0, 0.15);\n",
              "      filter: drop-shadow(0px 1px 2px rgba(0, 0, 0, 0.3));\n",
              "      fill: #FFFFFF;\n",
              "    }\n",
              "  </style>\n",
              "\n",
              "    <script>\n",
              "      const buttonEl =\n",
              "        document.querySelector('#df-13763f00-bb66-4818-b1ff-aa9e69df0bbe button.colab-df-convert');\n",
              "      buttonEl.style.display =\n",
              "        google.colab.kernel.accessAllowed ? 'block' : 'none';\n",
              "\n",
              "      async function convertToInteractive(key) {\n",
              "        const element = document.querySelector('#df-13763f00-bb66-4818-b1ff-aa9e69df0bbe');\n",
              "        const dataTable =\n",
              "          await google.colab.kernel.invokeFunction('convertToInteractive',\n",
              "                                                    [key], {});\n",
              "        if (!dataTable) return;\n",
              "\n",
              "        const docLinkHtml = 'Like what you see? Visit the ' +\n",
              "          '<a target=\"_blank\" href=https://colab.research.google.com/notebooks/data_table.ipynb>data table notebook</a>'\n",
              "          + ' to learn more about interactive tables.';\n",
              "        element.innerHTML = '';\n",
              "        dataTable['output_type'] = 'display_data';\n",
              "        await google.colab.output.renderOutput(dataTable, element);\n",
              "        const docLink = document.createElement('div');\n",
              "        docLink.innerHTML = docLinkHtml;\n",
              "        element.appendChild(docLink);\n",
              "      }\n",
              "    </script>\n",
              "  </div>\n",
              "\n",
              "\n",
              "<div id=\"df-a21b1bea-9002-4a8b-8ceb-de7c4234f081\">\n",
              "  <button class=\"colab-df-quickchart\" onclick=\"quickchart('df-a21b1bea-9002-4a8b-8ceb-de7c4234f081')\"\n",
              "            title=\"Suggest charts\"\n",
              "            style=\"display:none;\">\n",
              "\n",
              "<svg xmlns=\"http://www.w3.org/2000/svg\" height=\"24px\"viewBox=\"0 0 24 24\"\n",
              "     width=\"24px\">\n",
              "    <g>\n",
              "        <path d=\"M19 3H5c-1.1 0-2 .9-2 2v14c0 1.1.9 2 2 2h14c1.1 0 2-.9 2-2V5c0-1.1-.9-2-2-2zM9 17H7v-7h2v7zm4 0h-2V7h2v10zm4 0h-2v-4h2v4z\"/>\n",
              "    </g>\n",
              "</svg>\n",
              "  </button>\n",
              "\n",
              "<style>\n",
              "  .colab-df-quickchart {\n",
              "      --bg-color: #E8F0FE;\n",
              "      --fill-color: #1967D2;\n",
              "      --hover-bg-color: #E2EBFA;\n",
              "      --hover-fill-color: #174EA6;\n",
              "      --disabled-fill-color: #AAA;\n",
              "      --disabled-bg-color: #DDD;\n",
              "  }\n",
              "\n",
              "  [theme=dark] .colab-df-quickchart {\n",
              "      --bg-color: #3B4455;\n",
              "      --fill-color: #D2E3FC;\n",
              "      --hover-bg-color: #434B5C;\n",
              "      --hover-fill-color: #FFFFFF;\n",
              "      --disabled-bg-color: #3B4455;\n",
              "      --disabled-fill-color: #666;\n",
              "  }\n",
              "\n",
              "  .colab-df-quickchart {\n",
              "    background-color: var(--bg-color);\n",
              "    border: none;\n",
              "    border-radius: 50%;\n",
              "    cursor: pointer;\n",
              "    display: none;\n",
              "    fill: var(--fill-color);\n",
              "    height: 32px;\n",
              "    padding: 0;\n",
              "    width: 32px;\n",
              "  }\n",
              "\n",
              "  .colab-df-quickchart:hover {\n",
              "    background-color: var(--hover-bg-color);\n",
              "    box-shadow: 0 1px 2px rgba(60, 64, 67, 0.3), 0 1px 3px 1px rgba(60, 64, 67, 0.15);\n",
              "    fill: var(--button-hover-fill-color);\n",
              "  }\n",
              "\n",
              "  .colab-df-quickchart-complete:disabled,\n",
              "  .colab-df-quickchart-complete:disabled:hover {\n",
              "    background-color: var(--disabled-bg-color);\n",
              "    fill: var(--disabled-fill-color);\n",
              "    box-shadow: none;\n",
              "  }\n",
              "\n",
              "  .colab-df-spinner {\n",
              "    border: 2px solid var(--fill-color);\n",
              "    border-color: transparent;\n",
              "    border-bottom-color: var(--fill-color);\n",
              "    animation:\n",
              "      spin 1s steps(1) infinite;\n",
              "  }\n",
              "\n",
              "  @keyframes spin {\n",
              "    0% {\n",
              "      border-color: transparent;\n",
              "      border-bottom-color: var(--fill-color);\n",
              "      border-left-color: var(--fill-color);\n",
              "    }\n",
              "    20% {\n",
              "      border-color: transparent;\n",
              "      border-left-color: var(--fill-color);\n",
              "      border-top-color: var(--fill-color);\n",
              "    }\n",
              "    30% {\n",
              "      border-color: transparent;\n",
              "      border-left-color: var(--fill-color);\n",
              "      border-top-color: var(--fill-color);\n",
              "      border-right-color: var(--fill-color);\n",
              "    }\n",
              "    40% {\n",
              "      border-color: transparent;\n",
              "      border-right-color: var(--fill-color);\n",
              "      border-top-color: var(--fill-color);\n",
              "    }\n",
              "    60% {\n",
              "      border-color: transparent;\n",
              "      border-right-color: var(--fill-color);\n",
              "    }\n",
              "    80% {\n",
              "      border-color: transparent;\n",
              "      border-right-color: var(--fill-color);\n",
              "      border-bottom-color: var(--fill-color);\n",
              "    }\n",
              "    90% {\n",
              "      border-color: transparent;\n",
              "      border-bottom-color: var(--fill-color);\n",
              "    }\n",
              "  }\n",
              "</style>\n",
              "\n",
              "  <script>\n",
              "    async function quickchart(key) {\n",
              "      const quickchartButtonEl =\n",
              "        document.querySelector('#' + key + ' button');\n",
              "      quickchartButtonEl.disabled = true;  // To prevent multiple clicks.\n",
              "      quickchartButtonEl.classList.add('colab-df-spinner');\n",
              "      try {\n",
              "        const charts = await google.colab.kernel.invokeFunction(\n",
              "            'suggestCharts', [key], {});\n",
              "      } catch (error) {\n",
              "        console.error('Error during call to suggestCharts:', error);\n",
              "      }\n",
              "      quickchartButtonEl.classList.remove('colab-df-spinner');\n",
              "      quickchartButtonEl.classList.add('colab-df-quickchart-complete');\n",
              "    }\n",
              "    (() => {\n",
              "      let quickchartButtonEl =\n",
              "        document.querySelector('#df-a21b1bea-9002-4a8b-8ceb-de7c4234f081 button');\n",
              "      quickchartButtonEl.style.display =\n",
              "        google.colab.kernel.accessAllowed ? 'block' : 'none';\n",
              "    })();\n",
              "  </script>\n",
              "</div>\n",
              "\n",
              "    </div>\n",
              "  </div>\n"
            ],
            "application/vnd.google.colaboratory.intrinsic+json": {
              "type": "dataframe",
              "variable_name": "X_train_scaled",
              "summary": "{\n  \"name\": \"X_train_scaled\",\n  \"rows\": 124,\n  \"fields\": [\n    {\n      \"column\": \"alcohol\",\n      \"properties\": {\n        \"dtype\": \"number\",\n        \"std\": 1.0040568117894588,\n        \"min\": -2.439085895021889,\n        \"max\": 2.3907059764452314,\n        \"num_unique_values\": 95,\n        \"samples\": [\n          1.8060469604255265,\n          0.2681395487215237,\n          0.5731790353405\n        ],\n        \"semantic_type\": \"\",\n        \"description\": \"\"\n      }\n    },\n    {\n      \"column\": \"malic_acid\",\n      \"properties\": {\n        \"dtype\": \"number\",\n        \"std\": 1.0040568117894593,\n        \"min\": -1.314915602496102,\n        \"max\": 2.815908657245545,\n        \"num_unique_values\": 104,\n        \"samples\": [\n          0.36270486217448533,\n          -1.121019769895984,\n          -0.547762525686939\n        ],\n        \"semantic_type\": \"\",\n        \"description\": \"\"\n      }\n    },\n    {\n      \"column\": \"ash\",\n      \"properties\": {\n        \"dtype\": \"number\",\n        \"std\": 1.0040568117894588,\n        \"min\": -2.393901751456426,\n        \"max\": 3.1773818634394697,\n        \"num_unique_values\": 67,\n        \"samples\": [\n          -0.9373570155359299,\n          -1.374320436312079,\n          -2.393901751456426\n        ],\n        \"semantic_type\": \"\",\n        \"description\": \"\"\n      }\n    },\n    {\n      \"column\": \"alcalinity_of_ash\",\n      \"properties\": {\n        \"dtype\": \"number\",\n        \"std\": 1.0040568117894586,\n        \"min\": -2.6641315568725195,\n        \"max\": 2.762793726389212,\n        \"num_unique_values\": 49,\n        \"samples\": [\n          -0.060462201319203136,\n          0.9747316388405494,\n          1.194318210995648\n        ],\n        \"semantic_type\": \"\",\n        \"description\": \"\"\n      }\n    },\n    {\n      \"column\": \"magnesium\",\n      \"properties\": {\n        \"dtype\": \"number\",\n        \"std\": 1.004056811789459,\n        \"min\": -2.1207279718888645,\n        \"max\": 4.793608896733074,\n        \"num_unique_values\": 45,\n        \"samples\": [\n          1.561907969007603,\n          2.1631546532355976,\n          -0.692767096847377\n        ],\n        \"semantic_type\": \"\",\n        \"description\": \"\"\n      }\n    },\n    {\n      \"column\": \"total_phenols\",\n      \"properties\": {\n        \"dtype\": \"number\",\n        \"std\": 1.0040568117894586,\n        \"min\": -2.0082773355023567,\n        \"max\": 2.62789477624347,\n        \"num_unique_values\": 79,\n        \"samples\": [\n          0.5176371253798524,\n          -1.0170957116118695,\n          -0.8892013085292263\n        ],\n        \"semantic_type\": \"\",\n        \"description\": \"\"\n      }\n    },\n    {\n      \"column\": \"flavanoids\",\n      \"properties\": {\n        \"dtype\": \"number\",\n        \"std\": 1.004056811789459,\n        \"min\": -1.6127974176702904,\n        \"max\": 3.161745798859827,\n        \"num_unique_values\": 102,\n        \"samples\": [\n          -0.6256555712146965,\n          1.811980416971566,\n          0.9759317102795835\n        ],\n        \"semantic_type\": \"\",\n        \"description\": \"\"\n      }\n    },\n    {\n      \"column\": \"nonflavanoid_phenols\",\n      \"properties\": {\n        \"dtype\": \"number\",\n        \"std\": 1.004056811789459,\n        \"min\": -1.989039601251687,\n        \"max\": 2.18424145721209,\n        \"num_unique_values\": 35,\n        \"samples\": [\n          1.5999821090271618,\n          0.9322571396729566,\n          -0.6535896625432787\n        ],\n        \"semantic_type\": \"\",\n        \"description\": \"\"\n      }\n    },\n    {\n      \"column\": \"proanthocyanins\",\n      \"properties\": {\n        \"dtype\": \"number\",\n        \"std\": 1.004056811789459,\n        \"min\": -1.9308261669691673,\n        \"max\": 3.456518734452187,\n        \"num_unique_values\": 77,\n        \"samples\": [\n          -1.030102886920802,\n          3.456518734452187,\n          -1.3869932431663807\n        ],\n        \"semantic_type\": \"\",\n        \"description\": \"\"\n      }\n    },\n    {\n      \"column\": \"color_intensity\",\n      \"properties\": {\n        \"dtype\": \"number\",\n        \"std\": 1.0040568117894588,\n        \"min\": -1.5455316518775857,\n        \"max\": 3.385619951827893,\n        \"num_unique_values\": 99,\n        \"samples\": [\n          -1.158444665921183,\n          -0.46842003878150856,\n          -1.0027683780908907\n        ],\n        \"semantic_type\": \"\",\n        \"description\": \"\"\n      }\n    },\n    {\n      \"column\": \"hue\",\n      \"properties\": {\n        \"dtype\": \"number\",\n        \"std\": 1.0040568117894588,\n        \"min\": -1.694175945850329,\n        \"max\": 3.1947161109381,\n        \"num_unique_values\": 66,\n        \"samples\": [\n          -1.2265427925923054,\n          -0.7163975344926431,\n          0.516453505914874\n        ],\n        \"semantic_type\": \"\",\n        \"description\": \"\"\n      }\n    },\n    {\n      \"column\": \"od280/od315_of_diluted_wines\",\n      \"properties\": {\n        \"dtype\": \"number\",\n        \"std\": 1.0040568117894593,\n        \"min\": -1.7913327255387175,\n        \"max\": 1.9572112211100245,\n        \"num_unique_values\": 95,\n        \"samples\": [\n          1.7100544773749424,\n          -1.1459790057860035,\n          -0.8988222620509219\n        ],\n        \"semantic_type\": \"\",\n        \"description\": \"\"\n      }\n    },\n    {\n      \"column\": \"proline\",\n      \"properties\": {\n        \"dtype\": \"number\",\n        \"std\": 1.0040568117894588,\n        \"min\": -1.5555026477394185,\n        \"max\": 2.7354926481282478,\n        \"num_unique_values\": 90,\n        \"samples\": [\n          -0.5663446412244696,\n          0.506404182742447,\n          -1.2524859344760364\n        ],\n        \"semantic_type\": \"\",\n        \"description\": \"\"\n      }\n    }\n  ]\n}"
            }
          },
          "metadata": {},
          "execution_count": 2
        }
      ],
      "source": [
        "# Run this cell without changes\n",
        "\n",
        "# Relevant imports\n",
        "from sklearn.datasets import load_wine\n",
        "from sklearn.model_selection import train_test_split\n",
        "from sklearn.preprocessing import StandardScaler\n",
        "from sklearn.decomposition import PCA\n",
        "\n",
        "# Load data\n",
        "wine = load_wine()\n",
        "X, y = load_wine(return_X_y=True)\n",
        "X = pd.DataFrame(X, columns=wine.feature_names)\n",
        "y = pd.Series(y)\n",
        "y.name = 'class'\n",
        "\n",
        "# Train-test split\n",
        "X_train, X_test, y_train, y_test = train_test_split(X, y, test_size=0.3, random_state=1)\n",
        "\n",
        "# Scaling\n",
        "scaler_1 = StandardScaler()\n",
        "X_train_scaled = pd.DataFrame(scaler_1.fit_transform(X_train), columns=X_train.columns)\n",
        "\n",
        "# Inspect the first five rows of the scaled dataset\n",
        "X_train_scaled.head()"
      ]
    },
    {
      "cell_type": "markdown",
      "metadata": {
        "deletable": false,
        "editable": false,
        "nbgrader": {
          "cell_type": "markdown",
          "checksum": "434fea3a59d697093c1bc3bfaff15bb7",
          "grade": false,
          "grade_id": "cell-adac39f3ffb2589c",
          "locked": true,
          "schema_version": 3,
          "solution": false,
          "task": false
        },
        "id": "oWJMXmi7SFJY"
      },
      "source": [
        "### 1.1) Create a PCA object `wine_pca` and fit it using `X_train_scaled`.\n",
        "\n",
        "Use parameter defaults with `n_components=0.9` and `random_state=1` for your classifier. You must use the Scikit-learn PCA (docs [here](https://scikit-learn.org/stable/modules/generated/sklearn.decomposition.PCA.html))."
      ]
    },
    {
      "cell_type": "markdown",
      "metadata": {
        "deletable": false,
        "editable": false,
        "nbgrader": {
          "cell_type": "markdown",
          "checksum": "0c1cf8aef361befb32af47d7b647d63f",
          "grade": false,
          "grade_id": "cell-fc96080dfc176b32",
          "locked": true,
          "schema_version": 3,
          "solution": false,
          "task": false
        },
        "id": "S6-VaLa_SFJY"
      },
      "source": [
        "**Starter Code**\n",
        "\n",
        "    wine_pca = PCA("
      ]
    },
    {
      "cell_type": "code",
      "execution_count": null,
      "metadata": {
        "deletable": false,
        "nbgrader": {
          "cell_type": "code",
          "checksum": "b1c5ce31eb8eacb2b86f723d72f4ca19",
          "grade": false,
          "grade_id": "cell-357f7995fea3c72c",
          "locked": false,
          "schema_version": 3,
          "solution": true,
          "task": false
        },
        "id": "KXm_dAWjSFJY",
        "colab": {
          "base_uri": "https://localhost:8080/",
          "height": 74
        },
        "outputId": "3fce7208-0f02-48ac-b047-191656822174"
      },
      "outputs": [
        {
          "output_type": "execute_result",
          "data": {
            "text/plain": [
              "PCA(n_components=0.9, random_state=1)"
            ],
            "text/html": [
              "<style>#sk-container-id-1 {color: black;background-color: white;}#sk-container-id-1 pre{padding: 0;}#sk-container-id-1 div.sk-toggleable {background-color: white;}#sk-container-id-1 label.sk-toggleable__label {cursor: pointer;display: block;width: 100%;margin-bottom: 0;padding: 0.3em;box-sizing: border-box;text-align: center;}#sk-container-id-1 label.sk-toggleable__label-arrow:before {content: \"▸\";float: left;margin-right: 0.25em;color: #696969;}#sk-container-id-1 label.sk-toggleable__label-arrow:hover:before {color: black;}#sk-container-id-1 div.sk-estimator:hover label.sk-toggleable__label-arrow:before {color: black;}#sk-container-id-1 div.sk-toggleable__content {max-height: 0;max-width: 0;overflow: hidden;text-align: left;background-color: #f0f8ff;}#sk-container-id-1 div.sk-toggleable__content pre {margin: 0.2em;color: black;border-radius: 0.25em;background-color: #f0f8ff;}#sk-container-id-1 input.sk-toggleable__control:checked~div.sk-toggleable__content {max-height: 200px;max-width: 100%;overflow: auto;}#sk-container-id-1 input.sk-toggleable__control:checked~label.sk-toggleable__label-arrow:before {content: \"▾\";}#sk-container-id-1 div.sk-estimator input.sk-toggleable__control:checked~label.sk-toggleable__label {background-color: #d4ebff;}#sk-container-id-1 div.sk-label input.sk-toggleable__control:checked~label.sk-toggleable__label {background-color: #d4ebff;}#sk-container-id-1 input.sk-hidden--visually {border: 0;clip: rect(1px 1px 1px 1px);clip: rect(1px, 1px, 1px, 1px);height: 1px;margin: -1px;overflow: hidden;padding: 0;position: absolute;width: 1px;}#sk-container-id-1 div.sk-estimator {font-family: monospace;background-color: #f0f8ff;border: 1px dotted black;border-radius: 0.25em;box-sizing: border-box;margin-bottom: 0.5em;}#sk-container-id-1 div.sk-estimator:hover {background-color: #d4ebff;}#sk-container-id-1 div.sk-parallel-item::after {content: \"\";width: 100%;border-bottom: 1px solid gray;flex-grow: 1;}#sk-container-id-1 div.sk-label:hover label.sk-toggleable__label {background-color: #d4ebff;}#sk-container-id-1 div.sk-serial::before {content: \"\";position: absolute;border-left: 1px solid gray;box-sizing: border-box;top: 0;bottom: 0;left: 50%;z-index: 0;}#sk-container-id-1 div.sk-serial {display: flex;flex-direction: column;align-items: center;background-color: white;padding-right: 0.2em;padding-left: 0.2em;position: relative;}#sk-container-id-1 div.sk-item {position: relative;z-index: 1;}#sk-container-id-1 div.sk-parallel {display: flex;align-items: stretch;justify-content: center;background-color: white;position: relative;}#sk-container-id-1 div.sk-item::before, #sk-container-id-1 div.sk-parallel-item::before {content: \"\";position: absolute;border-left: 1px solid gray;box-sizing: border-box;top: 0;bottom: 0;left: 50%;z-index: -1;}#sk-container-id-1 div.sk-parallel-item {display: flex;flex-direction: column;z-index: 1;position: relative;background-color: white;}#sk-container-id-1 div.sk-parallel-item:first-child::after {align-self: flex-end;width: 50%;}#sk-container-id-1 div.sk-parallel-item:last-child::after {align-self: flex-start;width: 50%;}#sk-container-id-1 div.sk-parallel-item:only-child::after {width: 0;}#sk-container-id-1 div.sk-dashed-wrapped {border: 1px dashed gray;margin: 0 0.4em 0.5em 0.4em;box-sizing: border-box;padding-bottom: 0.4em;background-color: white;}#sk-container-id-1 div.sk-label label {font-family: monospace;font-weight: bold;display: inline-block;line-height: 1.2em;}#sk-container-id-1 div.sk-label-container {text-align: center;}#sk-container-id-1 div.sk-container {/* jupyter's `normalize.less` sets `[hidden] { display: none; }` but bootstrap.min.css set `[hidden] { display: none !important; }` so we also need the `!important` here to be able to override the default hidden behavior on the sphinx rendered scikit-learn.org. See: https://github.com/scikit-learn/scikit-learn/issues/21755 */display: inline-block !important;position: relative;}#sk-container-id-1 div.sk-text-repr-fallback {display: none;}</style><div id=\"sk-container-id-1\" class=\"sk-top-container\"><div class=\"sk-text-repr-fallback\"><pre>PCA(n_components=0.9, random_state=1)</pre><b>In a Jupyter environment, please rerun this cell to show the HTML representation or trust the notebook. <br />On GitHub, the HTML representation is unable to render, please try loading this page with nbviewer.org.</b></div><div class=\"sk-container\" hidden><div class=\"sk-item\"><div class=\"sk-estimator sk-toggleable\"><input class=\"sk-toggleable__control sk-hidden--visually\" id=\"sk-estimator-id-1\" type=\"checkbox\" checked><label for=\"sk-estimator-id-1\" class=\"sk-toggleable__label sk-toggleable__label-arrow\">PCA</label><div class=\"sk-toggleable__content\"><pre>PCA(n_components=0.9, random_state=1)</pre></div></div></div></div></div>"
            ]
          },
          "metadata": {},
          "execution_count": 4
        }
      ],
      "source": [
        "# YOUR CODE HERE\n",
        "# n_components of 0.9 captures 90% of the variance\n",
        "wine_pca = PCA(n_components = 0.9, random_state=1)\n",
        "\n",
        "#fit the PCA model on the scaled training data\n",
        "wine_pca.fit(X_train_scaled)"
      ]
    },
    {
      "cell_type": "code",
      "execution_count": null,
      "metadata": {
        "deletable": false,
        "editable": false,
        "nbgrader": {
          "cell_type": "code",
          "checksum": "9d8ecd9366b4e2e5e0852b75085cd3d3",
          "grade": true,
          "grade_id": "cell-3a6fc1de02dfc5f6",
          "locked": true,
          "points": 1,
          "schema_version": 3,
          "solution": false,
          "task": false
        },
        "id": "peZaIbLaSFJZ"
      },
      "outputs": [],
      "source": [
        "# This test confirms that you have created a PCA object named wine_pca\n",
        "\n",
        "assert type(wine_pca) == PCA\n",
        "\n",
        "# This test confirms that you have set random_state to 1\n",
        "\n",
        "assert wine_pca.get_params()['random_state'] == 1\n",
        "\n",
        "# This test confirms that wine_pca has been fit\n",
        "\n",
        "sklearn.utils.validation.check_is_fitted(wine_pca)\n"
      ]
    },
    {
      "cell_type": "markdown",
      "metadata": {
        "deletable": false,
        "editable": false,
        "nbgrader": {
          "cell_type": "markdown",
          "checksum": "572595bd0b84a478c35bdd69eb67eb7a",
          "grade": false,
          "grade_id": "cell-afa7eb5b2df5dc78",
          "locked": true,
          "schema_version": 3,
          "solution": false,
          "task": false
        },
        "id": "k4HDUMBcSFJZ"
      },
      "source": [
        "### 1.2) Create a numeric variable `wine_pca_ncomps` containing the number of components in `wine_pca`\n",
        "\n",
        "_Hint: Look at the list of attributes of trained `PCA` objects in the [scikit-learn documentation](https://scikit-learn.org/stable/modules/generated/sklearn.decomposition.PCA.html)_"
      ]
    },
    {
      "cell_type": "markdown",
      "metadata": {
        "deletable": false,
        "editable": false,
        "nbgrader": {
          "cell_type": "markdown",
          "checksum": "7c462ed1df26ce3222ee5060d4ab542c",
          "grade": false,
          "grade_id": "cell-0dc95483da95ec65",
          "locked": true,
          "schema_version": 3,
          "solution": false,
          "task": false
        },
        "id": "FzLhoDk6SFJZ"
      },
      "source": [
        "**Starter Code**\n",
        "\n",
        "    wine_pca_ncomps ="
      ]
    },
    {
      "cell_type": "code",
      "execution_count": null,
      "metadata": {
        "deletable": false,
        "nbgrader": {
          "cell_type": "code",
          "checksum": "db6d3b1e9cea4a978e3bebdf0ed9931a",
          "grade": false,
          "grade_id": "cell-872e062d854ff41a",
          "locked": false,
          "schema_version": 3,
          "solution": true,
          "task": false
        },
        "id": "WdA5J118SFJZ",
        "colab": {
          "base_uri": "https://localhost:8080/"
        },
        "outputId": "7f6869d7-3206-4735-81a7-3f6b0bb1340d"
      },
      "outputs": [
        {
          "output_type": "execute_result",
          "data": {
            "text/plain": [
              "8"
            ]
          },
          "metadata": {},
          "execution_count": 5
        }
      ],
      "source": [
        "# YOUR CODE HERE\n",
        "wine_pca_ncomps = wine_pca.n_components_\n",
        "wine_pca_ncomps"
      ]
    },
    {
      "cell_type": "code",
      "execution_count": null,
      "metadata": {
        "deletable": false,
        "editable": false,
        "nbgrader": {
          "cell_type": "code",
          "checksum": "47f2af02df4b682e6d16247bbe9d4ff5",
          "grade": true,
          "grade_id": "cell-0b91ab8c6bacd9c5",
          "locked": true,
          "points": 1,
          "schema_version": 3,
          "solution": false,
          "task": false
        },
        "id": "zkpSAM6SSFJZ"
      },
      "outputs": [],
      "source": [
        "# This test confirms that you have created a numeric variable named wine_pca_ncomps\n",
        "\n",
        "assert isinstance(wine_pca_ncomps, Number)\n"
      ]
    },
    {
      "cell_type": "markdown",
      "metadata": {
        "deletable": false,
        "editable": false,
        "nbgrader": {
          "cell_type": "markdown",
          "checksum": "2a59bdcb456a27cd94f62d9c3abd2c77",
          "grade": false,
          "grade_id": "cell-9db04f9af71bb32f",
          "locked": true,
          "schema_version": 3,
          "solution": false,
          "task": false
        },
        "id": "bbQZegZnSFJa"
      },
      "source": [
        "### 1.3) Short Answer: Is PCA more useful or less useful when you have high multicollinearity among your features? Explain why."
      ]
    },
    {
      "cell_type": "markdown",
      "metadata": {
        "deletable": false,
        "nbgrader": {
          "cell_type": "markdown",
          "checksum": "82ef226a63b77072a8382509efb7bd9e",
          "grade": true,
          "grade_id": "cell-1918c6d237a579b8",
          "locked": false,
          "points": 1,
          "schema_version": 3,
          "solution": true,
          "task": false
        },
        "id": "ZbeZtMu7SFJa"
      },
      "source": [
        "PCA is more useful when you have high multicollinearity because it reduces dimensionality. This helps to summarize correlated features into a smaller number of principal components that capture the essential information without the redundancy caused by highly correlated feautures."
      ]
    },
    {
      "cell_type": "markdown",
      "metadata": {
        "deletable": false,
        "editable": false,
        "nbgrader": {
          "cell_type": "markdown",
          "checksum": "15caa5626716980ebf6f6bbbccc00b1e",
          "grade": false,
          "grade_id": "cell-2be033309999869a",
          "locked": true,
          "schema_version": 3,
          "solution": false,
          "task": false
        },
        "id": "EJtt_3ZXSFJa"
      },
      "source": [
        "---\n",
        "\n",
        "## Part 2: Clustering [Suggested Time: 20 minutes]\n",
        "\n",
        "---\n",
        "\n",
        "In this part, you will answer general questions about clustering."
      ]
    },
    {
      "cell_type": "code",
      "execution_count": null,
      "metadata": {
        "deletable": false,
        "editable": false,
        "nbgrader": {
          "cell_type": "code",
          "checksum": "2a8fae50bc47ccf43b01e427e7c9ec88",
          "grade": false,
          "grade_id": "cell-7fb56c6a144a1ff1",
          "locked": true,
          "schema_version": 3,
          "solution": false,
          "task": false
        },
        "id": "eenrF7gHSFJa"
      },
      "outputs": [],
      "source": [
        "# Run this cell without changes\n",
        "\n",
        "from sklearn.cluster import KMeans"
      ]
    },
    {
      "cell_type": "markdown",
      "metadata": {
        "deletable": false,
        "editable": false,
        "nbgrader": {
          "cell_type": "markdown",
          "checksum": "a40303a6f05fc47fa75644576126d199",
          "grade": false,
          "grade_id": "cell-f5977bb7be24f780",
          "locked": true,
          "schema_version": 3,
          "solution": false,
          "task": false
        },
        "id": "jQhTkofESFJa"
      },
      "source": [
        "### 2.1) Short Answer: Describe the steps of the k-means clustering algorithm.\n",
        "\n",
        "Hint: Refer to the animation below, which visualizes the process.\n",
        "\n",
        "<img src='https://raw.githubusercontent.com/learn-co-curriculum/dsc-cc-images/main/phase_4/centroid.gif'>"
      ]
    },
    {
      "cell_type": "markdown",
      "metadata": {
        "deletable": false,
        "nbgrader": {
          "cell_type": "markdown",
          "checksum": "db074b03b2dcb776f8a606081aece355",
          "grade": true,
          "grade_id": "cell-b0bee5adde628138",
          "locked": false,
          "points": 2,
          "schema_version": 3,
          "solution": true,
          "task": false
        },
        "id": "u4IwEj14SFJa"
      },
      "source": [
        "K-means is an unsupervised learning clustering algorithm used to partition data into a specified number of clusters- **K**.\n",
        "\n",
        "The steps are:\n",
        "\n",
        "1. Initialization--> involves choosing K initial centroids from the data points. These centroids are the initial 'centers' of the clusters.\n",
        "\n",
        "2. Assignment--> assigning each data point to the nearest centroid based on the Euclidean distance.\n",
        "\n",
        "3. Update the centroid--> once all the data points have been assigned to clusters, recalculate the centroids of these clusters. The new centroid of each cluster is the mean of all data points assigned to that cluster.\n",
        "\n",
        "4. Iteration--> repeat the assignment and update steps until the centroids no longer change significantly, or the assignments no longer change or a maximum number of iterations is reached. This repetition aims to optimize the positions of the centroids to minimize the within-cluster sum of squares (i.e., variance)\n",
        "\n",
        "5. Convergence --> The algorithm stops iterating when the centroids have stabilized. At this point, the clusters are considered optimal"
      ]
    },
    {
      "cell_type": "markdown",
      "metadata": {
        "deletable": false,
        "editable": false,
        "nbgrader": {
          "cell_type": "markdown",
          "checksum": "8ffe29acff3095027804e81fdc19cdc4",
          "grade": false,
          "grade_id": "cell-0d929a59f2b64837",
          "locked": true,
          "schema_version": 3,
          "solution": false,
          "task": false
        },
        "id": "a9ydtsWzSFJa"
      },
      "source": [
        "### 2.2) Write a function `get_labels()` that meets the requirements below to find `k` clusters in a dataset of features `X`, and return the cluster assignment labels for each row of `X`.\n",
        "\n",
        "Review the doc-string in the function below to understand the requirements of this function.\n",
        "\n",
        "_Hint: Within the function, you'll need to:_\n",
        "* instantiate a [scikit-learn KMeans object](https://scikit-learn.org/stable/modules/generated/sklearn.cluster.KMeans.html), using `random_state = 1` for reproducibility\n",
        "* fit the object to the data\n",
        "* return the cluster assignment labels for each row of `X`"
      ]
    },
    {
      "cell_type": "markdown",
      "metadata": {
        "deletable": false,
        "editable": false,
        "nbgrader": {
          "cell_type": "markdown",
          "checksum": "cf173c85829dce601fd0a335b27b92bd",
          "grade": false,
          "grade_id": "cell-7d131ed1c76ccc52",
          "locked": true,
          "schema_version": 3,
          "solution": false,
          "task": false
        },
        "id": "yG-Nda_wSFJa"
      },
      "source": [
        "**Starter Code** - replace None with appropriate code\n",
        "\n",
        "    def get_labels(k, X):\n",
        "        \"\"\"\n",
        "        Finds the labels from a k-means clustering model\n",
        "\n",
        "        Parameters:\n",
        "        -----------\n",
        "        k: float object\n",
        "            number of clusters to use in the k-means clustering model\n",
        "        X: Pandas DataFrame or array-like object\n",
        "            Data to cluster\n",
        "\n",
        "        Returns:\n",
        "        --------\n",
        "        labels: array-like object\n",
        "            Labels attribute from the k-means model\n",
        "\n",
        "        \"\"\"\n",
        "\n",
        "        # Instantiate a k-means clustering model with random_state=1 and n_clusters=k\n",
        "        kmeans = None\n",
        "\n",
        "        # Fit the model to the data\n",
        "        None\n",
        "\n",
        "        # Return the predicted labels for each row in the data produced by the model\n",
        "        return None"
      ]
    },
    {
      "cell_type": "code",
      "execution_count": null,
      "metadata": {
        "deletable": false,
        "nbgrader": {
          "cell_type": "code",
          "checksum": "ad8a5530fc231ed833577605ab0cd314",
          "grade": false,
          "grade_id": "cell-7beb47f19517b6fb",
          "locked": false,
          "schema_version": 3,
          "solution": true,
          "task": false
        },
        "id": "9Hfot6sfSFJa"
      },
      "outputs": [],
      "source": [
        "# YOUR CODE HERE\n",
        "def get_labels(k, X):\n",
        "  \"\"\"\n",
        "  Finds the labels from a k-means clustering model\n",
        "\n",
        "  Parameters:\n",
        "  ___________________\n",
        "  k: int\n",
        "      number of clusters to use in the k-means clustering model\n",
        "  X: Pandas Dataframe or array-like object\n",
        "      Data to Cluster\n",
        "\n",
        "  Returns:\n",
        "  ----------\n",
        "  labels: array-like object\n",
        "      Labels attribute from the k-means model\n",
        "  \"\"\"\n",
        "\n",
        "  #instantiate a k-means clustering model with random_state =1 and n_clusters=k\n",
        "  kmeans = KMeans(n_clusters=k, random_state=1)\n",
        "\n",
        "  #fit the model to the data\n",
        "  kmeans.fit(X)\n",
        "\n",
        "  #return the predicted labels for each row in the data produced by the model\n",
        "  return kmeans.labels_"
      ]
    },
    {
      "cell_type": "code",
      "execution_count": null,
      "metadata": {
        "deletable": false,
        "editable": false,
        "nbgrader": {
          "cell_type": "code",
          "checksum": "8cbf0a3962cd797feb93c74deaefaee4",
          "grade": true,
          "grade_id": "cell-2755f75b9ca02ff5",
          "locked": true,
          "points": 1,
          "schema_version": 3,
          "solution": false,
          "task": false
        },
        "id": "hNBQxblkSFJa",
        "colab": {
          "base_uri": "https://localhost:8080/"
        },
        "outputId": "7eb08987-4052-4899-ddbc-3ec5b3354c87"
      },
      "outputs": [
        {
          "output_type": "stream",
          "name": "stderr",
          "text": [
            "/usr/local/lib/python3.10/dist-packages/sklearn/cluster/_kmeans.py:870: FutureWarning: The default value of `n_init` will change from 10 to 'auto' in 1.4. Set the value of `n_init` explicitly to suppress the warning\n",
            "  warnings.warn(\n"
          ]
        },
        {
          "output_type": "execute_result",
          "data": {
            "text/plain": [
              "array([0, 0, 0], dtype=int32)"
            ]
          },
          "metadata": {},
          "execution_count": 8
        }
      ],
      "source": [
        "# This test confirms that you have created a function named get_labels\n",
        "\n",
        "assert callable(get_labels)\n",
        "\n",
        "# This test confirms that get_labels can take the correct parameter types\n",
        "\n",
        "get_labels(1, np.array([[1, 2, 3], [2, 3, 4], [3, 4, 5]]))\n"
      ]
    },
    {
      "cell_type": "markdown",
      "metadata": {
        "deletable": false,
        "editable": false,
        "nbgrader": {
          "cell_type": "markdown",
          "checksum": "936f11c4bde0dac666c5cb228a5c227e",
          "grade": false,
          "grade_id": "cell-3e44a061e098167b",
          "locked": true,
          "schema_version": 3,
          "solution": false,
          "task": false
        },
        "id": "xKzTq46ZSFJb"
      },
      "source": [
        "The next cell uses your `get_labels` function to cluster the wine data, looping through all $k$ values from 2 to 9. It saves the silhouette scores for each $k$ value in a list `silhouette_scores`."
      ]
    },
    {
      "cell_type": "code",
      "execution_count": null,
      "metadata": {
        "deletable": false,
        "editable": false,
        "nbgrader": {
          "cell_type": "code",
          "checksum": "42d6e3e13cff04457136af6eee813ea2",
          "grade": false,
          "grade_id": "cell-e668bf9ba032a378",
          "locked": true,
          "schema_version": 3,
          "solution": false,
          "task": false
        },
        "id": "iQRUTG5CSFJb",
        "colab": {
          "base_uri": "https://localhost:8080/"
        },
        "outputId": "26a6c177-a5b8-459d-bb16-f658a73c8f18"
      },
      "outputs": [
        {
          "output_type": "stream",
          "name": "stderr",
          "text": [
            "/usr/local/lib/python3.10/dist-packages/sklearn/cluster/_kmeans.py:870: FutureWarning: The default value of `n_init` will change from 10 to 'auto' in 1.4. Set the value of `n_init` explicitly to suppress the warning\n",
            "  warnings.warn(\n",
            "/usr/local/lib/python3.10/dist-packages/sklearn/cluster/_kmeans.py:870: FutureWarning: The default value of `n_init` will change from 10 to 'auto' in 1.4. Set the value of `n_init` explicitly to suppress the warning\n",
            "  warnings.warn(\n",
            "/usr/local/lib/python3.10/dist-packages/sklearn/cluster/_kmeans.py:870: FutureWarning: The default value of `n_init` will change from 10 to 'auto' in 1.4. Set the value of `n_init` explicitly to suppress the warning\n",
            "  warnings.warn(\n",
            "/usr/local/lib/python3.10/dist-packages/sklearn/cluster/_kmeans.py:870: FutureWarning: The default value of `n_init` will change from 10 to 'auto' in 1.4. Set the value of `n_init` explicitly to suppress the warning\n",
            "  warnings.warn(\n",
            "/usr/local/lib/python3.10/dist-packages/sklearn/cluster/_kmeans.py:870: FutureWarning: The default value of `n_init` will change from 10 to 'auto' in 1.4. Set the value of `n_init` explicitly to suppress the warning\n",
            "  warnings.warn(\n",
            "/usr/local/lib/python3.10/dist-packages/sklearn/cluster/_kmeans.py:870: FutureWarning: The default value of `n_init` will change from 10 to 'auto' in 1.4. Set the value of `n_init` explicitly to suppress the warning\n",
            "  warnings.warn(\n",
            "/usr/local/lib/python3.10/dist-packages/sklearn/cluster/_kmeans.py:870: FutureWarning: The default value of `n_init` will change from 10 to 'auto' in 1.4. Set the value of `n_init` explicitly to suppress the warning\n",
            "  warnings.warn(\n",
            "/usr/local/lib/python3.10/dist-packages/sklearn/cluster/_kmeans.py:870: FutureWarning: The default value of `n_init` will change from 10 to 'auto' in 1.4. Set the value of `n_init` explicitly to suppress the warning\n",
            "  warnings.warn(\n"
          ]
        }
      ],
      "source": [
        "# Run this cell without changes\n",
        "\n",
        "from sklearn.metrics import silhouette_score\n",
        "\n",
        "# Preprocessing is needed. Scale the data\n",
        "scaler_2 = StandardScaler()\n",
        "X_scaled = scaler_2.fit_transform(X)\n",
        "\n",
        "# Create empty list for silhouette scores\n",
        "silhouette_scores = []\n",
        "\n",
        "# Range of k values to try\n",
        "k_values = range(2, 10)\n",
        "\n",
        "for k in k_values:\n",
        "    labels = get_labels(k, X_scaled)\n",
        "    score = silhouette_score(X_scaled, labels, metric='euclidean')\n",
        "    silhouette_scores.append(score)"
      ]
    },
    {
      "cell_type": "markdown",
      "metadata": {
        "deletable": false,
        "editable": false,
        "nbgrader": {
          "cell_type": "markdown",
          "checksum": "2a233fa54c37a1e15cb664c8fb3963b5",
          "grade": false,
          "grade_id": "cell-38e582c973d5e62e",
          "locked": true,
          "schema_version": 3,
          "solution": false,
          "task": false
        },
        "id": "GvAXOxj3SFJb"
      },
      "source": [
        "Next, we plot the silhouette scores obtained for each different value of $k$, against $k$, the number of clusters we asked the algorithm to find."
      ]
    },
    {
      "cell_type": "code",
      "execution_count": null,
      "metadata": {
        "deletable": false,
        "editable": false,
        "nbgrader": {
          "cell_type": "code",
          "checksum": "72e54e79e363a173324ac30ed051bf11",
          "grade": false,
          "grade_id": "cell-89d3669094b3d4e0",
          "locked": true,
          "schema_version": 3,
          "solution": false,
          "task": false
        },
        "id": "ADnQJYZvSFJb",
        "colab": {
          "base_uri": "https://localhost:8080/",
          "height": 472
        },
        "outputId": "9edc1938-d501-4813-946b-fb30661b45f1"
      },
      "outputs": [
        {
          "output_type": "display_data",
          "data": {
            "text/plain": [
              "<Figure size 640x480 with 1 Axes>"
            ],
            "image/png": "[encoded data removed]"
          },
          "metadata": {}
        }
      ],
      "source": [
        "# Run this cell without changes\n",
        "\n",
        "import matplotlib.pyplot as plt\n",
        "%matplotlib inline\n",
        "\n",
        "plt.plot(k_values, silhouette_scores, marker='o')\n",
        "plt.title('Silhouette scores vs number of clusters')\n",
        "plt.xlabel('k (number of clusters)')\n",
        "plt.ylabel('silhouette score');"
      ]
    },
    {
      "cell_type": "markdown",
      "metadata": {
        "deletable": false,
        "editable": false,
        "nbgrader": {
          "cell_type": "markdown",
          "checksum": "97c743f96e9bdcd352d02cad5acc8d5b",
          "grade": false,
          "grade_id": "cell-74ff2d4b4db6f745",
          "locked": true,
          "schema_version": 3,
          "solution": false,
          "task": false
        },
        "id": "m5n9WMYBSFJb"
      },
      "source": [
        "### 2.3) Create numeric variable `wine_nclust` containing the value of $k$ you would choose based on the above plot of silhouette scores."
      ]
    },
    {
      "cell_type": "markdown",
      "metadata": {
        "deletable": false,
        "editable": false,
        "nbgrader": {
          "cell_type": "markdown",
          "checksum": "8774593608719d702835d34543e6dfa0",
          "grade": false,
          "grade_id": "cell-3d86a102cb0b9d05",
          "locked": true,
          "schema_version": 3,
          "solution": false,
          "task": false
        },
        "id": "JOGFBMK-SFJb"
      },
      "source": [
        "**Starter Code**\n",
        "\n",
        "    wine_nclust ="
      ]
    },
    {
      "cell_type": "code",
      "execution_count": null,
      "metadata": {
        "deletable": false,
        "nbgrader": {
          "cell_type": "code",
          "checksum": "8c87fc8b0c975a5afa8c31415d88449c",
          "grade": false,
          "grade_id": "cell-716576a75eefc43c",
          "locked": false,
          "schema_version": 3,
          "solution": true,
          "task": false
        },
        "id": "03dUbzTbSFJb"
      },
      "outputs": [],
      "source": [
        "# YOUR CODE HERE\n",
        "wine_nclust = 3"
      ]
    },
    {
      "cell_type": "code",
      "execution_count": null,
      "metadata": {
        "deletable": false,
        "editable": false,
        "nbgrader": {
          "cell_type": "code",
          "checksum": "0c411e55c6712b97b0672973e291eb6a",
          "grade": true,
          "grade_id": "cell-a7cab1aa5af54d11",
          "locked": true,
          "points": 1,
          "schema_version": 3,
          "solution": false,
          "task": false
        },
        "id": "5ZPI_Bv5SFJb"
      },
      "outputs": [],
      "source": [
        "# This test confirms that you have created a numeric variable named wine_nclust\n",
        "\n",
        "assert isinstance(wine_nclust, Number)\n"
      ]
    },
    {
      "cell_type": "markdown",
      "metadata": {
        "deletable": false,
        "editable": false,
        "nbgrader": {
          "cell_type": "markdown",
          "checksum": "90dd0976899215c8040df455049dc154",
          "grade": false,
          "grade_id": "cell-b70729833605d576",
          "locked": true,
          "schema_version": 3,
          "solution": false,
          "task": false
        },
        "id": "2mtRsbwWSFJb"
      },
      "source": [
        "---\n",
        "\n",
        "## Part 3: Natural Language Processing [Suggested Time: 20 minutes]\n",
        "\n",
        "---\n",
        "\n",
        "In this third section we will attempt to classify text messages as \"SPAM\" or \"HAM\" using TF-IDF Vectorization."
      ]
    },
    {
      "cell_type": "code",
      "execution_count": null,
      "metadata": {
        "deletable": false,
        "editable": false,
        "nbgrader": {
          "cell_type": "code",
          "checksum": "6e280fad293a59c134ff075d67a01dd2",
          "grade": false,
          "grade_id": "cell-2bcac79fa0ec69f4",
          "locked": true,
          "schema_version": 3,
          "solution": false,
          "task": false
        },
        "id": "85UVNFJPSFJb",
        "colab": {
          "base_uri": "https://localhost:8080/"
        },
        "outputId": "0fb44fff-55af-4a4d-c68d-038a6aea3de7"
      },
      "outputs": [
        {
          "output_type": "stream",
          "name": "stdout",
          "text": [
            "     v1                                                 v2  target\n",
            "0   ham  Go until jurong point, crazy.. Available only ...       0\n",
            "1   ham                      Ok lar... Joking wif u oni...       0\n",
            "2  spam  Free entry in 2 a wkly comp to win FA Cup fina...       1\n",
            "3   ham  U dun say so early hor... U c already then say...       0\n",
            "4   ham  Nah I don't think he goes to usf, he lives aro...       0\n"
          ]
        },
        {
          "output_type": "stream",
          "name": "stderr",
          "text": [
            "[nltk_data] Downloading package stopwords to /root/nltk_data...\n",
            "[nltk_data]   Package stopwords is already up-to-date!\n"
          ]
        }
      ],
      "source": [
        "# Run this cell without changes\n",
        "\n",
        "# Import necessary libraries\n",
        "from sklearn.preprocessing import LabelEncoder\n",
        "from sklearn.ensemble import RandomForestClassifier\n",
        "from sklearn.feature_extraction.text import TfidfVectorizer\n",
        "import string\n",
        "import nltk\n",
        "from nltk.corpus import stopwords\n",
        "from nltk import word_tokenize\n",
        "\n",
        "# Generate a list of stopwords\n",
        "nltk.download('stopwords')\n",
        "stops = stopwords.words('english') + list(string.punctuation)\n",
        "\n",
        "# Read in data\n",
        "df_messages = pd.read_csv('/content/spam.csv', usecols=[0,1])\n",
        "\n",
        "# Convert string labels to 1 or 0\n",
        "le = LabelEncoder()\n",
        "df_messages['target'] = le.fit_transform(df_messages['v1'])\n",
        "\n",
        "# Examine our data\n",
        "print(df_messages.head())\n",
        "\n",
        "# Separate features and labels\n",
        "X = df_messages['v2']\n",
        "y = df_messages['target']\n",
        "\n",
        "# Create test and train datasets\n",
        "X_train, X_test, y_train, y_test = train_test_split(X, y, test_size = 0.5, random_state=1)"
      ]
    },
    {
      "cell_type": "markdown",
      "metadata": {
        "deletable": false,
        "editable": false,
        "nbgrader": {
          "cell_type": "markdown",
          "checksum": "6f657e49c1c6a4344eb259ce9683fd81",
          "grade": false,
          "grade_id": "cell-fdb9d8950abce1f2",
          "locked": true,
          "schema_version": 3,
          "solution": false,
          "task": false
        },
        "id": "MkZNMoMsSFJb"
      },
      "source": [
        "### 3.1) Create CSR matrices `tf_idf_train` and `tf_idf_test` by using a `TfidfVectorizer` with stop word list `stops` to vectorize `X_train` and `X_test`, respectively.\n",
        "\n",
        "Besides using the stop word list, use paramater defaults for your TfidfVectorizer. Refer to the documentation about [TfidfVectorizer](https://scikit-learn.org/stable/modules/generated/sklearn.feature_extraction.text.TfidfVectorizer.html)."
      ]
    },
    {
      "cell_type": "markdown",
      "metadata": {
        "deletable": false,
        "editable": false,
        "nbgrader": {
          "cell_type": "markdown",
          "checksum": "9d30b6fbb3833850efcf28cc023e5c02",
          "grade": false,
          "grade_id": "cell-01f4a0cd5f6b22f8",
          "locked": true,
          "schema_version": 3,
          "solution": false,
          "task": false
        },
        "id": "41gQS2m-SFJc"
      },
      "source": [
        "**Starter Code**\n",
        "\n",
        "    vectorizer =\n",
        "\n",
        "    tf_idf_train =\n",
        "\n",
        "    tf_idf_test ="
      ]
    },
    {
      "cell_type": "code",
      "execution_count": null,
      "metadata": {
        "deletable": false,
        "nbgrader": {
          "cell_type": "code",
          "checksum": "5ef56aa240fea9fa603264218c6e6e22",
          "grade": false,
          "grade_id": "cell-3264fcb18480a130",
          "locked": false,
          "schema_version": 3,
          "solution": true,
          "task": false
        },
        "id": "xfK-hiaiSFJc"
      },
      "outputs": [],
      "source": [
        "# YOUR CODE HERE\n",
        "#Initialize the TfidfVectorizer with the provided stop words (to exclude stop words)\n",
        "vectorizer = TfidfVectorizer(stop_words=stops)\n",
        "\n",
        "#fit the vectorizer to the training data and transform it to a TF-IDF weighted matrix\n",
        "tf_idf_train = vectorizer.fit_transform(X_train)\n",
        "\n",
        "#Transform the test data to a TF-IDF weighted matrix using the same vectorizer\n",
        "tf_idf_test = vectorizer.transform(X_test)"
      ]
    },
    {
      "cell_type": "code",
      "execution_count": null,
      "metadata": {
        "deletable": false,
        "editable": false,
        "nbgrader": {
          "cell_type": "code",
          "checksum": "c614bab2c73debaebeca726d2f9d1586",
          "grade": true,
          "grade_id": "cell-d476e4cbd2338d12",
          "locked": true,
          "points": 1,
          "schema_version": 3,
          "solution": false,
          "task": false
        },
        "id": "9Q4SNhN-SFJc",
        "colab": {
          "base_uri": "https://localhost:8080/"
        },
        "outputId": "9fbbf516-3ba9-47a0-f5f3-d85d181940c0"
      },
      "outputs": [
        {
          "output_type": "stream",
          "name": "stderr",
          "text": [
            "<ipython-input-15-2a312fd77108>:3: DeprecationWarning: Please use `csr_matrix` from the `scipy.sparse` namespace, the `scipy.sparse.csr` namespace is deprecated.\n",
            "  assert type(tf_idf_train) == scipy.sparse.csr.csr_matrix\n",
            "<ipython-input-15-2a312fd77108>:4: DeprecationWarning: Please use `csr_matrix` from the `scipy.sparse` namespace, the `scipy.sparse.csr` namespace is deprecated.\n",
            "  assert type(tf_idf_test) == scipy.sparse.csr.csr_matrix\n"
          ]
        }
      ],
      "source": [
        "# These tests confirm that you have created CSR matrices tf_idf_train and tf_idf_test\n",
        "\n",
        "assert type(tf_idf_train) == scipy.sparse.csr.csr_matrix\n",
        "assert type(tf_idf_test) == scipy.sparse.csr.csr_matrix\n"
      ]
    },
    {
      "cell_type": "markdown",
      "metadata": {
        "deletable": false,
        "editable": false,
        "nbgrader": {
          "cell_type": "markdown",
          "checksum": "e4ed5820649908c8852d2565654e84fb",
          "grade": false,
          "grade_id": "cell-4c0469e57522c867",
          "locked": true,
          "schema_version": 3,
          "solution": false,
          "task": false
        },
        "id": "5L7-PdiLSFJc"
      },
      "source": [
        "### 3.2) Create an array `y_preds` containing predictions from an untuned `RandomForestClassifier` that uses `tf_idf_train` and `tf_idf_test`.\n",
        "\n",
        "Use parameter defaults with `random_state=1` for your classifier. Refer to the documentation on [RandomForestClassifier](https://scikit-learn.org/stable/modules/generated/sklearn.ensemble.RandomForestClassifier.html)."
      ]
    },
    {
      "cell_type": "markdown",
      "metadata": {
        "deletable": false,
        "editable": false,
        "nbgrader": {
          "cell_type": "markdown",
          "checksum": "f73f6a2ef552e731a5f0034fa7c0cbeb",
          "grade": false,
          "grade_id": "cell-8b45b5691fce29ee",
          "locked": true,
          "schema_version": 3,
          "solution": false,
          "task": false
        },
        "id": "hHNYh7C_SFJc"
      },
      "source": [
        "**Starter Code**\n",
        "\n",
        "    classifier =\n",
        "    \n",
        "    y_preds ="
      ]
    },
    {
      "cell_type": "code",
      "execution_count": null,
      "metadata": {
        "deletable": false,
        "nbgrader": {
          "cell_type": "code",
          "checksum": "03c7228616c077ddc4dd8e625d04ca1a",
          "grade": false,
          "grade_id": "cell-1c67dcca8a8a6bac",
          "locked": false,
          "schema_version": 3,
          "solution": true,
          "task": false
        },
        "id": "yPxXPwLiSFJc"
      },
      "outputs": [],
      "source": [
        "# YOUR CODE HERE\n",
        "#Initialize the RandomForestClassifier with random_state = 1\n",
        "\n",
        "classifier = RandomForestClassifier(random_state=1)\n",
        "\n",
        "#fit the classifier to the training data\n",
        "classifier.fit(tf_idf_train, y_train)\n",
        "\n",
        "#predict the labels for the test data\n",
        "y_preds = classifier.predict(tf_idf_test)"
      ]
    },
    {
      "cell_type": "code",
      "source": [
        "# Assuming you have 'vectorizer' and 'tf_idf_test' defined from previous steps\n",
        "# and you want to analyze a specific document index, say index 0\n",
        "\n",
        "# Convert the sparse matrix row for the specific document into a dense format\n",
        "dense_row = tf_idf_test[0].todense()\n",
        "\n",
        "# Get the index of the max TF-IDF value in the row\n",
        "max_index = dense_row.argmax()\n",
        "\n",
        "# Retrieve the feature names from the vectorizer (i.e., the words)\n",
        "feature_names = vectorizer.get_feature_names_out()\n",
        "\n",
        "# Get the word with the highest TF-IDF value using the index\n",
        "word_with_highest_tfidf = feature_names[max_index]\n",
        "\n",
        "print(\"Word with the highest TF-IDF value:\", word_with_highest_tfidf)"
      ],
      "metadata": {
        "colab": {
          "base_uri": "https://localhost:8080/"
        },
        "id": "rEYM866G6m2u",
        "outputId": "38bf9c71-1ed0-43f3-e143-90da190f2a02"
      },
      "execution_count": null,
      "outputs": [
        {
          "output_type": "stream",
          "name": "stdout",
          "text": [
            "Word with the highest TF-IDF value: regards\n"
          ]
        }
      ]
    },
    {
      "cell_type": "code",
      "execution_count": null,
      "metadata": {
        "deletable": false,
        "editable": false,
        "nbgrader": {
          "cell_type": "code",
          "checksum": "830fc8a998f2471b68b1ebebd0e80a71",
          "grade": true,
          "grade_id": "cell-42276c020025d2fa",
          "locked": true,
          "points": 1,
          "schema_version": 3,
          "solution": false,
          "task": false
        },
        "id": "Iibi_b_WSFJg"
      },
      "outputs": [],
      "source": [
        "# This test confirms that you have created an array named y_preds\n",
        "\n",
        "assert type(y_preds) == np.ndarray\n"
      ]
    },
    {
      "cell_type": "markdown",
      "metadata": {
        "deletable": false,
        "editable": false,
        "nbgrader": {
          "cell_type": "markdown",
          "checksum": "8c07e6703da9216406d8da6c3e56be1e",
          "grade": false,
          "grade_id": "cell-18c4bf3c4e9875a2",
          "locked": true,
          "schema_version": 3,
          "solution": false,
          "task": false
        },
        "id": "a9ohj5_3SFJg"
      },
      "source": [
        "### 3.3) Short Answer: What would it mean if the word \"genuine\" had the highest TF-IDF value of all words in one document from our test data?"
      ]
    },
    {
      "cell_type": "markdown",
      "metadata": {
        "deletable": false,
        "nbgrader": {
          "cell_type": "markdown",
          "checksum": "9b27cb081ba777b9060a18a35beb69c7",
          "grade": true,
          "grade_id": "cell-6bd56c1b7aa7334b",
          "locked": false,
          "points": 1,
          "schema_version": 3,
          "solution": true,
          "task": false
        },
        "id": "uDdpXll5SFJg"
      },
      "source": [
        "A high TF-IDF value for the word \"genuine\" means that this word has a high term frequency within that specific document (i.e. occurs a lot within that specific document) and a low document frequency (it doesn't occur very often across all documents in the corpus). This therefore means that the word genuine is unique to the particular document and can be a good discriminator for this document from other documents."
      ]
    },
    {
      "cell_type": "markdown",
      "metadata": {
        "deletable": false,
        "editable": false,
        "nbgrader": {
          "cell_type": "markdown",
          "checksum": "8c467bc1bfbe7e823bca441b9a5d17c7",
          "grade": false,
          "grade_id": "cell-f190415dece92737",
          "locked": true,
          "schema_version": 3,
          "solution": false,
          "task": false
        },
        "id": "2Wqi0CjQSFJg"
      },
      "source": [
        "---\n",
        "\n",
        "## Part 4: Time Series [Suggested Time: 20 minutes]\n",
        "\n",
        "---\n",
        "In this part you will analyze the price of one stock over time. Each row of the dataset has four prices tracked for each day:\n",
        "\n",
        "* Open: The price when the market opens.\n",
        "* High: The highest price over the course of the day.\n",
        "* Low: The lowest price over the course of the day.\n",
        "* Close: The price when the market closes.\n",
        "\n",
        "<!---Create stock_df and save as .pkl\n",
        "stocks_df = pd.read_csv(\"raw_data/all_stocks_5yr.csv\")\n",
        "stocks_df[\"clean_date\"] = pd.to_datetime(stocks_df[\"date\"], format=\"%Y-%m-%d\")\n",
        "stocks_df.drop([\"date\", \"clean_date\", \"volume\", \"Name\"], axis=1, inplace=True)\n",
        "stocks_df.rename(columns={\"string_date\": \"date\"}, inplace=True)\n",
        "pickle.dump(stocks_df, open(\"write_data/all_stocks_5yr.pkl\", \"wb\"))\n",
        "--->"
      ]
    },
    {
      "cell_type": "code",
      "execution_count": null,
      "metadata": {
        "deletable": false,
        "editable": false,
        "nbgrader": {
          "cell_type": "code",
          "checksum": "e4f9fb4eebdbf6e5aab156c22d63de89",
          "grade": false,
          "grade_id": "cell-fd9493a8ea890a36",
          "locked": true,
          "schema_version": 3,
          "solution": false,
          "task": false
        },
        "id": "NKBvpfFDSFJh",
        "colab": {
          "base_uri": "https://localhost:8080/",
          "height": 206
        },
        "outputId": "7586b222-189a-4dc2-ebaa-7c26ba053a82"
      },
      "outputs": [
        {
          "output_type": "execute_result",
          "data": {
            "text/plain": [
              "    open   high    low  close               date\n",
              "0  15.07  15.12  14.63  14.75  February 08, 2013\n",
              "1  14.89  15.01  14.26  14.46  February 11, 2013\n",
              "2  14.45  14.51  14.10  14.27  February 12, 2013\n",
              "3  14.30  14.94  14.25  14.66  February 13, 2013\n",
              "4  14.94  14.96  13.16  13.99  February 14, 2013"
            ],
            "text/html": [
              "\n",
              "  <div id=\"df-04b0bc27-4d2b-4be6-b68b-16ebfd3ed447\" class=\"colab-df-container\">\n",
              "    <div>\n",
              "<style scoped>\n",
              "    .dataframe tbody tr th:only-of-type {\n",
              "        vertical-align: middle;\n",
              "    }\n",
              "\n",
              "    .dataframe tbody tr th {\n",
              "        vertical-align: top;\n",
              "    }\n",
              "\n",
              "    .dataframe thead th {\n",
              "        text-align: right;\n",
              "    }\n",
              "</style>\n",
              "<table border=\"1\" class=\"dataframe\">\n",
              "  <thead>\n",
              "    <tr style=\"text-align: right;\">\n",
              "      <th></th>\n",
              "      <th>open</th>\n",
              "      <th>high</th>\n",
              "      <th>low</th>\n",
              "      <th>close</th>\n",
              "      <th>date</th>\n",
              "    </tr>\n",
              "  </thead>\n",
              "  <tbody>\n",
              "    <tr>\n",
              "      <th>0</th>\n",
              "      <td>15.07</td>\n",
              "      <td>15.12</td>\n",
              "      <td>14.63</td>\n",
              "      <td>14.75</td>\n",
              "      <td>February 08, 2013</td>\n",
              "    </tr>\n",
              "    <tr>\n",
              "      <th>1</th>\n",
              "      <td>14.89</td>\n",
              "      <td>15.01</td>\n",
              "      <td>14.26</td>\n",
              "      <td>14.46</td>\n",
              "      <td>February 11, 2013</td>\n",
              "    </tr>\n",
              "    <tr>\n",
              "      <th>2</th>\n",
              "      <td>14.45</td>\n",
              "      <td>14.51</td>\n",
              "      <td>14.10</td>\n",
              "      <td>14.27</td>\n",
              "      <td>February 12, 2013</td>\n",
              "    </tr>\n",
              "    <tr>\n",
              "      <th>3</th>\n",
              "      <td>14.30</td>\n",
              "      <td>14.94</td>\n",
              "      <td>14.25</td>\n",
              "      <td>14.66</td>\n",
              "      <td>February 13, 2013</td>\n",
              "    </tr>\n",
              "    <tr>\n",
              "      <th>4</th>\n",
              "      <td>14.94</td>\n",
              "      <td>14.96</td>\n",
              "      <td>13.16</td>\n",
              "      <td>13.99</td>\n",
              "      <td>February 14, 2013</td>\n",
              "    </tr>\n",
              "  </tbody>\n",
              "</table>\n",
              "</div>\n",
              "    <div class=\"colab-df-buttons\">\n",
              "\n",
              "  <div class=\"colab-df-container\">\n",
              "    <button class=\"colab-df-convert\" onclick=\"convertToInteractive('df-04b0bc27-4d2b-4be6-b68b-16ebfd3ed447')\"\n",
              "            title=\"Convert this dataframe to an interactive table.\"\n",
              "            style=\"display:none;\">\n",
              "\n",
              "  <svg xmlns=\"http://www.w3.org/2000/svg\" height=\"24px\" viewBox=\"0 -960 960 960\">\n",
              "    <path d=\"M120-120v-720h720v720H120Zm60-500h600v-160H180v160Zm220 220h160v-160H400v160Zm0 220h160v-160H400v160ZM180-400h160v-160H180v160Zm440 0h160v-160H620v160ZM180-180h160v-160H180v160Zm440 0h160v-160H620v160Z\"/>\n",
              "  </svg>\n",
              "    </button>\n",
              "\n",
              "  <style>\n",
              "    .colab-df-container {\n",
              "      display:flex;\n",
              "      gap: 12px;\n",
              "    }\n",
              "\n",
              "    .colab-df-convert {\n",
              "      background-color: #E8F0FE;\n",
              "      border: none;\n",
              "      border-radius: 50%;\n",
              "      cursor: pointer;\n",
              "      display: none;\n",
              "      fill: #1967D2;\n",
              "      height: 32px;\n",
              "      padding: 0 0 0 0;\n",
              "      width: 32px;\n",
              "    }\n",
              "\n",
              "    .colab-df-convert:hover {\n",
              "      background-color: #E2EBFA;\n",
              "      box-shadow: 0px 1px 2px rgba(60, 64, 67, 0.3), 0px 1px 3px 1px rgba(60, 64, 67, 0.15);\n",
              "      fill: #174EA6;\n",
              "    }\n",
              "\n",
              "    .colab-df-buttons div {\n",
              "      margin-bottom: 4px;\n",
              "    }\n",
              "\n",
              "    [theme=dark] .colab-df-convert {\n",
              "      background-color: #3B4455;\n",
              "      fill: #D2E3FC;\n",
              "    }\n",
              "\n",
              "    [theme=dark] .colab-df-convert:hover {\n",
              "      background-color: #434B5C;\n",
              "      box-shadow: 0px 1px 3px 1px rgba(0, 0, 0, 0.15);\n",
              "      filter: drop-shadow(0px 1px 2px rgba(0, 0, 0, 0.3));\n",
              "      fill: #FFFFFF;\n",
              "    }\n",
              "  </style>\n",
              "\n",
              "    <script>\n",
              "      const buttonEl =\n",
              "        document.querySelector('#df-04b0bc27-4d2b-4be6-b68b-16ebfd3ed447 button.colab-df-convert');\n",
              "      buttonEl.style.display =\n",
              "        google.colab.kernel.accessAllowed ? 'block' : 'none';\n",
              "\n",
              "      async function convertToInteractive(key) {\n",
              "        const element = document.querySelector('#df-04b0bc27-4d2b-4be6-b68b-16ebfd3ed447');\n",
              "        const dataTable =\n",
              "          await google.colab.kernel.invokeFunction('convertToInteractive',\n",
              "                                                    [key], {});\n",
              "        if (!dataTable) return;\n",
              "\n",
              "        const docLinkHtml = 'Like what you see? Visit the ' +\n",
              "          '<a target=\"_blank\" href=https://colab.research.google.com/notebooks/data_table.ipynb>data table notebook</a>'\n",
              "          + ' to learn more about interactive tables.';\n",
              "        element.innerHTML = '';\n",
              "        dataTable['output_type'] = 'display_data';\n",
              "        await google.colab.output.renderOutput(dataTable, element);\n",
              "        const docLink = document.createElement('div');\n",
              "        docLink.innerHTML = docLinkHtml;\n",
              "        element.appendChild(docLink);\n",
              "      }\n",
              "    </script>\n",
              "  </div>\n",
              "\n",
              "\n",
              "<div id=\"df-fe67f167-5df6-4048-9140-3b7be9ff38f5\">\n",
              "  <button class=\"colab-df-quickchart\" onclick=\"quickchart('df-fe67f167-5df6-4048-9140-3b7be9ff38f5')\"\n",
              "            title=\"Suggest charts\"\n",
              "            style=\"display:none;\">\n",
              "\n",
              "<svg xmlns=\"http://www.w3.org/2000/svg\" height=\"24px\"viewBox=\"0 0 24 24\"\n",
              "     width=\"24px\">\n",
              "    <g>\n",
              "        <path d=\"M19 3H5c-1.1 0-2 .9-2 2v14c0 1.1.9 2 2 2h14c1.1 0 2-.9 2-2V5c0-1.1-.9-2-2-2zM9 17H7v-7h2v7zm4 0h-2V7h2v10zm4 0h-2v-4h2v4z\"/>\n",
              "    </g>\n",
              "</svg>\n",
              "  </button>\n",
              "\n",
              "<style>\n",
              "  .colab-df-quickchart {\n",
              "      --bg-color: #E8F0FE;\n",
              "      --fill-color: #1967D2;\n",
              "      --hover-bg-color: #E2EBFA;\n",
              "      --hover-fill-color: #174EA6;\n",
              "      --disabled-fill-color: #AAA;\n",
              "      --disabled-bg-color: #DDD;\n",
              "  }\n",
              "\n",
              "  [theme=dark] .colab-df-quickchart {\n",
              "      --bg-color: #3B4455;\n",
              "      --fill-color: #D2E3FC;\n",
              "      --hover-bg-color: #434B5C;\n",
              "      --hover-fill-color: #FFFFFF;\n",
              "      --disabled-bg-color: #3B4455;\n",
              "      --disabled-fill-color: #666;\n",
              "  }\n",
              "\n",
              "  .colab-df-quickchart {\n",
              "    background-color: var(--bg-color);\n",
              "    border: none;\n",
              "    border-radius: 50%;\n",
              "    cursor: pointer;\n",
              "    display: none;\n",
              "    fill: var(--fill-color);\n",
              "    height: 32px;\n",
              "    padding: 0;\n",
              "    width: 32px;\n",
              "  }\n",
              "\n",
              "  .colab-df-quickchart:hover {\n",
              "    background-color: var(--hover-bg-color);\n",
              "    box-shadow: 0 1px 2px rgba(60, 64, 67, 0.3), 0 1px 3px 1px rgba(60, 64, 67, 0.15);\n",
              "    fill: var(--button-hover-fill-color);\n",
              "  }\n",
              "\n",
              "  .colab-df-quickchart-complete:disabled,\n",
              "  .colab-df-quickchart-complete:disabled:hover {\n",
              "    background-color: var(--disabled-bg-color);\n",
              "    fill: var(--disabled-fill-color);\n",
              "    box-shadow: none;\n",
              "  }\n",
              "\n",
              "  .colab-df-spinner {\n",
              "    border: 2px solid var(--fill-color);\n",
              "    border-color: transparent;\n",
              "    border-bottom-color: var(--fill-color);\n",
              "    animation:\n",
              "      spin 1s steps(1) infinite;\n",
              "  }\n",
              "\n",
              "  @keyframes spin {\n",
              "    0% {\n",
              "      border-color: transparent;\n",
              "      border-bottom-color: var(--fill-color);\n",
              "      border-left-color: var(--fill-color);\n",
              "    }\n",
              "    20% {\n",
              "      border-color: transparent;\n",
              "      border-left-color: var(--fill-color);\n",
              "      border-top-color: var(--fill-color);\n",
              "    }\n",
              "    30% {\n",
              "      border-color: transparent;\n",
              "      border-left-color: var(--fill-color);\n",
              "      border-top-color: var(--fill-color);\n",
              "      border-right-color: var(--fill-color);\n",
              "    }\n",
              "    40% {\n",
              "      border-color: transparent;\n",
              "      border-right-color: var(--fill-color);\n",
              "      border-top-color: var(--fill-color);\n",
              "    }\n",
              "    60% {\n",
              "      border-color: transparent;\n",
              "      border-right-color: var(--fill-color);\n",
              "    }\n",
              "    80% {\n",
              "      border-color: transparent;\n",
              "      border-right-color: var(--fill-color);\n",
              "      border-bottom-color: var(--fill-color);\n",
              "    }\n",
              "    90% {\n",
              "      border-color: transparent;\n",
              "      border-bottom-color: var(--fill-color);\n",
              "    }\n",
              "  }\n",
              "</style>\n",
              "\n",
              "  <script>\n",
              "    async function quickchart(key) {\n",
              "      const quickchartButtonEl =\n",
              "        document.querySelector('#' + key + ' button');\n",
              "      quickchartButtonEl.disabled = true;  // To prevent multiple clicks.\n",
              "      quickchartButtonEl.classList.add('colab-df-spinner');\n",
              "      try {\n",
              "        const charts = await google.colab.kernel.invokeFunction(\n",
              "            'suggestCharts', [key], {});\n",
              "      } catch (error) {\n",
              "        console.error('Error during call to suggestCharts:', error);\n",
              "      }\n",
              "      quickchartButtonEl.classList.remove('colab-df-spinner');\n",
              "      quickchartButtonEl.classList.add('colab-df-quickchart-complete');\n",
              "    }\n",
              "    (() => {\n",
              "      let quickchartButtonEl =\n",
              "        document.querySelector('#df-fe67f167-5df6-4048-9140-3b7be9ff38f5 button');\n",
              "      quickchartButtonEl.style.display =\n",
              "        google.colab.kernel.accessAllowed ? 'block' : 'none';\n",
              "    })();\n",
              "  </script>\n",
              "</div>\n",
              "\n",
              "    </div>\n",
              "  </div>\n"
            ],
            "application/vnd.google.colaboratory.intrinsic+json": {
              "type": "dataframe",
              "variable_name": "stocks_df",
              "summary": "{\n  \"name\": \"stocks_df\",\n  \"rows\": 50164,\n  \"fields\": [\n    {\n      \"column\": \"open\",\n      \"properties\": {\n        \"dtype\": \"number\",\n        \"std\": 104.43463974152043,\n        \"min\": 1.62,\n        \"max\": 1477.39,\n        \"num_unique_values\": 18173,\n        \"samples\": [\n          79.21,\n          307.85,\n          81.26\n        ],\n        \"semantic_type\": \"\",\n        \"description\": \"\"\n      }\n    },\n    {\n      \"column\": \"high\",\n      \"properties\": {\n        \"dtype\": \"number\",\n        \"std\": 105.36188903223666,\n        \"min\": 1.69,\n        \"max\": 1498.0,\n        \"num_unique_values\": 21877,\n        \"samples\": [\n          93.49,\n          115.4497,\n          98.19\n        ],\n        \"semantic_type\": \"\",\n        \"description\": \"\"\n      }\n    },\n    {\n      \"column\": \"low\",\n      \"properties\": {\n        \"dtype\": \"number\",\n        \"std\": 103.38757171684829,\n        \"min\": 1.61,\n        \"max\": 1450.04,\n        \"num_unique_values\": 21720,\n        \"samples\": [\n          60.26,\n          90.6,\n          2.77\n        ],\n        \"semantic_type\": \"\",\n        \"description\": \"\"\n      }\n    },\n    {\n      \"column\": \"close\",\n      \"properties\": {\n        \"dtype\": \"number\",\n        \"std\": 104.42599294354899,\n        \"min\": 1.62,\n        \"max\": 1450.89,\n        \"num_unique_values\": 18678,\n        \"samples\": [\n          48.45,\n          122.73,\n          201.3\n        ],\n        \"semantic_type\": \"\",\n        \"description\": \"\"\n      }\n    },\n    {\n      \"column\": \"date\",\n      \"properties\": {\n        \"dtype\": \"object\",\n        \"num_unique_values\": 1259,\n        \"samples\": [\n          \"May 30, 2013\",\n          \"March 08, 2017\",\n          \"April 12, 2013\"\n        ],\n        \"semantic_type\": \"\",\n        \"description\": \"\"\n      }\n    }\n  ]\n}"
            }
          },
          "metadata": {},
          "execution_count": 19
        }
      ],
      "source": [
        "# Run this cell without changes\n",
        "\n",
        "stocks_df = pd.read_csv('/content/stocks_5yr.csv')\n",
        "stocks_df.head()"
      ]
    },
    {
      "cell_type": "markdown",
      "metadata": {
        "deletable": false,
        "editable": false,
        "nbgrader": {
          "cell_type": "markdown",
          "checksum": "09077a4b0611f9c784799122e7d1f6a8",
          "grade": false,
          "grade_id": "cell-f6bc3b15110435d3",
          "locked": true,
          "schema_version": 3,
          "solution": false,
          "task": false
        },
        "id": "PbSByUabSFJh"
      },
      "source": [
        "### 4.1) For `stocks_df`, create a DatetimeIndex from the `date` column.\n",
        "\n",
        "The resulting DataFrame should not have a `date` column, only `open`, `high`, `low`, and `close` columns.\n",
        "\n",
        "Hint: First convert the `date` column to Datetime datatype, then set it as the index."
      ]
    },
    {
      "cell_type": "markdown",
      "metadata": {
        "deletable": false,
        "editable": false,
        "nbgrader": {
          "cell_type": "markdown",
          "checksum": "5ccab41eb8aa8624bd22d6474cfca821",
          "grade": false,
          "grade_id": "cell-15921f7c4cf5e767",
          "locked": true,
          "schema_version": 3,
          "solution": false,
          "task": false
        },
        "id": "K5Vz2eTgSFJh"
      },
      "source": [
        "**Starter Code**\n",
        "\n",
        "    stocks_df['date'] ="
      ]
    },
    {
      "cell_type": "code",
      "execution_count": null,
      "metadata": {
        "deletable": false,
        "nbgrader": {
          "cell_type": "code",
          "checksum": "7403534c9359f13a3352ad060df4b223",
          "grade": false,
          "grade_id": "cell-b3a2ebc3411888dd",
          "locked": false,
          "schema_version": 3,
          "solution": true,
          "task": false
        },
        "id": "xyVaRThCSFJh"
      },
      "outputs": [],
      "source": [
        "# YOUR CODE HERE\n",
        "#convert the 'date' column to datetime datatype\n",
        "\n",
        "stocks_df['date'] = pd.to_datetime(stocks_df['date'])\n",
        "\n",
        "#set the 'date' column as the index of the DataFrame\n",
        "stocks_df.set_index('date', inplace = True)\n",
        "# Now stocks_df has the date as its index and contains only 'open', 'high', 'low', 'close' columns"
      ]
    },
    {
      "cell_type": "code",
      "execution_count": null,
      "metadata": {
        "deletable": false,
        "editable": false,
        "nbgrader": {
          "cell_type": "code",
          "checksum": "d160b9d6ec075cbe63907d6c5c59b9b1",
          "grade": true,
          "grade_id": "cell-8973f8f07577b152",
          "locked": true,
          "points": 1,
          "schema_version": 3,
          "solution": false,
          "task": false
        },
        "id": "vPcDFaYuSFJh"
      },
      "outputs": [],
      "source": [
        "# This test confirms that stocks_df has a DatetimeIndex\n",
        "\n",
        "assert type(stocks_df.index) == pd.core.indexes.datetimes.DatetimeIndex\n",
        "\n",
        "# This test confirms that stocks_df only has `open`, `high`, `low`, and `close` columns.\n",
        "\n",
        "assert list(stocks_df.columns) == ['open', 'high', 'low', 'close']\n"
      ]
    },
    {
      "cell_type": "markdown",
      "metadata": {
        "deletable": false,
        "editable": false,
        "nbgrader": {
          "cell_type": "markdown",
          "checksum": "8d133cb1e9eeaae38b1087fdda6a93f9",
          "grade": false,
          "grade_id": "cell-56237f4da08165ef",
          "locked": true,
          "schema_version": 3,
          "solution": false,
          "task": false
        },
        "id": "EAI9yl1MSFJh"
      },
      "source": [
        "### 4.2) Create a DataFrame `stocks_monthly_df` that resamples `stocks_df` each month with the 'MS' DateOffset to calculate the mean of the four features over each month.\n",
        "\n",
        "Refer to the [resample documentation](https://pandas.pydata.org/pandas-docs/stable/reference/api/pandas.DataFrame.resample.html)."
      ]
    },
    {
      "cell_type": "markdown",
      "metadata": {
        "deletable": false,
        "editable": false,
        "nbgrader": {
          "cell_type": "markdown",
          "checksum": "90d55db9a74bd1f8761086dfdfe01da8",
          "grade": false,
          "grade_id": "cell-24dbe2526545b9bb",
          "locked": true,
          "schema_version": 3,
          "solution": false,
          "task": false
        },
        "id": "2mjncbI8SFJh"
      },
      "source": [
        "**Starter Code**\n",
        "    \n",
        "    stocks_monthly_df ="
      ]
    },
    {
      "cell_type": "code",
      "execution_count": null,
      "metadata": {
        "deletable": false,
        "nbgrader": {
          "cell_type": "code",
          "checksum": "ccaf625e471e3641d2a6ebccbc2a9ffb",
          "grade": false,
          "grade_id": "cell-1e4c7106f0bc1b40",
          "locked": false,
          "schema_version": 3,
          "solution": true,
          "task": false
        },
        "id": "nFk3nr_uSFJh"
      },
      "outputs": [],
      "source": [
        "# YOUR CODE HERE\n",
        "#resample the data on a monthly basis and calculate the mean\n",
        "\n",
        "stocks_monthly_df = stocks_df.resample('MS').mean()"
      ]
    },
    {
      "cell_type": "code",
      "execution_count": null,
      "metadata": {
        "deletable": false,
        "editable": false,
        "nbgrader": {
          "cell_type": "code",
          "checksum": "776f80c7d9c3ab21fc4ca18ed7ca4cf0",
          "grade": true,
          "grade_id": "cell-7b5d8044aa480c6d",
          "locked": true,
          "points": 1,
          "schema_version": 3,
          "solution": false,
          "task": false
        },
        "id": "JV_xPoTtSFJh"
      },
      "outputs": [],
      "source": [
        "# This test confirms that you have created a DataFrame named stocks_monthly_df\n",
        "\n",
        "assert type(stocks_monthly_df) == pd.DataFrame\n",
        "\n",
        "# This test confirms that stocks_monthy_df has the correct dimensions\n",
        "\n",
        "assert stocks_monthly_df.shape == (61,4)\n"
      ]
    },
    {
      "cell_type": "markdown",
      "metadata": {
        "deletable": false,
        "editable": false,
        "nbgrader": {
          "cell_type": "markdown",
          "checksum": "736f2b6a953f7901bc91bfafcef1ba62",
          "grade": false,
          "grade_id": "cell-a33f13a6897659d2",
          "locked": true,
          "schema_version": 3,
          "solution": false,
          "task": false
        },
        "id": "k3wRII5xSFJh"
      },
      "source": [
        "### 4.3) Create a matplotlib figure `rolling_open_figure` containing a line graph that visualizes the rolling quarterly mean of open prices from `stocks_monthly_df`.\n",
        "\n",
        "You will use this graph to determine whether the average monthly open stock price is stationary or not.\n",
        "\n",
        "Hint: use a window size of 3 to represent one quarter of a year"
      ]
    },
    {
      "cell_type": "markdown",
      "metadata": {
        "deletable": false,
        "editable": false,
        "nbgrader": {
          "cell_type": "markdown",
          "checksum": "b444b34b1462c55a1d409c3cad12448c",
          "grade": false,
          "grade_id": "cell-60d8542e250c354f",
          "locked": true,
          "schema_version": 3,
          "solution": false,
          "task": false
        },
        "id": "i3S_yxQjSFJh"
      },
      "source": [
        "**Starter Code**\n",
        "\n",
        "    rolling_open_figure, ax = plt.subplots(figsize=(10, 6))"
      ]
    },
    {
      "cell_type": "code",
      "execution_count": null,
      "metadata": {
        "deletable": false,
        "nbgrader": {
          "cell_type": "code",
          "checksum": "515795ad62e2e4b757dbbb7c55724158",
          "grade": false,
          "grade_id": "cell-f344ba7aee18bd8d",
          "locked": false,
          "schema_version": 3,
          "solution": true,
          "task": false
        },
        "id": "ovc4F9MsSFJi",
        "colab": {
          "base_uri": "https://localhost:8080/",
          "height": 564
        },
        "outputId": "6f69aefa-7149-43e8-d7ef-cbc3e2450560"
      },
      "outputs": [
        {
          "output_type": "display_data",
          "data": {
            "text/plain": [
              "<Figure size 1000x600 with 1 Axes>"
            ],
            "image/png": "[encoded data removed]"
          },
          "metadata": {}
        }
      ],
      "source": [
        "# YOUR CODE HERE\n",
        "import matplotlib.pyplot as plt\n",
        "\n",
        "# create a figure and axes object\n",
        "rolling_open_figure, ax = plt.subplots(figsize=(10,6))\n",
        "\n",
        "# calculate the rolling mean with a window of 3 months to represent a quarter of a year\n",
        "rolling_means = stocks_monthly_df['open'].rolling(window=3).mean()\n",
        "\n",
        "#plot the rolling mean\n",
        "ax.plot(rolling_means, label= 'Quarterly Rolling Mean of Open Prices')\n",
        "\n",
        "#Adding title and labels\n",
        "ax.set_title('Quarterly Rolling Mean of Monthly Open Stock Prices')\n",
        "ax.set_xlabel('Date')\n",
        "ax.set_ylabel('Open Price')\n",
        "\n",
        "#adding a legend\n",
        "ax.legend()\n",
        "\n",
        "#show the plot\n",
        "plt.show()"
      ]
    },
    {
      "cell_type": "code",
      "execution_count": null,
      "metadata": {
        "deletable": false,
        "editable": false,
        "nbgrader": {
          "cell_type": "code",
          "checksum": "5fdf730e60c378e1dde78ed09d60d231",
          "grade": true,
          "grade_id": "cell-a8ac339e855eb95d",
          "locked": true,
          "points": 1,
          "schema_version": 3,
          "solution": false,
          "task": false
        },
        "id": "uKhLRMRMSFJi"
      },
      "outputs": [],
      "source": [
        "# This test confirms that you have created a figure named rolling_open_figure\n",
        "\n",
        "assert type(rolling_open_figure) == plt.Figure\n",
        "\n",
        "# This test confirms that the figure contains exactly one axis\n",
        "\n",
        "assert len(rolling_open_figure.axes) == 1\n"
      ]
    },
    {
      "cell_type": "markdown",
      "metadata": {
        "deletable": false,
        "editable": false,
        "nbgrader": {
          "cell_type": "markdown",
          "checksum": "384cd6413dc64684c41dc9d955519cf7",
          "grade": false,
          "grade_id": "cell-0aef1dacb1d8361f",
          "locked": true,
          "schema_version": 3,
          "solution": false,
          "task": false
        },
        "id": "qEDDdxfdSFJi"
      },
      "source": [
        "### 4.4) Short Answer: Based on your graph from Question 4.3, does the monthly open stock price look stationary? Explain your answer."
      ]
    },
    {
      "cell_type": "markdown",
      "source": [
        "No, the monthly open stock price is not stationary bacause the graph displays a general upward trend in the quarterly rolling mean of the monthly open stock prices over the 5 year period."
      ],
      "metadata": {
        "id": "GvKbP2zZK-bG"
      }
    }
  ],
  "metadata": {
    "kernelspec": {
      "display_name": "Python (python3)",
      "language": "python",
      "name": "python3"
    },
    "language_info": {
      "codemirror_mode": {
        "name": "ipython",
        "version": 3
      },
      "file_extension": ".py",
      "mimetype": "text/x-python",
      "name": "python",
      "nbconvert_exporter": "python",
      "pygments_lexer": "ipython3",
      "version": "3.9.5"
    },
    "colab": {
      "provenance": [],
      "include_colab_link": true
    }
  },
  "nbformat": 4,
  "nbformat_minor": 0
}