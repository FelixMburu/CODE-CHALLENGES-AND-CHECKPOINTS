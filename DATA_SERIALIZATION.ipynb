{
  "cells": [
    {
      "cell_type": "markdown",
      "metadata": {
        "id": "view-in-github",
        "colab_type": "text"
      },
      "source": [
        "<a href=\"https://colab.research.google.com/github/FelixMburu/CODE-CHALLENGES-AND-CHECKPOINTS/blob/main/DATA_SERIALIZATION.ipynb\" target=\"_parent\"><img src=\"https://colab.research.google.com/assets/colab-badge.svg\" alt=\"Open In Colab\"/></a>"
      ]
    },
    {
      "cell_type": "markdown",
      "metadata": {
        "deletable": false,
        "editable": false,
        "nbgrader": {
          "cell_type": "markdown",
          "checksum": "ffa6e094108fe1030b6d11074af22bc7",
          "grade": false,
          "grade_id": "cell-9bfaf5568d5638d6",
          "locked": true,
          "schema_version": 3,
          "solution": false,
          "task": false
        },
        "id": "tA3Ajjw7Cng6"
      },
      "source": [
        "# Data Serialization Formats Checkpoint\n",
        "\n",
        "This checkpoint is designed to test your understanding of the content from the Data Serialization Formats Cumulative Lab.\n",
        "\n",
        "Specifically, this will cover:\n",
        "\n",
        "* Reading serialized CSV data from a file into a Python object\n",
        "* Extracting information from nested data structures\n",
        "\n",
        "## Your Task: Extract Frequency Counts for Education Levels from a CSV\n",
        "\n",
        "### Data Understanding\n",
        "\n",
        "In this repository under the file path `salaries.csv` there is a CSV data file containing salary and demographic information. When loaded into Python as a list of dictionaries, each dictionary looks something like this:\n",
        "\n",
        "```\n",
        "{\n",
        "  'Age':          '39',\n",
        "  'Education':    'E - Bachelors',\n",
        "  'Occupation':   'Adm-clerical',\n",
        "  'Relationship': 'Not-in-family',\n",
        "  'Race':         'White',\n",
        "  'Sex':          'Male',\n",
        "  'Target':       '<=50K'\n",
        " }\n",
        "```\n",
        "\n",
        "Most of this information is irrelevant for the current task; the one piece that you need to focus on is the `Education` key-value pair.\n",
        "\n",
        "Your task is to create a **frequency table** where the various education levels (values associated with the `Education` keys) are encoded as keys, and the frequencies of those education levels are encoded as values.\n",
        "\n",
        "### Requirements\n",
        "\n",
        "#### 1. Import the Relevant Module\n",
        "\n",
        "#### 2. Open the File and Create a List of Records\n",
        "\n",
        "#### 3. Identify the Unique Education Levels\n",
        "\n",
        "#### 4. Create a Frequency Table of Education Levels\n",
        "\n",
        "#### 5. Identify the Most Common Education Level"
      ]
    },
    {
      "cell_type": "markdown",
      "metadata": {
        "deletable": false,
        "editable": false,
        "nbgrader": {
          "cell_type": "markdown",
          "checksum": "76106c7a3c0dd2aa3950d3a5cc835773",
          "grade": false,
          "grade_id": "cell-429245ee422b9d51",
          "locked": true,
          "schema_version": 3,
          "solution": false,
          "task": false
        },
        "id": "ZhtEV7vOCng-"
      },
      "source": [
        "## 1. Import the Relevant Module\n",
        "\n",
        "In the cell below, import the module used for working with CSV data in Python:"
      ]
    },
    {
      "cell_type": "code",
      "execution_count": null,
      "metadata": {
        "deletable": false,
        "nbgrader": {
          "cell_type": "code",
          "checksum": "95680b5a782b91d07f68ba66c36953ab",
          "grade": false,
          "grade_id": "cell-c147f754df1614f5",
          "locked": false,
          "schema_version": 3,
          "solution": true,
          "task": false
        },
        "id": "autJ6GieCng_"
      },
      "outputs": [],
      "source": [
        "# YOUR CODE HERE\n",
        "import csv"
      ]
    },
    {
      "cell_type": "code",
      "execution_count": null,
      "metadata": {
        "deletable": false,
        "editable": false,
        "nbgrader": {
          "cell_type": "code",
          "checksum": "7224a40515d5d1b333e58c8fc5c5903d",
          "grade": true,
          "grade_id": "cell-e84ab604e6027b75",
          "locked": true,
          "points": 0.5,
          "schema_version": 3,
          "solution": false,
          "task": false
        },
        "id": "q6MPUddzCnhC"
      },
      "outputs": [],
      "source": [
        "# PUT ALL WORK FOR THE ABOVE QUESTION ABOVE THIS CELL\n",
        "# THIS UNALTERABLE CELL CONTAINS HIDDEN TESTS"
      ]
    },
    {
      "cell_type": "markdown",
      "metadata": {
        "deletable": false,
        "editable": false,
        "nbgrader": {
          "cell_type": "markdown",
          "checksum": "ce57847d180ea3160a236fa306425ba4",
          "grade": false,
          "grade_id": "cell-eb380d68993a5c41",
          "locked": true,
          "schema_version": 3,
          "solution": false,
          "task": false
        },
        "id": "SQRpzhzzCnhC"
      },
      "source": [
        "## 2. Open the File and Create a List of Records\n",
        "\n",
        "The file path is `salaries.csv`.\n",
        "\n",
        "Make sure you follow these steps with the specified variable names in order to pass all tests:\n",
        "\n",
        "1. Create a file object `salary_data_file` by opening the file with that path\n",
        "2. Instantiate a `DictReader` ([documentation here](https://docs.python.org/3/library/csv.html#csv.DictReader)) using that file object\n",
        "3. Cast the `DictReader` to a `list` and assign the result to `salary_data`\n",
        "4. Close the `salary_data_file`"
      ]
    },
    {
      "cell_type": "code",
      "source": [
        "# Replace None with appropriate code\n",
        "\n",
        "# Open the file\n",
        "# Instantiate a DictReader and create salary_data\n",
        "salary_data_file = '/content/salaries.csv'\n",
        "with open(salary_data_file) as f:\n",
        "  salary_data = list(csv.DictReader(f))\n",
        "\n",
        "# Close salary_data_file\n",
        "\n",
        "\n",
        "# Visually inspecting the first few records\n",
        "for record in salary_data[:5]:\n",
        "    print(record)\n"
      ],
      "metadata": {
        "colab": {
          "base_uri": "https://localhost:8080/"
        },
        "id": "MKO7WmWnylrN",
        "outputId": "58f14da7-8384-47f9-de83-d38ed1078377"
      },
      "execution_count": null,
      "outputs": [
        {
          "output_type": "stream",
          "name": "stdout",
          "text": [
            "{'Age': '39', 'Education': 'E - Bachelors', 'Occupation': 'Adm-clerical', 'Relationship': 'Not-in-family', 'Race': 'White', 'Sex': 'Male', 'Target': '<=50K'}\n",
            "{'Age': '50', 'Education': 'E - Bachelors', 'Occupation': 'Exec-managerial', 'Relationship': 'Husband', 'Race': 'White', 'Sex': 'Male', 'Target': '<=50K'}\n",
            "{'Age': '38', 'Education': 'B - HS Diploma', 'Occupation': 'Handlers-cleaners', 'Relationship': 'Not-in-family', 'Race': 'White', 'Sex': 'Male', 'Target': '<=50K'}\n",
            "{'Age': '53', 'Education': 'A - No HS Diploma', 'Occupation': 'Handlers-cleaners', 'Relationship': 'Husband', 'Race': 'Black', 'Sex': 'Male', 'Target': '<=50K'}\n",
            "{'Age': '28', 'Education': 'E - Bachelors', 'Occupation': 'Prof-specialty', 'Relationship': 'Wife', 'Race': 'Black', 'Sex': 'Female', 'Target': '<=50K'}\n"
          ]
        }
      ]
    },
    {
      "cell_type": "code",
      "execution_count": null,
      "metadata": {
        "deletable": false,
        "editable": false,
        "nbgrader": {
          "cell_type": "code",
          "checksum": "3e07d302da48ba3b5cd76ff3d216dd92",
          "grade": true,
          "grade_id": "cell-e95e687ed59c2de2",
          "locked": true,
          "points": 1,
          "schema_version": 3,
          "solution": false,
          "task": false
        },
        "id": "RBuxxY9bCnhD",
        "colab": {
          "base_uri": "https://localhost:8080/",
          "height": 256
        },
        "outputId": "6580437f-4595-47b2-be3c-420eca690a28"
      },
      "outputs": [
        {
          "output_type": "error",
          "ename": "NameError",
          "evalue": "name 'salary_data_file' is not defined",
          "traceback": [
            "\u001b[0;31m---------------------------------------------------------------------------\u001b[0m",
            "\u001b[0;31mNameError\u001b[0m                                 Traceback (most recent call last)",
            "\u001b[0;32m<ipython-input-3-15126aba4a36>\u001b[0m in \u001b[0;36m<cell line: 2>\u001b[0;34m()\u001b[0m\n\u001b[1;32m      1\u001b[0m \u001b[0;31m# Checking salary_data_file\u001b[0m\u001b[0;34m\u001b[0m\u001b[0;34m\u001b[0m\u001b[0m\n\u001b[0;32m----> 2\u001b[0;31m \u001b[0mtype\u001b[0m\u001b[0;34m(\u001b[0m\u001b[0msalary_data_file\u001b[0m\u001b[0;34m)\u001b[0m\u001b[0;34m\u001b[0m\u001b[0;34m\u001b[0m\u001b[0m\n\u001b[0m\u001b[1;32m      3\u001b[0m \u001b[0;34m\u001b[0m\u001b[0m\n\u001b[1;32m      4\u001b[0m \u001b[0;31m# PUT ALL WORK FOR THE ABOVE QUESTION ABOVE THIS CELL\u001b[0m\u001b[0;34m\u001b[0m\u001b[0;34m\u001b[0m\u001b[0m\n\u001b[1;32m      5\u001b[0m \u001b[0;31m# THIS UNALTERABLE CELL CONTAINS HIDDEN TESTS\u001b[0m\u001b[0;34m\u001b[0m\u001b[0;34m\u001b[0m\u001b[0m\n",
            "\u001b[0;31mNameError\u001b[0m: name 'salary_data_file' is not defined"
          ]
        }
      ],
      "source": [
        "# Checking salary_data_file\n",
        "assert type(salary_data_file) != None\n",
        "\n",
        "# PUT ALL WORK FOR THE ABOVE QUESTION ABOVE THIS CELL\n",
        "# THIS UNALTERABLE CELL CONTAINS HIDDEN TESTS"
      ]
    },
    {
      "cell_type": "code",
      "execution_count": null,
      "metadata": {
        "deletable": false,
        "editable": false,
        "nbgrader": {
          "cell_type": "code",
          "checksum": "9852c6f0c7f969ef5c2058456afd5181",
          "grade": true,
          "grade_id": "cell-1a44994220dfeb56",
          "locked": true,
          "points": 0.5,
          "schema_version": 3,
          "solution": false,
          "task": false
        },
        "id": "0ThQ04QbCnhD"
      },
      "outputs": [],
      "source": [
        "# Checking salary_data\n",
        "assert type(salary_data) == list\n",
        "\n",
        "# PUT ALL WORK FOR THE ABOVE QUESTION ABOVE THIS CELL\n",
        "# THIS UNALTERABLE CELL CONTAINS HIDDEN TESTS"
      ]
    },
    {
      "cell_type": "markdown",
      "metadata": {
        "deletable": false,
        "editable": false,
        "nbgrader": {
          "cell_type": "markdown",
          "checksum": "a2b7b8d2dc69df74aebd1a377d5467f2",
          "grade": false,
          "grade_id": "cell-d84f38e73f5ed982",
          "locked": true,
          "schema_version": 3,
          "solution": false,
          "task": false
        },
        "id": "k6PvgMBsCnhE"
      },
      "source": [
        "## 3. Identify the Unique Education Levels\n",
        "\n",
        "Create a list `unique_education_levels` that contains all unique values associated with the `Education` key in these records, in alphabetical order.\n",
        "\n",
        "***Hint:*** You'll need to loop over all records (dictionaries) in `salary_data` and find the value associated with the `Education` key for each\n",
        "\n",
        "***Hint:*** The `.sort` list method or `sorted` built-in function can be used to sort strings into alphabetical order. Note that `.sort` modifies the list in place and returns `None`, whereas `sorted` does not modify the list in place but returns a sorted version."
      ]
    },
    {
      "cell_type": "code",
      "execution_count": null,
      "metadata": {
        "deletable": false,
        "nbgrader": {
          "cell_type": "code",
          "checksum": "9c86256d752a45e778409d4f88eb6889",
          "grade": false,
          "grade_id": "cell-1515986a288add22",
          "locked": false,
          "schema_version": 3,
          "solution": true,
          "task": false
        },
        "id": "FatHhCotCnhE",
        "outputId": "9ead5fa4-e7ea-491f-d416-95756d03685e",
        "colab": {
          "base_uri": "https://localhost:8080/"
        }
      },
      "outputs": [
        {
          "output_type": "stream",
          "name": "stdout",
          "text": [
            "Unique Education Levels:\n",
            "['A - No HS Diploma', 'B - HS Diploma', 'C - Some College', 'D - Associates', 'E - Bachelors', 'F - Graduate Degree']\n"
          ]
        }
      ],
      "source": [
        "# Replace None with appropriate code (adding more lines as needed)\n",
        "\n",
        "# initialize an empty list\n",
        "unique_education_levels = []\n",
        "\n",
        "# YOUR CODE HERE\n",
        "\n",
        "for record in salary_data: #looping over each record in salary_data\n",
        "  education_level = record.get('Education') # get value assocaited with Education key\n",
        "  if education_level not in unique_education_levels:\n",
        "    unique_education_levels.append(education_level) #append the unique education level\n",
        "\n",
        "# sort the education levels alphabetically\n",
        "unique_education_levels.sort()\n",
        "\n",
        "print(\"Unique Education Levels:\")\n",
        "print(unique_education_levels)"
      ]
    },
    {
      "cell_type": "code",
      "execution_count": null,
      "metadata": {
        "deletable": false,
        "editable": false,
        "nbgrader": {
          "cell_type": "code",
          "checksum": "180753300736a4f2e3089f01f54f1293",
          "grade": true,
          "grade_id": "cell-bd814f2a81f3ac73",
          "locked": true,
          "points": 1,
          "schema_version": 3,
          "solution": false,
          "task": false
        },
        "id": "BcVSQA88CnhE"
      },
      "outputs": [],
      "source": [
        "# Checking unique_education_levels\n",
        "assert type(unique_education_levels) == list\n",
        "assert len(unique_education_levels) == 6\n",
        "\n",
        "# PUT ALL WORK FOR THE ABOVE QUESTION ABOVE THIS CELL\n",
        "# THIS UNALTERABLE CELL CONTAINS HIDDEN TESTS"
      ]
    },
    {
      "cell_type": "markdown",
      "metadata": {
        "deletable": false,
        "editable": false,
        "nbgrader": {
          "cell_type": "markdown",
          "checksum": "74de912024d5e0ee909d5f134a844ac9",
          "grade": false,
          "grade_id": "cell-93e48ec22dbc6122",
          "locked": true,
          "schema_version": 3,
          "solution": false,
          "task": false
        },
        "id": "OGbLH5hCCnhE"
      },
      "source": [
        "## 4. Create a Frequency Table of Education Levels\n",
        "\n",
        "Create a dictionary `education_level_frequencies` where the keys are the unique education levels found above, and the values are the number of times that the education level appeared in the full dataset.\n",
        "\n",
        "For example, the key `A - No HS Diploma` should have the associated value `4253`, since that education level appears 4,253 times in the dataset."
      ]
    },
    {
      "cell_type": "code",
      "execution_count": null,
      "metadata": {
        "deletable": false,
        "nbgrader": {
          "cell_type": "code",
          "checksum": "43255a38e136076e8760f3a5e938dded",
          "grade": false,
          "grade_id": "cell-fa6ba75af40e3f7b",
          "locked": false,
          "schema_version": 3,
          "solution": true,
          "task": false
        },
        "id": "QZcp9H09CnhF",
        "outputId": "b3fe6b5d-7f53-4496-ba42-8a9c1345d994",
        "colab": {
          "base_uri": "https://localhost:8080/"
        }
      },
      "outputs": [
        {
          "output_type": "stream",
          "name": "stdout",
          "text": [
            "The most common education level appears 3 times\n",
            "The least common education level appears 1 times\n"
          ]
        }
      ],
      "source": [
        "# Replace None with appropriate code (add more lines as needed)\n",
        "\n",
        "# initialize empty dictionary\n",
        "education_level_frequencies = {}\n",
        "\n",
        "# count the frequencies for each education level\n",
        "for level  in education_level:\n",
        "  if level in education_level_frequencies:\n",
        "    education_level_frequencies[level]+=1\n",
        "  else:\n",
        "    education_level_frequencies[level]= 1\n",
        "\n",
        "# Testing out your code\n",
        "print(\"The most common education level appears\", max(education_level_frequencies.values()), \"times\")\n",
        "print(\"The least common education level appears\", min(education_level_frequencies.values()), \"times\")"
      ]
    },
    {
      "cell_type": "code",
      "execution_count": null,
      "metadata": {
        "deletable": false,
        "editable": false,
        "nbgrader": {
          "cell_type": "code",
          "checksum": "f14860d87bcf151118805d5bb167a5c2",
          "grade": true,
          "grade_id": "cell-a0cdae6cd59456db",
          "locked": true,
          "points": 1,
          "schema_version": 3,
          "solution": false,
          "task": false
        },
        "id": "B8A8OPxtCnhF"
      },
      "outputs": [],
      "source": [
        "# Checking education_level_frequencies\n",
        "\n",
        "# Should be a dictionary overall\n",
        "assert type(education_level_frequencies) == dict\n",
        "\n",
        "x = list(education_level_frequencies.keys())\n",
        "height = list(education_level_frequencies.values())\n",
        "\n",
        "# Should have string keys\n",
        "assert type(x[0]) == str\n",
        "# Should have integer values\n",
        "assert type(height[0]) == int\n",
        "\n",
        "# This plotting code should work\n",
        "import matplotlib.pyplot as plt\n",
        "fig, ax = plt.subplots(figsize=(12, 5))\n",
        "ax.bar(x, height)\n",
        "ax.tick_params(axis='x', labelrotation=45)\n",
        "ax.set_title(\"Distribution of Education Levels\")\n",
        "ax.set_ylabel(\"Count\");\n",
        "\n",
        "# PUT ALL WORK FOR THE ABOVE QUESTION ABOVE THIS CELL\n",
        "# THIS UNALTERABLE CELL CONTAINS HIDDEN TESTS"
      ]
    },
    {
      "cell_type": "markdown",
      "metadata": {
        "deletable": false,
        "editable": false,
        "nbgrader": {
          "cell_type": "markdown",
          "checksum": "5682e99d66d50ccd4d660c5523cfb1ad",
          "grade": false,
          "grade_id": "cell-c27640e9b2facfdc",
          "locked": true,
          "schema_version": 3,
          "solution": false,
          "task": false
        },
        "id": "uFVoa21NCnhF"
      },
      "source": [
        "## 5. Identify the Most Common Education Level\n",
        "\n",
        "Based on the above graph, which education level is most common in this dataset?\n",
        "\n",
        "Set the value of the variable `most_common` to the string value of that education level. You can just type in the answer rather than finding this with code, but make sure that the test cell passes — it checks that your answer is one of the valid answers (hopefully helping you avoid a spelling mistake)."
      ]
    },
    {
      "cell_type": "code",
      "source": [
        "# Replace None with appropriate code\n",
        "most_common = max(education_level_frequencies, key=education_level_frequencies.get)\n",
        "\n",
        "# Print the result\n",
        "print(f\"The key with the maximum value is '{most_common}' with a value of {education_level_frequencies[most_common]}\")\n"
      ],
      "metadata": {
        "colab": {
          "base_uri": "https://localhost:8080/"
        },
        "id": "ZchHQrTtzf5i",
        "outputId": "329c35ce-d18e-48ee-9250-6918ec8266fd"
      },
      "execution_count": null,
      "outputs": [
        {
          "output_type": "stream",
          "name": "stdout",
          "text": [
            "The key with the maximum value is ' ' with a value of 3\n"
          ]
        }
      ]
    },
    {
      "cell_type": "code",
      "execution_count": null,
      "metadata": {
        "deletable": false,
        "editable": false,
        "nbgrader": {
          "cell_type": "code",
          "checksum": "dec38948d8070e3e59312d3a9f38315b",
          "grade": true,
          "grade_id": "cell-1d083772aa40150e",
          "locked": true,
          "points": 1,
          "schema_version": 3,
          "solution": false,
          "task": false
        },
        "id": "n-OcgVKkCnhG"
      },
      "outputs": [],
      "source": [
        "assert type(most_common) == str\n",
        "assert most_common in [\n",
        "    'A - No HS Diploma',\n",
        "    'B - HS Diploma',\n",
        "    'C - Some College',\n",
        "    'D - Associates',\n",
        "    'E - Bachelors',\n",
        "    'F - Graduate Degree'\n",
        "]\n",
        "\n",
        "# PUT ALL WORK FOR THE ABOVE QUESTION ABOVE THIS CELL\n",
        "# THIS UNALTERABLE CELL CONTAINS HIDDEN TESTS"
      ]
    }
  ],
  "metadata": {
    "kernelspec": {
      "display_name": "Python (python3)",
      "language": "python",
      "name": "python3"
    },
    "language_info": {
      "codemirror_mode": {
        "name": "ipython",
        "version": 3
      },
      "file_extension": ".py",
      "mimetype": "text/x-python",
      "name": "python",
      "nbconvert_exporter": "python",
      "pygments_lexer": "ipython3",
      "version": "3.9.5"
    },
    "colab": {
      "provenance": [],
      "include_colab_link": true
    }
  },
  "nbformat": 4,
  "nbformat_minor": 0
}